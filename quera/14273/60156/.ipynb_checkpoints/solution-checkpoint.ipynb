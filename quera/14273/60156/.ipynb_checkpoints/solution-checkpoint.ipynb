{
 "cells": [
  {
   "cell_type": "markdown",
   "metadata": {},
   "source": [
    "<div style=\"direction:rtl;line-height:300%;\">\n",
    "<div id=\"h1\" style=\"direction:rtl;line-height:300%;\">\n",
    "\t<font face=\"XB Zar\" size=5>\n",
    "<div align=center>\n",
    "\t\t</div>\n",
    "\t\t<hr/>\n",
    "\t\t<font color=#0f6d02 size=7>\n",
    "\t\t\t<br />\n",
    "\t\t\t<div align=center>\t\n",
    "درآمد خانواده\n",
    "</div>\n",
    "\t\t</font>\n",
    "        <br />"
   ]
  },
  {
   "cell_type": "markdown",
   "metadata": {},
   "source": [
    "<div dir = \"rtl\" style=\"direction:rtl;line-height:300%;\">\n",
    "\t<font face=\"XB Zar\" size=5>\n",
    "\t\t<font color=#FF7500 size=6>\n",
    "        </font>\n",
    "        <hr>\n",
    "داده‌ی درآمد خانوارهای نمونه شهری را برحسب ۱۰ بازه‌ی درآمدی که توسط مرکز آمار ایران منتشر شده در familydata.csv در اختیار داریم.          \n",
    "        <br>\n",
    "        ابتدا داده را با کتابخانه pandas می‌خوانیم و نگاهی به آن می‌اندازیم :\n",
    "    </font>\n",
    "</div>"
   ]
  },
  {
   "cell_type": "code",
   "execution_count": null,
   "metadata": {},
   "outputs": [],
   "source": [
    "import pandas as pd \n",
    "\n",
    "family_data = pd.read_csv(\"familydata.csv\")\n",
    "family_data"
   ]
  },
  {
   "cell_type": "markdown",
   "metadata": {},
   "source": [
    "<br>\n",
    "<div dir = \"rtl\" style=\"direction:rtl;line-height:300%;\">\n",
    "\t<font face=\"XB Zar\" size=5>\n",
    "       <li> \n",
    "           اگر خانوارهای با درآمد زیر ۱۰ میلیون در سال فقیر حساب شوند (صرفاً در این تمرین این معیار را اختراع کرده‌ایم.) آنگاه احتمال اینکه خانواده‌ای از بین کل خانوارها انتخاب کنیم و فقیر باشد چقدر است؟ (Y متغیر تصادفی فقیر بودن یا نبودن است. Y=1 یعنی فقیر) \n",
    "        </li>\n",
    "    </font>\n",
    "</div>\n",
    "\n"
   ]
  },
  {
   "cell_type": "markdown",
   "metadata": {},
   "source": [
    "<div dir = \"rtl\" style=\"direction:rtl;line-height:300%;\">\n",
    "\t<font face=\"XB Zar\" size=5>\n",
    "\t\t<font color=#95026b size=5>\n",
    "                  پاسخ:\n",
    "        </font>\n",
    "\t</font>\n",
    "</div>"
   ]
  },
  {
   "cell_type": "code",
   "execution_count": null,
   "metadata": {},
   "outputs": [],
   "source": [
    "family_data.iloc[2,:]\n",
    "P_Y = sum(family_data.iloc[0,:]['7.5':'7.5-10'])/family_data.iloc[0,:]['Population']\n",
    "P_Y"
   ]
  },
  {
   "cell_type": "markdown",
   "metadata": {},
   "source": [
    "<br>\n",
    "<div dir = \"rtl\" style=\"direction:rtl;line-height:300%;\">\n",
    "\t<font face=\"XB Zar\" size=5>\n",
    "       <li> \n",
    "حال این احتمال را برای تک تک استان‌ها حساب کنید.\n",
    "           <br>\n",
    "            برای این کار ستونی جدید با عنوان poor  که نشان‌دهنده‌ی تعداد خانوارهای فقیر هر استان است و ستونی با عنوان poor probability که نشان‌دهنده‌ی درصد خانوار فقیر به کلّ خانواده‌های هر استان است را اضافه می‌کنیم. به عبارت دیگر این ستون احتمال فقیر بودن به شرط سکونت (ضرب‌در ۱۰۰) در هر استان است.\n",
    "        </li>\n",
    "    </font>\n",
    "</div>\n",
    "\n"
   ]
  },
  {
   "cell_type": "markdown",
   "metadata": {},
   "source": [
    "<div dir = \"rtl\" style=\"direction:rtl;line-height:300%;\">\n",
    "\t<font face=\"XB Zar\" size=5>\n",
    "\t\t<font color=#95026b size=5>\n",
    "                  پاسخ:\n",
    "        </font>\n",
    "\t</font>\n",
    "</div>"
   ]
  },
  {
   "cell_type": "code",
   "execution_count": null,
   "metadata": {},
   "outputs": [],
   "source": [
    "family_data['poor'] = (family_data['7.5']+family_data['7.5-10'])\n",
    "family_data['poor probability'] = ((family_data['poor'])/family_data['Population'])*100\n",
    "family_data\n"
   ]
  },
  {
   "cell_type": "markdown",
   "metadata": {},
   "source": [
    "<br>\n",
    "<div dir = \"rtl\" style=\"direction:rtl;line-height:300%;\">\n",
    "\t<font face=\"XB Zar\" size=5>\n",
    "       <li> \n",
    "به نظر شما آیا احتمال فقیر بودن و ساکن چه استانی بودن مستقل از هم هستند؟\n",
    "        </li>\n",
    "        <li>\n",
    "            احتمال پیشامد توأم فقیر بودن و ساکن استان تهران بودن را بدست آورید. (P_tehranY)\n",
    "        </li>\n",
    "        <li>\n",
    "احتمال ساکن استان تهران بودن یعنی \n",
    "            $P(X=tehran)$\n",
    "             را بدست آورید. (P_tehran)\n",
    "</li>\n",
    "<li>\n",
    "احتمال فقیر بودن \n",
    "    $P(Y=1)$ را بالاتر بدست آوردیم و در \n",
    "   P_Y ریختیم. آیا احتمال توأم برابر حاصل ضرب احتمال ساکن تهران بودن و احتمال فقیر بودن می‌شود؟ \n",
    "</li>\n",
    "    </font>\n",
    "</div>\n",
    "\n"
   ]
  },
  {
   "cell_type": "markdown",
   "metadata": {},
   "source": [
    "<div dir = \"rtl\" style=\"direction:rtl;line-height:300%;\">\n",
    "\t<font face=\"XB Zar\" size=5>\n",
    "\t\t<font color=#95026b size=5>\n",
    "                  پاسخ:\n",
    "        </font>\n",
    "\t</font>\n",
    "</div>"
   ]
  },
  {
   "cell_type": "code",
   "execution_count": null,
   "metadata": {},
   "outputs": [],
   "source": [
    "P_tehranY = #ToDo\n",
    "P_tehran =  #ToDo\n",
    "P_tehranY\n",
    "\n"
   ]
  },
  {
   "cell_type": "code",
   "execution_count": null,
   "metadata": {},
   "outputs": [],
   "source": [
    "P_tehran*P_Y"
   ]
  },
  {
   "cell_type": "markdown",
   "metadata": {},
   "source": [
    "<br>\n",
    "<div dir = \"rtl\" style=\"direction:rtl;line-height:300%;\">\n",
    "\t<font face=\"XB Zar\" size=5>\n",
    "       <li> \n",
    "با استفاده از توزیع شرطی احتمال پیشامد آنکه اگر بدانیم فردی فقیر است و ساکن استان سیستان یا کرمان باشد چقدر است؟ (P_kermansistan)\n",
    "</li>\n",
    "        <li>\n",
    "            حال اگر بدانیم فردی فقیر است احتمال سکونت در استان های قزوین یا زنجان یا سمنان چقدر است؟ (P_Qazvinzanjansemnan)\n",
    "        </li>\n",
    "    </font>\n",
    "</div>\n",
    "\n"
   ]
  },
  {
   "cell_type": "markdown",
   "metadata": {},
   "source": [
    "<div dir = \"rtl\" style=\"direction:rtl;line-height:300%;\">\n",
    "\t<font face=\"XB Zar\" size=5>\n",
    "\t\t<font color=#95026b size=5>\n",
    "                  پاسخ:\n",
    "        </font>\n",
    "\t</font>\n",
    "</div>"
   ]
  },
  {
   "cell_type": "code",
   "execution_count": null,
   "metadata": {},
   "outputs": [],
   "source": [
    "P_kermansistan = ((sum(family_data[family_data['Provide']=='Kerman']['poor'])+sum(family_data[family_data['Provide']=='Sistan']['poor']))/family_data['Population'][0])/P_Y\n",
    "P_kermansistan"
   ]
  },
  {
   "cell_type": "code",
   "execution_count": null,
   "metadata": {},
   "outputs": [],
   "source": [
    "P_Qazvinzanjansemnan = #TODO"
   ]
  },
  {
   "cell_type": "markdown",
   "metadata": {},
   "source": [
    "<br>\n",
    "<div dir = \"rtl\" style=\"direction:rtl;line-height:300%;\">\n",
    "\t<font face=\"XB Zar\" size=5>\n",
    "       <li> \n",
    "        اگر بدانیم فردی در استان یزد زندگی می‌کند احتمال فقیر بودن آن تغییری مي‌کند؟ اگر خانوارهای با درآمد سالاته بالای ۴۸ میلیون \n",
    "        را ثروتمند بدانیم چه طور؟ (یعنی دانستن اینکه خانواده ساکن یزد است احتمال را تغییر می‌دهد؟)\n",
    "        <br>\n",
    "        همین مسئله را در بوشهر بررسی کنید. پس به طورکلی احتمالات زیر را بدست آورید:\n",
    "        </li>\n",
    "        <li>\n",
    "            اگر بدانیم خانواده ای ساکن یزد است احتمال فقیر بودن آن ($P(poor|X=yazd)$) چقدر است؟ (yazd_poor)\n",
    "        </li>\n",
    "        <li>\n",
    "            احتمال ثروت‌مند بودن آن خانواده($P(rich|X=yazd)$) چه‌طور؟ (yazd_rich) \n",
    "        </li>\n",
    "        <li>\n",
    "            اگر بدانیم خانواده‌ای ساکن بوشهر است احتمال فقیر بودن آن ($P(poor|X=bushehr)$)  چقدر است؟ (bushehr_poor)\n",
    "        </li>\n",
    "        <li>\n",
    "            اگر بدانیم خانواده‌ای ساکن بوشهر است احتمال ثروت‌مند بودن آن ($P(rich|X=bushehr)$) چقدر است؟ (bushehr_rich)\n",
    "        </li>\n",
    "        <li>\n",
    "            چه تفاوتی در این چهار مقدار مشاهده می‌کنید؟\n",
    "            </li>\n",
    "    </font>\n",
    "</div>\n",
    "\n"
   ]
  },
  {
   "cell_type": "markdown",
   "metadata": {},
   "source": [
    "<div dir = \"rtl\" style=\"direction:rtl;line-height:300%;\">\n",
    "\t<font face=\"XB Zar\" size=5>\n",
    "\t\t<font color=#95026b size=5>\n",
    "                  پاسخ:\n",
    "        </font>\n",
    "\t</font>\n",
    "</div>"
   ]
  },
  {
   "cell_type": "code",
   "execution_count": null,
   "metadata": {},
   "outputs": [],
   "source": [
    "yazd_poor = #TODO\n",
    "yazd_rich = #TODO\n",
    "bushehr_poor = #TODO\n",
    "bushehr_rich = #TODO"
   ]
  },
  {
   "cell_type": "code",
   "execution_count": null,
   "metadata": {},
   "outputs": [],
   "source": []
  }
 ],
 "metadata": {
  "kernelspec": {
   "display_name": "Python 3",
   "language": "python",
   "name": "python3"
  },
  "language_info": {
   "codemirror_mode": {
    "name": "ipython",
    "version": 3
   },
   "file_extension": ".py",
   "mimetype": "text/x-python",
   "name": "python",
   "nbconvert_exporter": "python",
   "pygments_lexer": "ipython3",
   "version": "3.8.5"
  }
 },
 "nbformat": 4,
 "nbformat_minor": 4
}
