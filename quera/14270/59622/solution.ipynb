{
 "cells": [
  {
   "cell_type": "markdown",
   "metadata": {},
   "source": [
    "<div style=\"direction:rtl;line-height:300%;\">\n",
    "\t<font face=\"XB Zar\" size=5>\n",
    "\t\t<font color=#43a8a5 size=6>\n",
    "\t\t\t<br />\n",
    "\t\t\t<div align=center>\n",
    "بررسی آلودگی هوای آمریکا\n",
    "            </div>\n",
    "\t\t</font>\n",
    "\t\t<br />\n",
    "\t\t<hr />\n",
    "\t\t<style type=\"text/css\" scoped>\n",
    "        p{\n",
    "        border: 1px solid #a2a9b1;background-color: #f8f9fa;display: inline-block;\n",
    "        };\n",
    "        </style>\n",
    "\t</font>\n",
    "</div>"
   ]
  },
  {
   "cell_type": "markdown",
   "metadata": {},
   "source": [
    "<p></p>\n",
    "<br />\n",
    "<div id=\"intro\" style=\"direction:rtl;line-height:300%;\">\n",
    "\t<font face=\"XB Zar\" size=4>\n",
    "\t\t<p></p>\n",
    "در این تمرین می‌خواهیم با داده‌های آلودگی هوای آمریکا در سال ۲۰۱۸ که پیش‌تر در درس‌نامه pandas با آن کار کردیم، بیشتر کار کنیم و سوالاتی را از آن جواب دهیم.\n",
    "        <br>\n",
    "ابتدا داده را از فایل csv بخوانید\n",
    "و در متغیر aqi_data بریزید.\n",
    "    <br>\n",
    "        \n",
    "</div>"
   ]
  },
  {
   "cell_type": "code",
   "execution_count": 13,
   "metadata": {},
   "outputs": [],
   "source": [
    "import numpy as np\n",
    "import pandas as pd"
   ]
  },
  {
   "cell_type": "code",
   "execution_count": 14,
   "metadata": {},
   "outputs": [
    {
     "data": {
      "text/html": [
       "<div>\n",
       "<style scoped>\n",
       "    .dataframe tbody tr th:only-of-type {\n",
       "        vertical-align: middle;\n",
       "    }\n",
       "\n",
       "    .dataframe tbody tr th {\n",
       "        vertical-align: top;\n",
       "    }\n",
       "\n",
       "    .dataframe thead th {\n",
       "        text-align: right;\n",
       "    }\n",
       "</style>\n",
       "<table border=\"1\" class=\"dataframe\">\n",
       "  <thead>\n",
       "    <tr style=\"text-align: right;\">\n",
       "      <th></th>\n",
       "      <th>State Name</th>\n",
       "      <th>county Name</th>\n",
       "      <th>Date</th>\n",
       "      <th>AQI</th>\n",
       "      <th>Category</th>\n",
       "      <th>Defining Parameter</th>\n",
       "    </tr>\n",
       "  </thead>\n",
       "  <tbody>\n",
       "    <tr>\n",
       "      <th>0</th>\n",
       "      <td>Alabama</td>\n",
       "      <td>Baldwin</td>\n",
       "      <td>2018-01-02</td>\n",
       "      <td>32</td>\n",
       "      <td>Good</td>\n",
       "      <td>PM2.5</td>\n",
       "    </tr>\n",
       "    <tr>\n",
       "      <th>1</th>\n",
       "      <td>Alabama</td>\n",
       "      <td>Baldwin</td>\n",
       "      <td>2018-01-05</td>\n",
       "      <td>34</td>\n",
       "      <td>Good</td>\n",
       "      <td>PM2.5</td>\n",
       "    </tr>\n",
       "    <tr>\n",
       "      <th>2</th>\n",
       "      <td>Alabama</td>\n",
       "      <td>Baldwin</td>\n",
       "      <td>2018-01-08</td>\n",
       "      <td>15</td>\n",
       "      <td>Good</td>\n",
       "      <td>PM2.5</td>\n",
       "    </tr>\n",
       "    <tr>\n",
       "      <th>3</th>\n",
       "      <td>Alabama</td>\n",
       "      <td>Baldwin</td>\n",
       "      <td>2018-01-11</td>\n",
       "      <td>19</td>\n",
       "      <td>Good</td>\n",
       "      <td>PM2.5</td>\n",
       "    </tr>\n",
       "    <tr>\n",
       "      <th>4</th>\n",
       "      <td>Alabama</td>\n",
       "      <td>Baldwin</td>\n",
       "      <td>2018-01-14</td>\n",
       "      <td>25</td>\n",
       "      <td>Good</td>\n",
       "      <td>PM2.5</td>\n",
       "    </tr>\n",
       "  </tbody>\n",
       "</table>\n",
       "</div>"
      ],
      "text/plain": [
       "  State Name county Name        Date  AQI Category Defining Parameter\n",
       "0    Alabama     Baldwin  2018-01-02   32     Good              PM2.5\n",
       "1    Alabama     Baldwin  2018-01-05   34     Good              PM2.5\n",
       "2    Alabama     Baldwin  2018-01-08   15     Good              PM2.5\n",
       "3    Alabama     Baldwin  2018-01-11   19     Good              PM2.5\n",
       "4    Alabama     Baldwin  2018-01-14   25     Good              PM2.5"
      ]
     },
     "execution_count": 14,
     "metadata": {},
     "output_type": "execute_result"
    }
   ],
   "source": [
    "aqi_data = pd.read_csv(\"AQI2018.csv\")\n",
    "aqi_data.head()"
   ]
  },
  {
   "cell_type": "markdown",
   "metadata": {},
   "source": [
    "<div id=\"bayes\" style=\"direction:rtl;line-height:300%;\">\n",
    "\t<font face=\"XB Zar\" size=4>\n",
    "\t\t<p></p>\n",
    "در ابتدا می‌خواهیم ببینیم در چه تاریخ‌هایی میانگین آلودگی هوای آمریکا بیشترین مقدار بوده است. \n",
    "    10\n",
    "    تاریخی را که بیشترین میانگین آلودگی هوا را در این سال داشته‌اند، به ترتیب میانگین آلودگی، در فایلی به نام \n",
    "    dates.csv\n",
    "    ذخیره کنید.\n",
    "<br>\n",
    "توجه کنید که این فایل دو ستون و ده سطر باید داشته باشد که ستون اول تاریخ‌هایی که بیشترین آلودگی هوا را دارند (به ترتیب) باشد و در ستون دوم میانگین آلودگی هوا در آن روز برای تاریخ مربوطه قرار بگیرد.\n",
    "\n",
    "        \n",
    "</div>"
   ]
  },
  {
   "cell_type": "code",
   "execution_count": 15,
   "metadata": {},
   "outputs": [],
   "source": [
    "Most_pullet = pd.DataFrame(aqi_data.groupby('Date')['AQI'].mean())"
   ]
  },
  {
   "cell_type": "code",
   "execution_count": 16,
   "metadata": {},
   "outputs": [],
   "source": [
    "Final_Pulluted_ans = Most_pullet.sort_values(by='AQI',ascending=False)[:10]"
   ]
  },
  {
   "cell_type": "code",
   "execution_count": 17,
   "metadata": {},
   "outputs": [],
   "source": [
    "Final_Pulluted_ans.to_csv('dates.csv')"
   ]
  },
  {
   "cell_type": "markdown",
   "metadata": {},
   "source": [
    "<div id=\"bayes\" style=\"direction:rtl;line-height:300%;\">\n",
    "\t<font face=\"XB Zar\" size=4>\n",
    "\t\t<p></p>\n",
    "در ادامه می‌خواهیم بدانیم \n",
    "    10\n",
    "    ایالتی که بیشترین میزان \n",
    "     «میانه» (median)\n",
    "    آلودگی را در سال ۲۰۱۸ داشته‌اند، کدام ایالت‌ها هستند. \n",
    "<br>\n",
    "    <br>\n",
    "مانند قسمت قبل، نام ده ایالت را به ترتیب میانه آلودگی به صورت نزولی به همراه میانه شاخص آلودگی هوای آن ایالت در فایلی به نام \n",
    "    states.csv\n",
    "    ذخیره کنید. این فایل نیز باید دو ستون و ده سطر داشته باشد.\n",
    "\n",
    "</div>"
   ]
  },
  {
   "cell_type": "code",
   "execution_count": 18,
   "metadata": {},
   "outputs": [],
   "source": [
    "State = pd.DataFrame(aqi_data.groupby('State Name')['AQI'].median())"
   ]
  },
  {
   "cell_type": "code",
   "execution_count": 21,
   "metadata": {},
   "outputs": [],
   "source": [
    "Finall_pulluted_State = State.sort_values(by='AQI',ascending=False)[:10]"
   ]
  },
  {
   "cell_type": "code",
   "execution_count": 22,
   "metadata": {},
   "outputs": [
    {
     "data": {
      "text/html": [
       "<div>\n",
       "<style scoped>\n",
       "    .dataframe tbody tr th:only-of-type {\n",
       "        vertical-align: middle;\n",
       "    }\n",
       "\n",
       "    .dataframe tbody tr th {\n",
       "        vertical-align: top;\n",
       "    }\n",
       "\n",
       "    .dataframe thead th {\n",
       "        text-align: right;\n",
       "    }\n",
       "</style>\n",
       "<table border=\"1\" class=\"dataframe\">\n",
       "  <thead>\n",
       "    <tr style=\"text-align: right;\">\n",
       "      <th></th>\n",
       "      <th>AQI</th>\n",
       "    </tr>\n",
       "    <tr>\n",
       "      <th>State Name</th>\n",
       "      <th></th>\n",
       "    </tr>\n",
       "  </thead>\n",
       "  <tbody>\n",
       "    <tr>\n",
       "      <th>California</th>\n",
       "      <td>47.0</td>\n",
       "    </tr>\n",
       "    <tr>\n",
       "      <th>Utah</th>\n",
       "      <td>46.0</td>\n",
       "    </tr>\n",
       "    <tr>\n",
       "      <th>District Of Columbia</th>\n",
       "      <td>44.0</td>\n",
       "    </tr>\n",
       "    <tr>\n",
       "      <th>Colorado</th>\n",
       "      <td>44.0</td>\n",
       "    </tr>\n",
       "    <tr>\n",
       "      <th>Arizona</th>\n",
       "      <td>44.0</td>\n",
       "    </tr>\n",
       "    <tr>\n",
       "      <th>Wyoming</th>\n",
       "      <td>43.0</td>\n",
       "    </tr>\n",
       "    <tr>\n",
       "      <th>Country Of Mexico</th>\n",
       "      <td>42.0</td>\n",
       "    </tr>\n",
       "    <tr>\n",
       "      <th>New Mexico</th>\n",
       "      <td>42.0</td>\n",
       "    </tr>\n",
       "    <tr>\n",
       "      <th>Nevada</th>\n",
       "      <td>41.0</td>\n",
       "    </tr>\n",
       "    <tr>\n",
       "      <th>Delaware</th>\n",
       "      <td>40.0</td>\n",
       "    </tr>\n",
       "  </tbody>\n",
       "</table>\n",
       "</div>"
      ],
      "text/plain": [
       "                       AQI\n",
       "State Name                \n",
       "California            47.0\n",
       "Utah                  46.0\n",
       "District Of Columbia  44.0\n",
       "Colorado              44.0\n",
       "Arizona               44.0\n",
       "Wyoming               43.0\n",
       "Country Of Mexico     42.0\n",
       "New Mexico            42.0\n",
       "Nevada                41.0\n",
       "Delaware              40.0"
      ]
     },
     "execution_count": 22,
     "metadata": {},
     "output_type": "execute_result"
    }
   ],
   "source": [
    "Finall_pulluted_State"
   ]
  },
  {
   "cell_type": "code",
   "execution_count": 23,
   "metadata": {},
   "outputs": [],
   "source": [
    "Finall_pulluted_State.to_csv('states.csv')"
   ]
  },
  {
   "cell_type": "markdown",
   "metadata": {},
   "source": [
    "<div id=\"bayes\" style=\"direction:rtl;line-height:300%;\">\n",
    "\t<font face=\"XB Zar\" size=4>\n",
    "\t\t<p></p>\n",
    "می‌خواهیم بدانیم در منطقه \n",
    "    San Diego\n",
    "    بیشترین آلاینده‌ها در این سال چه آلاینده‌هایی بوده‌اند.\n",
    "<br>\n",
    "در فایلی به نام \n",
    "     parameters.csv\n",
    "    که دو ستون دارد و ستون اول نام آلاینده‌ها و ستون دوم تعداد روزهایی است که آلاینده مذکور در ستون اول، آلاینده اصلی بوده، داده‌ها را به صورت نزولی بر اساس تعداد روزها ذخیره کنید.\n",
    "    \n",
    "</div>"
   ]
  },
  {
   "cell_type": "code",
   "execution_count": 24,
   "metadata": {},
   "outputs": [],
   "source": [
    "San_Diego = aqi_data[aqi_data['county Name']=='San Diego']"
   ]
  },
  {
   "cell_type": "code",
   "execution_count": 32,
   "metadata": {},
   "outputs": [
    {
     "data": {
      "text/html": [
       "<div>\n",
       "<style scoped>\n",
       "    .dataframe tbody tr th:only-of-type {\n",
       "        vertical-align: middle;\n",
       "    }\n",
       "\n",
       "    .dataframe tbody tr th {\n",
       "        vertical-align: top;\n",
       "    }\n",
       "\n",
       "    .dataframe thead th {\n",
       "        text-align: right;\n",
       "    }\n",
       "</style>\n",
       "<table border=\"1\" class=\"dataframe\">\n",
       "  <thead>\n",
       "    <tr style=\"text-align: right;\">\n",
       "      <th></th>\n",
       "      <th>State Name</th>\n",
       "      <th>county Name</th>\n",
       "      <th>Date</th>\n",
       "      <th>AQI</th>\n",
       "      <th>Category</th>\n",
       "      <th>Defining Parameter</th>\n",
       "    </tr>\n",
       "  </thead>\n",
       "  <tbody>\n",
       "    <tr>\n",
       "      <th>27078</th>\n",
       "      <td>California</td>\n",
       "      <td>San Diego</td>\n",
       "      <td>2018-01-01</td>\n",
       "      <td>139</td>\n",
       "      <td>Unhealthy for Sensitive Groups</td>\n",
       "      <td>PM2.5</td>\n",
       "    </tr>\n",
       "    <tr>\n",
       "      <th>27079</th>\n",
       "      <td>California</td>\n",
       "      <td>San Diego</td>\n",
       "      <td>2018-01-02</td>\n",
       "      <td>94</td>\n",
       "      <td>Moderate</td>\n",
       "      <td>PM2.5</td>\n",
       "    </tr>\n",
       "    <tr>\n",
       "      <th>27080</th>\n",
       "      <td>California</td>\n",
       "      <td>San Diego</td>\n",
       "      <td>2018-01-03</td>\n",
       "      <td>94</td>\n",
       "      <td>Moderate</td>\n",
       "      <td>PM2.5</td>\n",
       "    </tr>\n",
       "    <tr>\n",
       "      <th>27081</th>\n",
       "      <td>California</td>\n",
       "      <td>San Diego</td>\n",
       "      <td>2018-01-04</td>\n",
       "      <td>76</td>\n",
       "      <td>Moderate</td>\n",
       "      <td>PM2.5</td>\n",
       "    </tr>\n",
       "    <tr>\n",
       "      <th>27082</th>\n",
       "      <td>California</td>\n",
       "      <td>San Diego</td>\n",
       "      <td>2018-01-05</td>\n",
       "      <td>78</td>\n",
       "      <td>Moderate</td>\n",
       "      <td>PM2.5</td>\n",
       "    </tr>\n",
       "    <tr>\n",
       "      <th>...</th>\n",
       "      <td>...</td>\n",
       "      <td>...</td>\n",
       "      <td>...</td>\n",
       "      <td>...</td>\n",
       "      <td>...</td>\n",
       "      <td>...</td>\n",
       "    </tr>\n",
       "    <tr>\n",
       "      <th>27438</th>\n",
       "      <td>California</td>\n",
       "      <td>San Diego</td>\n",
       "      <td>2018-12-27</td>\n",
       "      <td>54</td>\n",
       "      <td>Moderate</td>\n",
       "      <td>PM2.5</td>\n",
       "    </tr>\n",
       "    <tr>\n",
       "      <th>27439</th>\n",
       "      <td>California</td>\n",
       "      <td>San Diego</td>\n",
       "      <td>2018-12-28</td>\n",
       "      <td>53</td>\n",
       "      <td>Moderate</td>\n",
       "      <td>PM2.5</td>\n",
       "    </tr>\n",
       "    <tr>\n",
       "      <th>27440</th>\n",
       "      <td>California</td>\n",
       "      <td>San Diego</td>\n",
       "      <td>2018-12-29</td>\n",
       "      <td>53</td>\n",
       "      <td>Moderate</td>\n",
       "      <td>PM2.5</td>\n",
       "    </tr>\n",
       "    <tr>\n",
       "      <th>27441</th>\n",
       "      <td>California</td>\n",
       "      <td>San Diego</td>\n",
       "      <td>2018-12-30</td>\n",
       "      <td>57</td>\n",
       "      <td>Moderate</td>\n",
       "      <td>PM2.5</td>\n",
       "    </tr>\n",
       "    <tr>\n",
       "      <th>27442</th>\n",
       "      <td>California</td>\n",
       "      <td>San Diego</td>\n",
       "      <td>2018-12-31</td>\n",
       "      <td>47</td>\n",
       "      <td>Good</td>\n",
       "      <td>PM2.5</td>\n",
       "    </tr>\n",
       "  </tbody>\n",
       "</table>\n",
       "<p>365 rows × 6 columns</p>\n",
       "</div>"
      ],
      "text/plain": [
       "       State Name county Name        Date  AQI  \\\n",
       "27078  California   San Diego  2018-01-01  139   \n",
       "27079  California   San Diego  2018-01-02   94   \n",
       "27080  California   San Diego  2018-01-03   94   \n",
       "27081  California   San Diego  2018-01-04   76   \n",
       "27082  California   San Diego  2018-01-05   78   \n",
       "...           ...         ...         ...  ...   \n",
       "27438  California   San Diego  2018-12-27   54   \n",
       "27439  California   San Diego  2018-12-28   53   \n",
       "27440  California   San Diego  2018-12-29   53   \n",
       "27441  California   San Diego  2018-12-30   57   \n",
       "27442  California   San Diego  2018-12-31   47   \n",
       "\n",
       "                             Category Defining Parameter  \n",
       "27078  Unhealthy for Sensitive Groups              PM2.5  \n",
       "27079                        Moderate              PM2.5  \n",
       "27080                        Moderate              PM2.5  \n",
       "27081                        Moderate              PM2.5  \n",
       "27082                        Moderate              PM2.5  \n",
       "...                               ...                ...  \n",
       "27438                        Moderate              PM2.5  \n",
       "27439                        Moderate              PM2.5  \n",
       "27440                        Moderate              PM2.5  \n",
       "27441                        Moderate              PM2.5  \n",
       "27442                            Good              PM2.5  \n",
       "\n",
       "[365 rows x 6 columns]"
      ]
     },
     "execution_count": 32,
     "metadata": {},
     "output_type": "execute_result"
    }
   ],
   "source": [
    "San_Diego"
   ]
  },
  {
   "cell_type": "code",
   "execution_count": 51,
   "metadata": {},
   "outputs": [],
   "source": [
    "Final = pd.DataFrame(San_Diego.groupby('Defining Parameter').size(), columns={'Days'})"
   ]
  },
  {
   "cell_type": "code",
   "execution_count": 52,
   "metadata": {},
   "outputs": [
    {
     "data": {
      "text/html": [
       "<div>\n",
       "<style scoped>\n",
       "    .dataframe tbody tr th:only-of-type {\n",
       "        vertical-align: middle;\n",
       "    }\n",
       "\n",
       "    .dataframe tbody tr th {\n",
       "        vertical-align: top;\n",
       "    }\n",
       "\n",
       "    .dataframe thead th {\n",
       "        text-align: right;\n",
       "    }\n",
       "</style>\n",
       "<table border=\"1\" class=\"dataframe\">\n",
       "  <thead>\n",
       "    <tr style=\"text-align: right;\">\n",
       "      <th></th>\n",
       "      <th>Days</th>\n",
       "    </tr>\n",
       "    <tr>\n",
       "      <th>Defining Parameter</th>\n",
       "      <th></th>\n",
       "    </tr>\n",
       "  </thead>\n",
       "  <tbody>\n",
       "    <tr>\n",
       "      <th>NO2</th>\n",
       "      <td>1</td>\n",
       "    </tr>\n",
       "    <tr>\n",
       "      <th>Ozone</th>\n",
       "      <td>202</td>\n",
       "    </tr>\n",
       "    <tr>\n",
       "      <th>PM2.5</th>\n",
       "      <td>162</td>\n",
       "    </tr>\n",
       "  </tbody>\n",
       "</table>\n",
       "</div>"
      ],
      "text/plain": [
       "                    Days\n",
       "Defining Parameter      \n",
       "NO2                    1\n",
       "Ozone                202\n",
       "PM2.5                162"
      ]
     },
     "execution_count": 52,
     "metadata": {},
     "output_type": "execute_result"
    }
   ],
   "source": [
    "Final"
   ]
  },
  {
   "cell_type": "code",
   "execution_count": 53,
   "metadata": {},
   "outputs": [
    {
     "ename": "KeyError",
     "evalue": "'0'",
     "output_type": "error",
     "traceback": [
      "\u001b[0;31m---------------------------------------------------------------------------\u001b[0m",
      "\u001b[0;31mKeyError\u001b[0m                                  Traceback (most recent call last)",
      "\u001b[0;32m<ipython-input-53-dc558686df51>\u001b[0m in \u001b[0;36m<module>\u001b[0;34m\u001b[0m\n\u001b[0;32m----> 1\u001b[0;31m \u001b[0mFinal_sorted\u001b[0m \u001b[0;34m=\u001b[0m \u001b[0mFinal\u001b[0m\u001b[0;34m.\u001b[0m\u001b[0msort_values\u001b[0m\u001b[0;34m(\u001b[0m\u001b[0mby\u001b[0m\u001b[0;34m=\u001b[0m\u001b[0;34m'0'\u001b[0m\u001b[0;34m,\u001b[0m\u001b[0mascending\u001b[0m\u001b[0;34m=\u001b[0m\u001b[0;32mFalse\u001b[0m\u001b[0;34m)\u001b[0m\u001b[0;34m\u001b[0m\u001b[0;34m\u001b[0m\u001b[0m\n\u001b[0m",
      "\u001b[0;32m~/Documents/StuDying/collegeML/myvenv/lib/python3.6/site-packages/pandas/core/frame.py\u001b[0m in \u001b[0;36msort_values\u001b[0;34m(self, by, axis, ascending, inplace, kind, na_position, ignore_index, key)\u001b[0m\n\u001b[1;32m   5291\u001b[0m \u001b[0;34m\u001b[0m\u001b[0m\n\u001b[1;32m   5292\u001b[0m             \u001b[0mby\u001b[0m \u001b[0;34m=\u001b[0m \u001b[0mby\u001b[0m\u001b[0;34m[\u001b[0m\u001b[0;36m0\u001b[0m\u001b[0;34m]\u001b[0m\u001b[0;34m\u001b[0m\u001b[0;34m\u001b[0m\u001b[0m\n\u001b[0;32m-> 5293\u001b[0;31m             \u001b[0mk\u001b[0m \u001b[0;34m=\u001b[0m \u001b[0mself\u001b[0m\u001b[0;34m.\u001b[0m\u001b[0m_get_label_or_level_values\u001b[0m\u001b[0;34m(\u001b[0m\u001b[0mby\u001b[0m\u001b[0;34m,\u001b[0m \u001b[0maxis\u001b[0m\u001b[0;34m=\u001b[0m\u001b[0maxis\u001b[0m\u001b[0;34m)\u001b[0m\u001b[0;34m\u001b[0m\u001b[0;34m\u001b[0m\u001b[0m\n\u001b[0m\u001b[1;32m   5294\u001b[0m \u001b[0;34m\u001b[0m\u001b[0m\n\u001b[1;32m   5295\u001b[0m             \u001b[0;31m# need to rewrap column in Series to apply key function\u001b[0m\u001b[0;34m\u001b[0m\u001b[0;34m\u001b[0m\u001b[0;34m\u001b[0m\u001b[0m\n",
      "\u001b[0;32m~/Documents/StuDying/collegeML/myvenv/lib/python3.6/site-packages/pandas/core/generic.py\u001b[0m in \u001b[0;36m_get_label_or_level_values\u001b[0;34m(self, key, axis)\u001b[0m\n\u001b[1;32m   1558\u001b[0m             \u001b[0mvalues\u001b[0m \u001b[0;34m=\u001b[0m \u001b[0mself\u001b[0m\u001b[0;34m.\u001b[0m\u001b[0maxes\u001b[0m\u001b[0;34m[\u001b[0m\u001b[0maxis\u001b[0m\u001b[0;34m]\u001b[0m\u001b[0;34m.\u001b[0m\u001b[0mget_level_values\u001b[0m\u001b[0;34m(\u001b[0m\u001b[0mkey\u001b[0m\u001b[0;34m)\u001b[0m\u001b[0;34m.\u001b[0m\u001b[0m_values\u001b[0m\u001b[0;34m\u001b[0m\u001b[0;34m\u001b[0m\u001b[0m\n\u001b[1;32m   1559\u001b[0m         \u001b[0;32melse\u001b[0m\u001b[0;34m:\u001b[0m\u001b[0;34m\u001b[0m\u001b[0;34m\u001b[0m\u001b[0m\n\u001b[0;32m-> 1560\u001b[0;31m             \u001b[0;32mraise\u001b[0m \u001b[0mKeyError\u001b[0m\u001b[0;34m(\u001b[0m\u001b[0mkey\u001b[0m\u001b[0;34m)\u001b[0m\u001b[0;34m\u001b[0m\u001b[0;34m\u001b[0m\u001b[0m\n\u001b[0m\u001b[1;32m   1561\u001b[0m \u001b[0;34m\u001b[0m\u001b[0m\n\u001b[1;32m   1562\u001b[0m         \u001b[0;31m# Check for duplicates\u001b[0m\u001b[0;34m\u001b[0m\u001b[0;34m\u001b[0m\u001b[0;34m\u001b[0m\u001b[0m\n",
      "\u001b[0;31mKeyError\u001b[0m: '0'"
     ]
    }
   ],
   "source": [
    "Final_sorted = Final.sort_values(by='0',ascending=False)"
   ]
  },
  {
   "cell_type": "code",
   "execution_count": 38,
   "metadata": {},
   "outputs": [
    {
     "data": {
      "text/html": [
       "<div>\n",
       "<style scoped>\n",
       "    .dataframe tbody tr th:only-of-type {\n",
       "        vertical-align: middle;\n",
       "    }\n",
       "\n",
       "    .dataframe tbody tr th {\n",
       "        vertical-align: top;\n",
       "    }\n",
       "\n",
       "    .dataframe thead th {\n",
       "        text-align: right;\n",
       "    }\n",
       "</style>\n",
       "<table border=\"1\" class=\"dataframe\">\n",
       "  <thead>\n",
       "    <tr style=\"text-align: right;\">\n",
       "      <th></th>\n",
       "      <th>AQI</th>\n",
       "    </tr>\n",
       "    <tr>\n",
       "      <th>Defining Parameter</th>\n",
       "      <th></th>\n",
       "    </tr>\n",
       "  </thead>\n",
       "  <tbody>\n",
       "    <tr>\n",
       "      <th>Ozone</th>\n",
       "      <td>14978</td>\n",
       "    </tr>\n",
       "    <tr>\n",
       "      <th>PM2.5</th>\n",
       "      <td>10228</td>\n",
       "    </tr>\n",
       "    <tr>\n",
       "      <th>NO2</th>\n",
       "      <td>41</td>\n",
       "    </tr>\n",
       "  </tbody>\n",
       "</table>\n",
       "</div>"
      ],
      "text/plain": [
       "                      AQI\n",
       "Defining Parameter       \n",
       "Ozone               14978\n",
       "PM2.5               10228\n",
       "NO2                    41"
      ]
     },
     "execution_count": 38,
     "metadata": {},
     "output_type": "execute_result"
    }
   ],
   "source": [
    "Final_sorted"
   ]
  },
  {
   "cell_type": "code",
   "execution_count": 39,
   "metadata": {},
   "outputs": [],
   "source": [
    "Final_sorted.to_csv('parameters.csv')"
   ]
  },
  {
   "cell_type": "markdown",
   "metadata": {},
   "source": [
    "<div id=\"bayes\" style=\"direction:rtl;line-height:300%;\">\n",
    "\t<font face=\"XB Zar\" size=4>\n",
    "\t\t<p></p>\n",
    "می‌توانید پس از تکمیل موارد خواسته شده و خروجی گرفتن سه فایل\n",
    "    parameters.csv، \n",
    "    states.csv\n",
    "        و\n",
    "    dates.csv\n",
    "پس از ذخیره کردن نوت‌بوک،\n",
    "دکمه ارسال پاسخ را بزنید.\n",
    "        \n",
    "</div>"
   ]
  },
  {
   "cell_type": "code",
   "execution_count": null,
   "metadata": {},
   "outputs": [],
   "source": []
  },
  {
   "cell_type": "code",
   "execution_count": null,
   "metadata": {},
   "outputs": [],
   "source": []
  }
 ],
 "metadata": {
  "kernelspec": {
   "display_name": "Python 3",
   "language": "python",
   "name": "python3"
  },
  "language_info": {
   "codemirror_mode": {
    "name": "ipython",
    "version": 3
   },
   "file_extension": ".py",
   "mimetype": "text/x-python",
   "name": "python",
   "nbconvert_exporter": "python",
   "pygments_lexer": "ipython3",
   "version": "3.6.9"
  },
  "latex_envs": {
   "LaTeX_envs_menu_present": true,
   "autoclose": false,
   "autocomplete": true,
   "bibliofile": "biblio.bib",
   "cite_by": "apalike",
   "current_citInitial": 1,
   "eqLabelWithNumbers": true,
   "eqNumInitial": 1,
   "hotkeys": {
    "equation": "Ctrl-E",
    "itemize": "Ctrl-I"
   },
   "labels_anchors": false,
   "latex_user_defs": false,
   "report_style_numbering": false,
   "user_envs_cfg": false
  },
  "toc": {
   "base_numbering": 1,
   "nav_menu": {},
   "number_sections": true,
   "sideBar": true,
   "skip_h1_title": false,
   "title_cell": "Table of Contents",
   "title_sidebar": "Contents",
   "toc_cell": false,
   "toc_position": {},
   "toc_section_display": true,
   "toc_window_display": false
  },
  "varInspector": {
   "cols": {
    "lenName": 16,
    "lenType": 16,
    "lenVar": 40
   },
   "kernels_config": {
    "python": {
     "delete_cmd_postfix": "",
     "delete_cmd_prefix": "del ",
     "library": "var_list.py",
     "varRefreshCmd": "print(var_dic_list())"
    },
    "r": {
     "delete_cmd_postfix": ") ",
     "delete_cmd_prefix": "rm(",
     "library": "var_list.r",
     "varRefreshCmd": "cat(var_dic_list()) "
    }
   },
   "types_to_exclude": [
    "module",
    "function",
    "builtin_function_or_method",
    "instance",
    "_Feature"
   ],
   "window_display": false
  }
 },
 "nbformat": 4,
 "nbformat_minor": 4
}
