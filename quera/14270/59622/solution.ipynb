{
 "cells": [
  {
   "cell_type": "markdown",
   "metadata": {},
   "source": [
    "<div style=\"direction:rtl;line-height:300%;\">\n",
    "\t<font face=\"XB Zar\" size=5>\n",
    "\t\t<font color=#43a8a5 size=6>\n",
    "\t\t\t<br />\n",
    "\t\t\t<div align=center>\n",
    "بررسی آلودگی هوای آمریکا\n",
    "            </div>\n",
    "\t\t</font>\n",
    "\t\t<br />\n",
    "\t\t<hr />\n",
    "\t\t<style type=\"text/css\" scoped>\n",
    "        p{\n",
    "        border: 1px solid #a2a9b1;background-color: #f8f9fa;display: inline-block;\n",
    "        };\n",
    "        </style>\n",
    "\t</font>\n",
    "</div>"
   ]
  },
  {
   "cell_type": "markdown",
   "metadata": {},
   "source": [
    "<p></p>\n",
    "<br />\n",
    "<div id=\"intro\" style=\"direction:rtl;line-height:300%;\">\n",
    "\t<font face=\"XB Zar\" size=4>\n",
    "\t\t<p></p>\n",
    "در این تمرین می‌خواهیم با داده‌های آلودگی هوای آمریکا در سال ۲۰۱۸ که پیش‌تر در درس‌نامه pandas با آن کار کردیم، بیشتر کار کنیم و سوالاتی را از آن جواب دهیم.\n",
    "        <br>\n",
    "ابتدا داده را از فایل csv بخوانید\n",
    "و در متغیر aqi_data بریزید.\n",
    "    <br>\n",
    "        \n",
    "</div>"
   ]
  },
  {
   "cell_type": "code",
   "execution_count": null,
   "metadata": {},
   "outputs": [],
   "source": [
    "import numpy as np\n",
    "import pandas as pd"
   ]
  },
  {
   "cell_type": "code",
   "execution_count": null,
   "metadata": {},
   "outputs": [],
   "source": [
    "aqi_data = pd.read_csv(\"AQI2018.csv\")\n",
    "aqi_data.head()"
   ]
  },
  {
   "cell_type": "markdown",
   "metadata": {},
   "source": [
    "<div id=\"bayes\" style=\"direction:rtl;line-height:300%;\">\n",
    "\t<font face=\"XB Zar\" size=4>\n",
    "\t\t<p></p>\n",
    "در ابتدا می‌خواهیم ببینیم در چه تاریخ‌هایی میانگین آلودگی هوای آمریکا بیشترین مقدار بوده است. \n",
    "    10\n",
    "    تاریخی را که بیشترین میانگین آلودگی هوا را در این سال داشته‌اند، به ترتیب میانگین آلودگی، در فایلی به نام \n",
    "    dates.csv\n",
    "    ذخیره کنید.\n",
    "<br>\n",
    "توجه کنید که این فایل دو ستون و ده سطر باید داشته باشد که ستون اول تاریخ‌هایی که بیشترین آلودگی هوا را دارند (به ترتیب) باشد و در ستون دوم میانگین آلودگی هوا در آن روز برای تاریخ مربوطه قرار بگیرد.\n",
    "\n",
    "        \n",
    "</div>"
   ]
  },
  {
   "cell_type": "code",
   "execution_count": null,
   "metadata": {},
   "outputs": [],
   "source": [
    "#TODO "
   ]
  },
  {
   "cell_type": "markdown",
   "metadata": {},
   "source": [
    "<div id=\"bayes\" style=\"direction:rtl;line-height:300%;\">\n",
    "\t<font face=\"XB Zar\" size=4>\n",
    "\t\t<p></p>\n",
    "در ادامه می‌خواهیم بدانیم \n",
    "    10\n",
    "    ایالتی که بیشترین میزان \n",
    "     «میانه» (median)\n",
    "    آلودگی را در سال ۲۰۱۸ داشته‌اند، کدام ایالت‌ها هستند. \n",
    "<br>\n",
    "    <br>\n",
    "مانند قسمت قبل، نام ده ایالت را به ترتیب میانه آلودگی به صورت نزولی به همراه میانه شاخص آلودگی هوای آن ایالت در فایلی به نام \n",
    "    states.csv\n",
    "    ذخیره کنید. این فایل نیز باید دو ستون و ده سطر داشته باشد.\n",
    "\n",
    "</div>"
   ]
  },
  {
   "cell_type": "code",
   "execution_count": null,
   "metadata": {},
   "outputs": [],
   "source": [
    "#TODO"
   ]
  },
  {
   "cell_type": "markdown",
   "metadata": {},
   "source": [
    "<div id=\"bayes\" style=\"direction:rtl;line-height:300%;\">\n",
    "\t<font face=\"XB Zar\" size=4>\n",
    "\t\t<p></p>\n",
    "می‌خواهیم بدانیم در منطقه \n",
    "    San Diego\n",
    "    بیشترین آلاینده‌ها در این سال چه آلاینده‌هایی بوده‌اند.\n",
    "<br>\n",
    "در فایلی به نام \n",
    "     parameters.csv\n",
    "    که دو ستون دارد و ستون اول نام آلاینده‌ها و ستون دوم تعداد روزهایی است که آلاینده مذکور در ستون اول، آلاینده اصلی بوده، داده‌ها را به صورت نزولی بر اساس تعداد روزها ذخیره کنید.\n",
    "    \n",
    "</div>"
   ]
  },
  {
   "cell_type": "code",
   "execution_count": null,
   "metadata": {},
   "outputs": [],
   "source": [
    "#TODO "
   ]
  },
  {
   "cell_type": "markdown",
   "metadata": {},
   "source": [
    "<div id=\"bayes\" style=\"direction:rtl;line-height:300%;\">\n",
    "\t<font face=\"XB Zar\" size=4>\n",
    "\t\t<p></p>\n",
    "می‌توانید پس از تکمیل موارد خواسته شده و خروجی گرفتن سه فایل\n",
    "    parameters.csv، \n",
    "    states.csv\n",
    "        و\n",
    "    dates.csv\n",
    "پس از ذخیره کردن نوت‌بوک،\n",
    "دکمه ارسال پاسخ را بزنید.\n",
    "        \n",
    "</div>"
   ]
  },
  {
   "cell_type": "code",
   "execution_count": null,
   "metadata": {},
   "outputs": [],
   "source": []
  }
 ],
 "metadata": {
  "kernelspec": {
   "display_name": "Python 3",
   "language": "python",
   "name": "python3"
  },
  "language_info": {
   "codemirror_mode": {
    "name": "ipython",
    "version": 3
   },
   "file_extension": ".py",
   "mimetype": "text/x-python",
   "name": "python",
   "nbconvert_exporter": "python",
   "pygments_lexer": "ipython3",
   "version": "3.6.9"
  },
  "latex_envs": {
   "LaTeX_envs_menu_present": true,
   "autoclose": false,
   "autocomplete": true,
   "bibliofile": "biblio.bib",
   "cite_by": "apalike",
   "current_citInitial": 1,
   "eqLabelWithNumbers": true,
   "eqNumInitial": 1,
   "hotkeys": {
    "equation": "Ctrl-E",
    "itemize": "Ctrl-I"
   },
   "labels_anchors": false,
   "latex_user_defs": false,
   "report_style_numbering": false,
   "user_envs_cfg": false
  },
  "toc": {
   "base_numbering": 1,
   "nav_menu": {},
   "number_sections": true,
   "sideBar": true,
   "skip_h1_title": false,
   "title_cell": "Table of Contents",
   "title_sidebar": "Contents",
   "toc_cell": false,
   "toc_position": {},
   "toc_section_display": true,
   "toc_window_display": false
  },
  "varInspector": {
   "cols": {
    "lenName": 16,
    "lenType": 16,
    "lenVar": 40
   },
   "kernels_config": {
    "python": {
     "delete_cmd_postfix": "",
     "delete_cmd_prefix": "del ",
     "library": "var_list.py",
     "varRefreshCmd": "print(var_dic_list())"
    },
    "r": {
     "delete_cmd_postfix": ") ",
     "delete_cmd_prefix": "rm(",
     "library": "var_list.r",
     "varRefreshCmd": "cat(var_dic_list()) "
    }
   },
   "types_to_exclude": [
    "module",
    "function",
    "builtin_function_or_method",
    "instance",
    "_Feature"
   ],
   "window_display": false
  }
 },
 "nbformat": 4,
 "nbformat_minor": 4
}
