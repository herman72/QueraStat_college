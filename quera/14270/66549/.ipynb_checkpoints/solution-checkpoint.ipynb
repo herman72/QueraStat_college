{
 "cells": [
  {
   "cell_type": "code",
   "execution_count": null,
   "metadata": {},
   "outputs": [],
   "source": [
    "import numpy as np\n",
    "import time \n",
    "import sys "
   ]
  },
  {
   "cell_type": "markdown",
   "metadata": {},
   "source": [
    "<div id=\"sec_intro\" style=\"direction:rtl;line-height:300%;\">\n",
    "\t<font face=\"XB Zar\" size=4>\n",
    "    همانطور که در بخش قبل به صورت مختصر ذکر شد بین لیست\n",
    "    numpy \n",
    "    و لیست پایتون تفاوت‌هایی وجود دارد که در اینجا به بیان این تفاوت‌ها با استفاده از مثال پرداخته می‌شود و در آحر تعداد دیگری از ویژگی‌های کتابخانه \n",
    "    numpy\n",
    "    که موجب محبوبیت و پراستفاده بودن آن شده است بیان می‌گردد\n",
    "    <br>\n",
    "    <br>\n",
    "    همانطور که گفته شد سرعت محاسبات عملیات جبری و ریاضی در کتابخانه \n",
    "    numpy\n",
    "    بالاتر از لیست عادی پایتون است: \n",
    "    </font>\n",
    "    </div>"
   ]
  },
  {
   "cell_type": "code",
   "execution_count": null,
   "metadata": {},
   "outputs": [],
   "source": [
    "#اندازه لیست\n",
    "size = 1000000  \n",
    "   \n",
    "#مقدار دهی لیست پایتون\n",
    "list1 = range(size) \n",
    "list2 = range(size) \n",
    "   \n",
    "# مقدار دهی لیست numpy\n",
    "array1 = np.arange(size)   \n",
    "array2 = np.arange(size) \n",
    "   \n",
    "#  زمان شروع محاسبات لیست پایتون\n",
    "init_time = time.time() \n",
    "  \n",
    "# ضرب اعضای دولیست\n",
    "res_list = [(a * b) for a, b in zip(list1, list2)] \n",
    "   \n",
    "# مدت زمان انجام محاسبات لیست پایتون\n",
    "print(\"python list calculation time:\",  \n",
    "      (time.time() - init_time)*1000, \n",
    "      \"miliseconds\") \n",
    "   \n",
    "# زمان شروع محاسبات لیست numpy \n",
    "init_time = time.time() \n",
    "  \n",
    "# ضرب اعضای دولیست numpy\n",
    "res_list = array1 * array2 \n",
    "   \n",
    "# مدت زمان انجام محاسبات numpy  \n",
    "print(\"numpy list calculation time:\", \n",
    "      (time.time() - init_time)*1000, \n",
    "      \"miliseconds\") "
   ]
  },
  {
   "cell_type": "markdown",
   "metadata": {},
   "source": [
    "<div id=\"sec_intro\" style=\"direction:rtl;line-height:300%;\">\n",
    "\t<font face=\"XB Zar\" size=4>\n",
    "     همچنین از نظر تخصیص حافظه \n",
    "    numpy\n",
    "    بسیار بهینه‌تر از لیست پایتون می‌باشد:\n",
    "    </font>\n",
    "    </div>"
   ]
  },
  {
   "cell_type": "code",
   "execution_count": null,
   "metadata": {},
   "outputs": [],
   "source": [
    "S= range(100) \n",
    "\n",
    "print(\"Each element of list(bytes): \",sys.getsizeof(S)) \n",
    "  \n",
    "print(\"Whole list(bytes): \",sys.getsizeof(S)*len(S)) \n",
    "  \n",
    "D= np.array(S) \n",
    "  \n",
    "print(\"Each element of numpy array(bytes): \",D.itemsize) \n",
    "  \n",
    "print(\"Whole numpy array(bytes): \",D.size*D.itemsize) "
   ]
  },
  {
   "cell_type": "markdown",
   "metadata": {},
   "source": [
    "<div id=\"sec_intro\" style=\"direction:rtl;line-height:300%;\">\n",
    "\t<font face=\"XB Zar\" size=4>\n",
    "    همانطور که گفته شد توابع آماده‌ی زیادی در \n",
    "    numpy\n",
    "    وجود دارد که انجام بسیاری از محاسبات را آسان‌تر می‌کند و همچنین کار با لیست‌های چند بعدی هم در آن آسان‌تر است.\n",
    "    <br>\n",
    "       در اجرای دستور  reshape\n",
    "    زمانی که ابعاد دقیق ماتریس اولیه را نمیدانیم و فقط می‌دانیم که مضربی از یک عدد صحیح است می‌توان به جای وارد کردن تمام اعداد ابعاد جدید، یکی از ابعاد آنرا \n",
    "    1-\n",
    "    قرار دهیم و خود \n",
    "    numpy\n",
    "    در زمان اجرا بعد سوم را پر می‌کند\n",
    "    (البته به شرطی که عدد باقی مانده عدد صحیح باشد )\n",
    "    </font>\n",
    "    </div>"
   ]
  },
  {
   "cell_type": "code",
   "execution_count": null,
   "metadata": {},
   "outputs": [],
   "source": [
    "arr = np.arange(27)\n",
    "print(arr.shape)\n",
    "print(f\"summation : {arr.sum()} , maximum : {arr.max()} , variance : {arr.var()}\")\n",
    "print('\\n')\n",
    "\n",
    "arr = arr.reshape(3,3,-1)\n",
    "print(arr)\n",
    "print('\\n')\n",
    "\n",
    "print(\"Sum along columns :\", arr.sum(axis=0))\n",
    "print('\\n')\n",
    "\n",
    "print(\"Mean along rows :\", arr.mean(axis=1))\n",
    "print('\\n')\n",
    "\n",
    "print(\"Max along 3d axis :\", arr.max(axis=2))\n"
   ]
  },
  {
   "cell_type": "markdown",
   "metadata": {},
   "source": [
    "<div id=\"sec_intro\" style=\"direction:rtl;line-height:300%;\">\n",
    "\t<font face=\"XB Zar\" size=4>\n",
    "    مثال بالا اعضای آرایه را حول محور ردیف یا ستون جمع می‌کند و میانگین می‌گیرد. شاید شکل زیر درک بهتری از این محور‌ها به شما بدهد.\n",
    "<img style=\"background-color:#FFF;padding:10px;width:95%\" src=\"https://fgnt.github.io/python_crashkurs_doc/_images/numpy_array_t.png\">\n",
    "    </font>\n",
    "        </div>"
   ]
  },
  {
   "cell_type": "markdown",
   "metadata": {},
   "source": [
    "<div id=\"sec_intro\" style=\"direction:rtl;line-height:300%;\">\n",
    "\t<font face=\"XB Zar\" size=4>\n",
    "    تا کنون مزایای استفاده از لیست \n",
    "    numpy\n",
    "        به جای لیست پایتون ذکر شدند\n",
    "    در ادامه بعضی دیگر از تفاوت‌های این دو لیست و رفتار متفاوت آن‌ها در وضعیت‌های مشابه بیان می‌شود.\n",
    "     <br>\n",
    "     همانطور که گفته شد برخلاف لیست پایتون، باید تمامی اعضای لیست \n",
    "    numpy\n",
    "    از یک نوع باشند وگرنه همه را به یک نوع تبدیل (cast) می‌کند:\n",
    "    </font>\n",
    "    </div>"
   ]
  },
  {
   "cell_type": "code",
   "execution_count": null,
   "metadata": {},
   "outputs": [],
   "source": [
    "t = [1,2,'a','b',\"sometext\"]\n",
    "np.array(t)"
   ]
  },
  {
   "cell_type": "markdown",
   "metadata": {},
   "source": [
    "<div id=\"sec_intro\" style=\"direction:rtl;line-height:300%;\">\n",
    "\t<font face=\"XB Zar\" size=4>\n",
    "    همانطور که در ادامه می‌بینید عملگرهای \n",
    "    numpy\n",
    "    رفتاری مشابه عملگرهای جبری در مواجهه با ماتریس دارد و رفتاری کاملا متفاوت با لیست پایتون از خود به نمایش می‌گذارد\n",
    "    </font>\n",
    "        </div>"
   ]
  },
  {
   "cell_type": "code",
   "execution_count": null,
   "metadata": {},
   "outputs": [],
   "source": [
    "a = [1,2,3]\n",
    "b = [4,5,6]\n",
    "\n",
    "print(a+b)\n",
    "print('\\n')\n",
    "\n",
    "print(np.array(a)+np.array(b))\n",
    "print('\\n')\n",
    "\n",
    "print(a*2)\n",
    "print('\\n')\n",
    "\n",
    "print(np.array(a)*2)\n"
   ]
  },
  {
   "cell_type": "markdown",
   "metadata": {},
   "source": [
    "<div id=\"sec_intro\" style=\"direction:rtl;line-height:300%;\">\n",
    "\t<font face=\"XB Zar\" size=4>\n",
    "    و در مواجهه با برخی از عملگرهای جبری که در پایتون تعریف نشده‌اند\n",
    "    numpy\n",
    "    رفتاری قابل پیش‌بینی دارد\n",
    "</font>    \n",
    "</div>"
   ]
  },
  {
   "cell_type": "code",
   "execution_count": null,
   "metadata": {},
   "outputs": [],
   "source": [
    "a = [0,1,2]\n",
    "b = [3,4,5]\n",
    "try:\n",
    "    print(a**2)\n",
    "except:\n",
    "    print(\"Operator not defined\")\n",
    "    \n",
    "try:\n",
    "    print(a/b)\n",
    "except:\n",
    "    print(\"Operator not defined\")\n",
    "    \n"
   ]
  },
  {
   "cell_type": "code",
   "execution_count": null,
   "metadata": {},
   "outputs": [],
   "source": [
    "a = np.array([0,1,2])\n",
    "b = np.array([3,4,5])\n",
    "\n",
    "print(f\"power 2 : {a**2}\")\n",
    "print('\\n')\n",
    "print(f\"division \\ : {a/b}\")\n",
    "print('\\n')\n",
    "print(f\"comparison > : {a<b}\")"
   ]
  },
  {
   "cell_type": "markdown",
   "metadata": {},
   "source": [
    "<div id=\"sec_intro\" style=\"direction:rtl;line-height:300%;\">\n",
    "\t<font face=\"XB Zar\" size=4>\n",
    "    <h3>قواعد انتشار (Broadcasting)</h3>\n",
    "    <br>\n",
    "در محاسبات جبری بالا دو آرایه دارای طولی برابر بودند حال اگر طول دو آرایه متفاوت باشد\n",
    "    numpy\n",
    "    با آن چگونه رفتار خواهد کرد؟\n",
    "    <br>\n",
    "    در اینجا مفهومی به نام انتشار (broadcasting) مطرح می‌شود\n",
    "    <br>\n",
    "     <br>\n",
    "    اصطلاح انتشار (broadcasting) زمانی در آرایه \n",
    "    numpy\n",
    "    به کار می‌رود که قصد انجام عملیات بین دو آرایه با طول متفاوت داشته باشید. در این حالت \n",
    "    numpy\n",
    "    اجازه می‌دهد با در نظر گرفتن قید‌هایی، همچنان بین این دو آرایه عملیات انجام داد. در این حالت آرایه با طول کمتر به اندازه آرایه بزرگتر، بزرگ می‌شود و اصطلاحا در بعد مشخصی \n",
    "    انتشار (broadcast)\n",
    "    می‌کند. \n",
    "    Numpy\n",
    "    با این کار اجازه می‌دهد عملیات مورد به صورت برداری (vectorize) انجام شود که سرعت بالاتری نسبت به for loop\n",
    "    پایتون دارد. اما شروط لازم برای اینکه بتوان \n",
    "    broadcasting انجام داد :\n",
    "    <ol>\n",
    "        <li>\n",
    "ابعاد برابری دارند\n",
    "        </li>\n",
    "        <li>\n",
    "در بعدی که با هم متفاوتند، ابعاد یکی از آن‌ها ۱ باشد\n",
    "        </li>\n",
    "    </ol>\n",
    "    <br>\n",
    "    <br>\n",
    "    <img src=\"https://paris-swc.github.io/advanced-numpy-lesson/fig/numpy_broadcasting.png\"/>\n",
    "    <a href=\"https://paris-swc.github.io/advanced-numpy-lesson/03-broadcasting.html\">منبع :https://paris-swc.github.io/advanced-numpy-lesson/03-broadcasting.html</a>\n",
    "    </font>\n",
    "        </div>"
   ]
  },
  {
   "cell_type": "code",
   "execution_count": null,
   "metadata": {},
   "outputs": [],
   "source": [
    "a = [[0,10,20,30]]\n",
    "b=[0,1,2]\n",
    "na1 = np.tile(a,(3,1)).T\n",
    "nb1 = np.tile(b, (4, 1))\n",
    "\n",
    "print(f'(first image) shape a is : {na1.shape} --- shape b is : {nb1.shape}')\n",
    "print(na1+nb1)\n",
    "\n",
    "\n",
    "nb2 = np.array(b)\n",
    "print(f'(second image) shape a is : {na1.shape} --- shape b is : {nb2.shape}')\n",
    "print(na1+nb2)\n",
    "\n",
    "na2= np.array(a).T\n",
    "print(f'(third image) shape a is : {na2.shape} --- shape b is : {nb2.shape}')\n",
    "print(na2+nb2)\n",
    "\n"
   ]
  },
  {
   "cell_type": "markdown",
   "metadata": {},
   "source": [
    "<div id=\"sec_intro\" style=\"direction:rtl;line-height:300%;\">\n",
    "\t<font face=\"XB Zar\" size=4>\n",
    "    در ادامه از شما می‌خواهیم یک تمرین ساده در ادامه این توضیحات انجام دهید.\n",
    "    بدین منظور ابتدا داده مورد نظر را از فایل \n",
    "    data.npz\n",
    "     با استفاده از دستور\n",
    "    <a href=\"https://docs.scipy.org/doc/numpy/reference/generated/numpy.load.html\">np.load</a>\n",
    "      بارگزاری کنید.\n",
    "     <br>\n",
    "    کلید آرایه مورد نظر در این مجموعه داده \n",
    "    random_values\n",
    "    می‌باشد لذا پس از بارگزاری برای دسترسی به اعضای آرایه‌ی مجموعه \n",
    "    data.npz\n",
    "    مانند دیکشنری پایتون می‌توانید از این کلید استفاده کنید\n",
    "    .\n",
    "    </font>\n",
    "        </div>"
   ]
  },
  {
   "cell_type": "code",
   "execution_count": null,
   "metadata": {},
   "outputs": [],
   "source": [
    "data = np.load(\"data.npz\")[\"random_values\"]"
   ]
  },
  {
   "cell_type": "markdown",
   "metadata": {},
   "source": [
    "<div id=\"sec_intro\" style=\"direction:rtl;line-height:300%;\">\n",
    "\t<font face=\"XB Zar\" size=4>\n",
    "    اکنون با استفاده از دستور \n",
    "    shape\n",
    "    نگاهی به ساختار آرایه داده شده بیاندازید \n",
    "    </font>\n",
    "        </div>"
   ]
  },
  {
   "cell_type": "code",
   "execution_count": null,
   "metadata": {},
   "outputs": [],
   "source": [
    "data.shape"
   ]
  },
  {
   "cell_type": "markdown",
   "metadata": {},
   "source": [
    "<div id=\"sec_intro\" style=\"direction:rtl;line-height:300%;\">\n",
    "\t<font face=\"XB Zar\" size=4>\n",
    "    اکنون آرایه دریافتی را با کمک دستور \n",
    "    reshape\n",
    "    به شکل آرایه سه بعدی در بیاورید.\n",
    "    در اینجا فرض کنید می‌دانیم بعد اول و دوم ۵۰ می‌باشد و بعد سوم را خود numpy\n",
    "    حدس بزند\n",
    "    </font>\n",
    "        </div>"
   ]
  },
  {
   "cell_type": "code",
   "execution_count": null,
   "metadata": {},
   "outputs": [],
   "source": [
    "reshaped_data =  ##TODO\n",
    "reshaped_data.shape"
   ]
  },
  {
   "cell_type": "code",
   "execution_count": null,
   "metadata": {},
   "outputs": [],
   "source": [
    "#basic test of reshaped\n",
    "assert len(reshaped_data.shape) == 3"
   ]
  },
  {
   "cell_type": "markdown",
   "metadata": {},
   "source": [
    "<div id=\"sec_intro\" style=\"direction:rtl;line-height:300%;\">\n",
    "\t<font face=\"XB Zar\" size=4>\n",
    "    اکنون به کمک فرمول زیر و توابع آماده \n",
    "    numpy\n",
    "    داده‌ها\n",
    "    را نرمالسازی کنید\n",
    "    $$ normalized = \\frac{x-x_{min}}{x_{max}-x_{min}}$$\n",
    "سعی کنید این کار را به کمک توابع خود \n",
    "    numpy\n",
    "    و بدون \n",
    "    for loop\n",
    "    انجام دهید\n",
    "    </font>\n",
    "        </div>"
   ]
  },
  {
   "cell_type": "code",
   "execution_count": null,
   "metadata": {},
   "outputs": [],
   "source": [
    "normalized =  ##TODO"
   ]
  },
  {
   "cell_type": "code",
   "execution_count": null,
   "metadata": {},
   "outputs": [],
   "source": [
    "#basic assertion on normalized array \n",
    "assert abs(normalized[0,0,0] - 0.3670898972084954)<0.01"
   ]
  },
  {
   "cell_type": "markdown",
   "metadata": {},
   "source": [
    "<div id=\"sec_intro\" style=\"direction:rtl;line-height:300%;\">\n",
    "\t<font face=\"XB Zar\" size=4>\n",
    "    اکنون میانگین داده‌ها را روی محور 0 بگیرید \n",
    "    axis=0\n",
    "    </font>\n",
    "        </div>"
   ]
  },
  {
   "cell_type": "code",
   "execution_count": null,
   "metadata": {},
   "outputs": [],
   "source": [
    "final_answer =  ##TODO"
   ]
  },
  {
   "cell_type": "code",
   "execution_count": null,
   "metadata": {},
   "outputs": [],
   "source": [
    "#basic assertion on final answer's shape\n",
    "assert len(final_answer.shape) == 2\n",
    "assert final_answer.shape[0] == 50"
   ]
  },
  {
   "cell_type": "code",
   "execution_count": null,
   "metadata": {},
   "outputs": [],
   "source": [
    "#basic assertion on final value answers\n",
    "assert abs(final_answer[0,0]-0.5286892701881204)<0.01"
   ]
  },
  {
   "cell_type": "markdown",
   "metadata": {},
   "source": [
    "<div id=\"sec_intro\" style=\"direction:rtl;line-height:300%;\">\n",
    "\t<font face=\"XB Zar\" size=4>\n",
    "    حال نتایج بدست آمده را با کمک دستور \n",
    "    np.savez\n",
    "     خروجی بگیرید.\n",
    "    <br>\n",
    "    توجه کنید که نام کلید متغیر که در سلول پایین وجود دارد را تغییر ندهید و صرفا متغیری که در مرحله قبل به دست آورده‌اید را جایگزین جای خالی زیر کنید\n",
    "    </font>\n",
    "        </div>"
   ]
  },
  {
   "cell_type": "code",
   "execution_count": null,
   "metadata": {},
   "outputs": [],
   "source": [
    "np.savez(\"answers.npz\",final_answer=final_answer,normalized=normalized,reshaped_data=reshaped_data)"
   ]
  },
  {
   "cell_type": "markdown",
   "metadata": {},
   "source": [
    "بعد از ذخیره کردن نوت‌بوک، **ارسال پاسخ** را انتخاب کنید."
   ]
  },
  {
   "cell_type": "code",
   "execution_count": null,
   "metadata": {},
   "outputs": [],
   "source": []
  }
 ],
 "metadata": {
  "kernelspec": {
   "display_name": "Python 3",
   "language": "python",
   "name": "python3"
  },
  "language_info": {
   "codemirror_mode": {
    "name": "ipython",
    "version": 3
   },
   "file_extension": ".py",
   "mimetype": "text/x-python",
   "name": "python",
   "nbconvert_exporter": "python",
   "pygments_lexer": "ipython3",
   "version": "3.6.9"
  }
 },
 "nbformat": 4,
 "nbformat_minor": 4
}
