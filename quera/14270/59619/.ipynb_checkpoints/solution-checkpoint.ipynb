{
 "cells": [
  {
   "cell_type": "markdown",
   "metadata": {},
   "source": [
    "<div style=\"direction:rtl;line-height:300%;\">\n",
    "\t<font face=\"XB Zar\" size=3>\n",
    "در سلول پایین کد زیر را بنویسید و آن را اجرا کنید. (برای اجرای هر سلول shift + enter را بزنید) \n",
    "    </font>\n",
    "</div>"
   ]
  },
  {
   "cell_type": "code",
   "execution_count": null,
   "metadata": {},
   "outputs": [],
   "source": [
    "print(\"hi jupiter\")"
   ]
  },
  {
   "cell_type": "markdown",
   "metadata": {},
   "source": [
    "<div style=\"direction:rtl;line-height:300%;\">\n",
    "\t<font face=\"XB Zar\" size=3>\n",
    "می‌توانید با استفاده از علامت تعجب در ابتدای کد سلول، \n",
    "دستورهای \n",
    "terminal\n",
    "را در آن اجرا کنید.",
    "    </font>\n",
    "</div>"
   ]
  },
  {
   "cell_type": "code",
   "execution_count": null,
   "metadata": {},
   "outputs": [],
   "source": [
    "!cd"
   ]
  },
  {
   "cell_type": "markdown",
   "metadata": {},
   "source": [
    "<div style=\"direction:rtl;line-height:300%;\">\n",
    "\t<font face=\"XB Zar\" size=3>\n",
    "در طول دوره از سه کتاب‌خانه‌ی زیر استفاده می‌شود. برای راحتی هر سه‌ی آن‌ها را همین حالا نصب کنید.  ",
    "    </font>\n",
    "</div>"
   ]
  },
  {
   "cell_type": "code",
   "execution_count": null,
   "metadata": {},
   "outputs": [],
   "source": [
    "!pip3 install pandas"
   ]
  },
  {
   "cell_type": "code",
   "execution_count": null,
   "metadata": {},
   "outputs": [],
   "source": [
    "!pip3 install numpy"
   ]
  },
  {
   "cell_type": "code",
   "execution_count": null,
   "metadata": {},
   "outputs": [],
   "source": [
    "!pip3 install matplotlib"
   ]
  },
  {
   "cell_type": "markdown",
   "metadata": {},
   "source": [
    "<div style=\"direction:rtl;line-height:300%;\">\n",
    "\t<font face=\"XB Zar\" size=3>\n",
    "کد‌های زیر را اجرا کنید",
    "    </font>\n",
    "</div>"
   ]
  },
  {
   "cell_type": "code",
   "execution_count": null,
   "metadata": {},
   "outputs": [],
   "source": [
    "import pandas as pd\n",
    "credit_df = pd.read_csv('credit.csv')"
   ]
  },
  {
   "cell_type": "markdown",
   "metadata": {},
   "source": [
    "<div style=\"direction:rtl;line-height:300%;\">\n",
    "\t<font face=\"XB Zar\" size=3>\n",
    "در کد بالا به کمک کتاب‌خانه‌ی numpy (که در  درسنامه‌های بعدی مفصل با آن آشنا می‌شوید) داده‌هایی را که در فایل credit.csv است را می‌خواند و در متغیر credit_df قرار می‌دهد. در بخش بعدی می‌توانید سطر‌های اول این داده را مشاهده کنید:",
    "    </font>\n",
    "</div>"
   ]
  },
  {
   "cell_type": "code",
   "execution_count": null,
   "metadata": {},
   "outputs": [],
   "source": [
    "credit_df"
   ]
  },
  {
   "cell_type": "markdown",
   "metadata": {},
   "source": [
    "<div style=\"direction:rtl;line-height:300%;\">\n",
    "\t<font face=\"XB Zar\" size=3>\n",
    "در این سوال که به عنوان نمونه برای شما طراحی شده است باید میانگین مقادیر `Balance`\n و مقادیر مختلف ستون `Ethnicity`\n را محاسبه کنید. دقت کنید این دو مقدار باید حتما در ethnics و balance ذخیره شود. (اگر اسم متفاوتی داشته باشند سیستم داوری پاسخ درستی نخواهد داد)  \n",
    "\n",
    "کد زیر در داده‌ی بالا،\n",
    "میانگین ستون `Balance`\n",
    " و \n",
    " مقادیر ستون `Ethnicity`\n",
    " را استخراج می‌کند.",
    "    </font>\n",
    "</div>"
   ]
  },
  {
   "cell_type": "code",
   "execution_count": null,
   "metadata": {},
   "outputs": [],
   "source": [
    "ethnics = credit_df['Ethnicity'].unique()\n",
    "balance = credit_df['Balance'].mean()"
   ]
  },
  {
   "cell_type": "markdown",
   "metadata": {},
   "source": [
    "<div style=\"direction:rtl;line-height:300%;\">\n",
    "\t<font face=\"XB Zar\" size=3>\n",
    "برای مشاهده‌ی این مقادیر می‌توانید مانند زیر اسم متغیر را نوشته و سلول را اجرا کنید",
    "    </font>\n",
    "</div>"
   ]
  },
  {
   "cell_type": "code",
   "execution_count": null,
   "metadata": {},
   "outputs": [],
   "source": [
    "balance"
   ]
  },
  {
   "cell_type": "markdown",
   "metadata": {},
   "source": [
    "<div style=\"direction:rtl;line-height:300%;\">\n",
    "\t<font face=\"XB Zar\" size=3>\n",
    "در پایان  حتما  جوپیتر خود را  ذخیره (save) کنید. برای این کار  می‌توانید گزینه‌ی بالا و سمت چپ صفحه استفاده کنید و یا ctrl + s را بزنید. بعد از ذخیره کردن دکمه ارسال پاسخ را فشار دهید.",
    "    </font>\n",
    "</div>"
   ]
  }
 ],
 "metadata": {
  "kernelspec": {
   "display_name": "Python 3",
   "language": "python",
   "name": "python3"
  },
  "language_info": {
   "codemirror_mode": {
    "name": "ipython",
    "version": 3
   },
   "file_extension": ".py",
   "mimetype": "text/x-python",
   "name": "python",
   "nbconvert_exporter": "python",
   "pygments_lexer": "ipython3",
   "version": "3.7.5"
  }
 },
 "nbformat": 4,
 "nbformat_minor": 4
}
