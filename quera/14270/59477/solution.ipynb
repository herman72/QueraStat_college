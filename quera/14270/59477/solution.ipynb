{
 "cells": [
  {
   "cell_type": "markdown",
   "metadata": {},
   "source": [
    "<div style=\"direction:rtl;line-height:300%;\">\n",
    "\t<font face=\"XB Zar\" size=5>\n",
    "\t\t<font color=#43a8a5 size=6>\n",
    "\t\t\t<br />\n",
    "\t\t\t<div align=center>\n",
    "کتاب‌خانه matplotlib\n",
    "            </div>\n",
    "\t\t</font>\n",
    "\t\t<br />\n",
    "\t\t<hr />\n",
    "\t\t<style type=\"text/css\" scoped>\n",
    "        p{\n",
    "        border: 1px solid #a2a9b1;background-color: #f8f9fa;display: inline-block;\n",
    "        };\n",
    "        </style>\n",
    "\t\t<div>\n",
    "\t\t\t<h3>فهرست مطالب</h3>\n",
    "\t\t\t<ul style=\"margin-right: 0;\">\n",
    "\t\t\t\t<li>\n",
    "                    <a href=\"#sec_intro\">\n",
    "                        مقدمات\n",
    "                    </a>\n",
    "                </li>\n",
    "                <li>\n",
    "\t\t\t\t\t<a href=\"#sec_point\">\n",
    "                        نمودار نقطه‌ای\n",
    "                    </a>\n",
    "\t\t\t\t</li>\n",
    "                <li>\n",
    "\t\t\t\t\t<a href=\"#sec_histogram\">\n",
    "                        هیستوگرام\n",
    "                    </a>\n",
    "\t\t\t\t</li>\n",
    "                <li>\n",
    "\t\t\t\t\t<a href=\"#sec_box\">\n",
    "                        نمودار جعبه‌ای\n",
    "                    </a>\n",
    "\t\t\t\t</li>\n",
    "                <li>\n",
    "\t\t\t\t\t<a href=\"#sec_enhanced\">\n",
    "                        نمودار نقطه‌ای بهبودیافته\n",
    "                    </a>\n",
    "\t\t\t\t</li>\n",
    "\t\t\t</ul>\n",
    "\t\t</div>\n",
    "\t</font>\n",
    "</div>"
   ]
  },
  {
   "cell_type": "markdown",
   "metadata": {},
   "source": [
    "<br>\n",
    "<div id=\"sec_intro\" style=\"direction:rtl;line-height:300%;\">\n",
    "\t<font face=\"XB Zar\" size=4>\n",
    "\t\t<font color=#33ff49 size=6>\n",
    "            مقدمات\n",
    "        </font>\n",
    "\t\t<p></p>\n",
    "\t\t<hr>\n",
    "        «مت‌پلات‌لیب» (<a href=\"https://matplotlib.org/\">matplotlib</a>) کتابخانه‌ای برای تصویر‌سازی در پایتون است.\n",
    "<br>\n",
    "برای تصویرسازی از داده‌ی \n",
    "<a href=\"https://en.wikipedia.org/wiki/Iris_flower_data_set\">        \n",
    "    آیریس (گل زنبق)\n",
    "        </a>\n",
    "        استفاده می‌کنیم. برای خواندن داده‌های فایل iris_csv.csv از کتابخانه‌ی pandas استفاده می‌کنیم:\n",
    "\n",
    "</font>\n",
    "</div>"
   ]
  },
  {
   "cell_type": "code",
   "execution_count": 1,
   "metadata": {},
   "outputs": [],
   "source": [
    "import pandas as pd\n",
    "import matplotlib.pyplot as plt"
   ]
  },
  {
   "cell_type": "code",
   "execution_count": 2,
   "metadata": {},
   "outputs": [],
   "source": [
    "df_iris = pd.read_csv('iris.csv')"
   ]
  },
  {
   "cell_type": "code",
   "execution_count": 3,
   "metadata": {},
   "outputs": [],
   "source": [
    "classes = sorted(set(df_iris['class']))\n",
    "df_iris = pd.read_csv('iris.csv')"
   ]
  },
  {
   "cell_type": "markdown",
   "metadata": {},
   "source": [
    "<div style=\"direction:rtl;line-height:300%;\">\n",
    "\t<font face=\"XB Zar\" size=4>\n",
    "        پس از فراخوانی هر داده، به چند سطر اول آن نگاهی می‌اندازیم:\n",
    "    </font>\n",
    "</div>"
   ]
  },
  {
   "cell_type": "code",
   "execution_count": 4,
   "metadata": {},
   "outputs": [
    {
     "data": {
      "text/html": [
       "<div>\n",
       "<style scoped>\n",
       "    .dataframe tbody tr th:only-of-type {\n",
       "        vertical-align: middle;\n",
       "    }\n",
       "\n",
       "    .dataframe tbody tr th {\n",
       "        vertical-align: top;\n",
       "    }\n",
       "\n",
       "    .dataframe thead th {\n",
       "        text-align: right;\n",
       "    }\n",
       "</style>\n",
       "<table border=\"1\" class=\"dataframe\">\n",
       "  <thead>\n",
       "    <tr style=\"text-align: right;\">\n",
       "      <th></th>\n",
       "      <th>sepal_length</th>\n",
       "      <th>sepal_width</th>\n",
       "      <th>petal_length</th>\n",
       "      <th>petal_width</th>\n",
       "      <th>class</th>\n",
       "    </tr>\n",
       "  </thead>\n",
       "  <tbody>\n",
       "    <tr>\n",
       "      <th>0</th>\n",
       "      <td>5.1</td>\n",
       "      <td>3.5</td>\n",
       "      <td>1.4</td>\n",
       "      <td>0.2</td>\n",
       "      <td>setosa</td>\n",
       "    </tr>\n",
       "    <tr>\n",
       "      <th>1</th>\n",
       "      <td>4.9</td>\n",
       "      <td>3.0</td>\n",
       "      <td>1.4</td>\n",
       "      <td>0.2</td>\n",
       "      <td>setosa</td>\n",
       "    </tr>\n",
       "    <tr>\n",
       "      <th>2</th>\n",
       "      <td>4.7</td>\n",
       "      <td>3.2</td>\n",
       "      <td>1.3</td>\n",
       "      <td>0.2</td>\n",
       "      <td>setosa</td>\n",
       "    </tr>\n",
       "    <tr>\n",
       "      <th>3</th>\n",
       "      <td>4.6</td>\n",
       "      <td>3.1</td>\n",
       "      <td>1.5</td>\n",
       "      <td>0.2</td>\n",
       "      <td>setosa</td>\n",
       "    </tr>\n",
       "    <tr>\n",
       "      <th>4</th>\n",
       "      <td>5.0</td>\n",
       "      <td>3.6</td>\n",
       "      <td>1.4</td>\n",
       "      <td>0.2</td>\n",
       "      <td>setosa</td>\n",
       "    </tr>\n",
       "  </tbody>\n",
       "</table>\n",
       "</div>"
      ],
      "text/plain": [
       "   sepal_length  sepal_width  petal_length  petal_width   class\n",
       "0           5.1          3.5           1.4          0.2  setosa\n",
       "1           4.9          3.0           1.4          0.2  setosa\n",
       "2           4.7          3.2           1.3          0.2  setosa\n",
       "3           4.6          3.1           1.5          0.2  setosa\n",
       "4           5.0          3.6           1.4          0.2  setosa"
      ]
     },
     "execution_count": 4,
     "metadata": {},
     "output_type": "execute_result"
    }
   ],
   "source": [
    "df_iris.head()"
   ]
  },
  {
   "cell_type": "markdown",
   "metadata": {},
   "source": [
    "<div style=\"direction:rtl;line-height:300%;\">\n",
    "\t<font face=\"XB Zar\" size=4>\n",
    "این داده از ستون‌های مختلفی تشکیل شده است که ویژگی‌های ۵۰ نمونه از طول و عرضِ کاسبرگ و گلبرگ، گل‌های زنبق مختلف را نشان می‌دهد.\n",
    "<br>\n",
    "حال به کشیدن چند نمودار معمول در این کتابخانه، می‌پردازیم.\n",
    "   </font>\n",
    "</div>"
   ]
  },
  {
   "cell_type": "markdown",
   "metadata": {},
   "source": [
    "<br>\n",
    "<div id=\"sec_point\" style=\"direction:rtl;line-height:300%;\">\n",
    "\t<font face=\"XB Zar\" size=4>\n",
    "\t\t<font color=#33ff49 size=6>\n",
    "        نمودار نقطه‌ای\n",
    "        </font>\n",
    "        <p></p>\n",
    "\t\t<hr>\n",
    "        برای نمونه، نمودار نقطه‌ای دو ویژگی «طول کاسبرگ» بر حسب «طول گلبرگ» را رسم می‌کنیم:\n",
    "  \n",
    "  </font>\n",
    "</div>"
   ]
  },
  {
   "cell_type": "code",
   "execution_count": 5,
   "metadata": {},
   "outputs": [
    {
     "data": {
      "image/png": "[encoded data removed]",
      "text/plain": [
       "<Figure size 432x288 with 1 Axes>"
      ]
     },
     "metadata": {
      "needs_background": "light"
     },
     "output_type": "display_data"
    }
   ],
   "source": [
    "plt.figure()\n",
    "plt.title('Sepal_Length vs Petal_Length')\n",
    "\n",
    "plt.scatter( df_iris['sepal_length'], df_iris['petal_length'] )\n",
    "\n",
    "plt.xlabel('Sepal_Length')\n",
    "plt.ylabel('Petal_Length')\n",
    "plt.show()"
   ]
  },
  {
   "cell_type": "markdown",
   "metadata": {},
   "source": [
    "<br>\n",
    "<div id=\"sec_R_packages\" style=\"direction:rtl;line-height:300%;\">\n",
    "\t<font face=\"XB Zar\" size=4>\n",
    "        همان‌گونه که در شکل مشاهده می‌کنید، یک «همبستگی» (correlation) مثبت میان «طول کاسبرگ» و «طول گلبرگ» وجود دارد. این ارتباط می‌تواند دلایل متفاوتی داشته باشد (به طول مثال، «برای حمایت از گلبرگ بزرگ‌تر، نیاز به کاسبرگ بزرگ‌تر است» یا ... ). این موضوع به ما این دانش را اضافه می‌کند که اگر مسئله‌ی مورد بررسی «پیش‌بینی طول کاسبرگ است، یک متغیر کمک‌کننده، طول گلبرگ خواهد بود» و یا «اگر محدودیت اضافه کردن متغیرها وجود داشته باشد، شاید در یک مدل، بتوان یکی از این دو متغیر را وارد کرد» و ... . دقت شود که گزاره‌های بیان شده، به هیچ عنوان «جامع» و یا «کلی» نیستند و در هر مسئله نحوه‌ی استنتاج از اطلاعات در نمودار، متفاوت است!\n",
    "   </font>\n",
    "</div>"
   ]
  },
  {
   "cell_type": "markdown",
   "metadata": {},
   "source": [
    "<br>\n",
    "<div id=\"sec_histogram\" style=\"direction:rtl;line-height:300%;\">\n",
    "\t<font face=\"XB Zar\" size=4>\n",
    "\t\t<font color=#33ff49 size=6>\n",
    "        هیستوگرام\n",
    "        </font>\n",
    "\t\t<p></p>\n",
    "\t\t<hr>\n",
    "به عنوان نمونه‌ای دیگر، به هیستوگرام «عرض گلبرگ» نگاه می‌کنیم:\n",
    "\t</font>\n",
    "</div>"
   ]
  },
  {
   "cell_type": "code",
   "execution_count": 6,
   "metadata": {},
   "outputs": [
    {
     "data": {
      "image/png": "[encoded data removed]",
      "text/plain": [
       "<Figure size 432x288 with 1 Axes>"
      ]
     },
     "metadata": {
      "needs_background": "light"
     },
     "output_type": "display_data"
    }
   ],
   "source": [
    "plt.figure()\n",
    "plt.title('Histogram of Petal Width')\n",
    "\n",
    "plt.hist( df_iris['petal_width'], bins = 20 )\n",
    "\n",
    "plt.ylabel('Frequency')\n",
    "plt.xlabel('Petal Width')\n",
    "plt.show()"
   ]
  },
  {
   "cell_type": "markdown",
   "metadata": {},
   "source": [
    "<br>\n",
    "<div id=\"sec_R_packages\" style=\"direction:rtl;line-height:300%;\">\n",
    "    <font face=\"XB Zar\" size=4>\n",
    "با توجه به نمودار، شاید بتوان حدس زد که در توزیع، مشاهده شده است که گونه‌های مختلف، ۳ قلّه‌ی مختلف را تشکیل می‌دهند! باید بیش‌تر نمودار کشید! اما همین نمودار به ما می‌گوید که مشاهده‌ی «عرض گلبرگ» بزرگ‌تر از ۲.۵ سانتی‌متر نادر خواهد بود! و یا حتی مشاهده‌ی «گل زنبق‌ای (از ۳دسته‌ی نمونه‌گیری شده) با عرض گلبرگ ۰.۷۵ سانتی‌متر، نادر خواهد بود»!\n",
    "    </font>\n",
    "</div>"
   ]
  },
  {
   "cell_type": "markdown",
   "metadata": {},
   "source": [
    "<br>\n",
    "<div id=\"sec_box\" style=\"direction:rtl;line-height:300%;\">\n",
    "\t<font face=\"XB Zar\" size=4>\n",
    "\t\t<font color=#33ff49 size=6>\n",
    "        نمودار جعبه‌ای\n",
    "        </font>\n",
    "\t\t<p></p>\n",
    "\t\t<hr>\n",
    "برای بررسی بیش‌تر مشاهده‌ی قبلی، به کشیدن نمودار جعبه‌ای «عرض گلبرگ» بر اساس گروه‌بندی «نوع گل زنبق»، می‌پردازیم.\n",
    "\n",
    "\n",
    "\n",
    "</font>\n",
    "</div>"
   ]
  },
  {
   "cell_type": "code",
   "execution_count": 9,
   "metadata": {},
   "outputs": [
    {
     "data": {
      "image/png": "[encoded data removed]",
      "text/plain": [
       "<matplotlib.figure.Figure at 0x7fa32a18f9e8>"
      ]
     },
     "metadata": {
      "needs_background": "light"
     },
     "output_type": "display_data"
    }
   ],
   "source": [
    "ys = []\n",
    "for _class in classes:\n",
    "    ys.append( df_iris['petal_width'][ df_iris['class'] == _class ].tolist() )\n",
    "\n",
    "plt.figure()\n",
    "plt.title('Boxplot of Petal_Width for Classes')\n",
    "\n",
    "plt.boxplot( ys, labels = classes )\n",
    "\n",
    "plt.ylabel( 'Petal Width' )\n",
    "plt.show()"
   ]
  },
  {
   "cell_type": "markdown",
   "metadata": {},
   "source": [
    "<div id=\"sec_whatisR\" style=\"direction:rtl;line-height:300%;\">\n",
    "\t<font face=\"XB Zar\" size=4>\n",
    "همان‌طور که مشاهده می‌کنیم، در نمودارها جعبه‌ای، توزیع‌های «عرض گلبرگ» برای انواع گل زنبق (موجود در داده) تفاوت معناداری با یکدیگر در توزیع دارند. به این معنی که اگر گل زنبقی «عرض گلبرگ» کم‌تر از ۰.۵ سانتی‌متر داشته باشد، به احتمال زیاد (نه قطعا!) به دسته‌ی «ستوسا» (setosa) تعلق دارد و یا گل زنبق‌ای با «عرض گلبرگ» ۱.۲۵ سانتی‌متر، با احتمال زیاد به دسته‌ی «ورسی‌کالر»(versicolor) تعلق دارد.\n",
    "        <br>\n",
    "        این نمودار نشان می‌دهد که اگر هدف، حدس زدن «گونه‌ی گل زنبق» باشد، می‌توان از پارامتر «عرض گلبرگ» به عنوان یک عامل تمیز دهنده استفاده کرد!\n",
    "     </font>\n",
    "</div>"
   ]
  },
  {
   "cell_type": "markdown",
   "metadata": {},
   "source": [
    "<br>\n",
    "<div id=\"sec_enhanced\" style=\"direction:rtl;line-height:300%;\">\n",
    "\t<font face=\"XB Zar\" size=4>\n",
    "\t\t<font color=#33ff49 size=6>\n",
    "نمودار نقطه‌ای بهبود‌یافته\n",
    "        </font>\n",
    "\t\t<p></p>\n",
    "\t\t<hr>\n",
    "        حال به رسم نمودار نقطه‌ای با اضافه کردن اطلاعات بصری بیش‌تر می‌پردازیم تا شاید بتوان مفاهیم و الگوهای بیش‌تری از داده استخراج کرد.\n",
    "<br>\n",
    "در این نمودار محور افقی «طول کاسبرگ»، محور عمودی «طول گلبرگ»، رنگ «دسته‌ی زنبق» و اندازه‌ی نقطه‌ها «عرض گلبرگ» را نشان می‌دهد.\n",
    "</font>\n",
    "</div>"
   ]
  },
  {
   "cell_type": "code",
   "execution_count": 10,
   "metadata": {},
   "outputs": [
    {
     "data": {
      "image/png": "[encoded data removed]",
      "text/plain": [
       "<matplotlib.figure.Figure at 0x7fa32a1dce10>"
      ]
     },
     "metadata": {
      "needs_background": "light"
     },
     "output_type": "display_data"
    }
   ],
   "source": [
    "# Colors\n",
    "colors_dict = dict(zip(\n",
    "    classes, [ 'red', 'green', 'blue' ]\n",
    "))\n",
    "\n",
    "# Visualize\n",
    "plt.figure()\n",
    "plt.title('Sepal Length vs. Petal Length')\n",
    "\n",
    "for _class in classes:\n",
    "    to_plot = df_iris[ df_iris['class'] == _class ]\n",
    "    plt.scatter(\n",
    "        to_plot['sepal_length'],\n",
    "        to_plot['petal_length'],\n",
    "        c = colors_dict[_class],\n",
    "        s = to_plot['petal_width']*20,\n",
    "        label = _class\n",
    "    )\n",
    "#\n",
    "plt.legend()\n",
    "plt.xlabel('Sepal Length')\n",
    "plt.ylabel('Petal Length')\n",
    "plt.show()"
   ]
  },
  {
   "cell_type": "markdown",
   "metadata": {},
   "source": [
    "<br>\n",
    "<div id=\"sec_cheatSheet\" style=\"direction:rtl;line-height:300%;\">\n",
    "\t<font face=\"XB Zar\" size=4>\n",
    "در تصویر اطلاعات زیادی نمایان است که یکی یکی به آن‌ها می‌پردازیم.\n",
    "            <ul style=\"margin-right: 0;\">\n",
    "\t\t\t\t<li>\n",
    "توجه کنید که دسته‌های مختلف، از نظر «طول گلبرگ» (محور عمودی) باهم فاصله‌های معنی‌داری دارند.\n",
    "                </li>\n",
    "                <li>\n",
    "همچنین، دسته‌های مختلف، از نظر «طول کاسبرگ» (محور افقی) نیز تفکیک‌پذیری خوبی دارند.\n",
    "</li>\n",
    "\n",
    "<li>\n",
    "مشاهده می‌کنید که «همبستگی»ای میان «طول گلبرگ» و «عرض گلبرگ» وجود دارد (نقاط بالاتر، اندازه‌ی بزرگ‌تری دارند و برعکس).\n",
    "</li>\n",
    "\n",
    "<li>\n",
    "و ...\n",
    "</li>\n",
    "</ul>\n",
    "همان‌طور که می‌بیند، در یک نمودار، می‌توان اطلاعات مختلف نهفته در داده را مشاهده کرد.\n",
    "<br>\n",
    "اما دقت کنید که با افزایش پیچیدگی نمودارها، کمی از هدف اصلی تصویرسازی دور می‌شویم (استخراج الگوها و اطلاعات در یک نگاه)! باید همواره توجه کرد که نمودارها از پیچیدگی‌ِ «به اندازه» برخوردار باشند!\n",
    "</font>\n",
    "</div>"
   ]
  },
  {
   "cell_type": "code",
   "execution_count": null,
   "metadata": {},
   "outputs": [],
   "source": []
  }
 ],
 "metadata": {
  "kernelspec": {
   "display_name": "Python 3",
   "language": "python",
   "name": "python3"
  },
  "language_info": {
   "codemirror_mode": {
    "name": "ipython",
    "version": 3
   },
   "file_extension": ".py",
   "mimetype": "text/x-python",
   "name": "python",
   "nbconvert_exporter": "python",
   "pygments_lexer": "ipython3",
   "version": "3.6.9"
  },
  "latex_envs": {
   "LaTeX_envs_menu_present": true,
   "autoclose": false,
   "autocomplete": true,
   "bibliofile": "biblio.bib",
   "cite_by": "apalike",
   "current_citInitial": 1,
   "eqLabelWithNumbers": true,
   "eqNumInitial": 1,
   "hotkeys": {
    "equation": "Ctrl-E",
    "itemize": "Ctrl-I"
   },
   "labels_anchors": false,
   "latex_user_defs": false,
   "report_style_numbering": false,
   "user_envs_cfg": false
  },
  "toc": {
   "base_numbering": 1,
   "nav_menu": {},
   "number_sections": true,
   "sideBar": true,
   "skip_h1_title": false,
   "title_cell": "Table of Contents",
   "title_sidebar": "Contents",
   "toc_cell": false,
   "toc_position": {},
   "toc_section_display": true,
   "toc_window_display": false
  },
  "varInspector": {
   "cols": {
    "lenName": 16,
    "lenType": 16,
    "lenVar": 40
   },
   "kernels_config": {
    "python": {
     "delete_cmd_postfix": "",
     "delete_cmd_prefix": "del ",
     "library": "var_list.py",
     "varRefreshCmd": "print(var_dic_list())"
    },
    "r": {
     "delete_cmd_postfix": ") ",
     "delete_cmd_prefix": "rm(",
     "library": "var_list.r",
     "varRefreshCmd": "cat(var_dic_list()) "
    }
   },
   "types_to_exclude": [
    "module",
    "function",
    "builtin_function_or_method",
    "instance",
    "_Feature"
   ],
   "window_display": false
  }
 },
 "nbformat": 4,
 "nbformat_minor": 4
}
