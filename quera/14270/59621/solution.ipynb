{
 "cells": [
  {
   "cell_type": "markdown",
   "metadata": {},
   "source": [
    "<div style=\"direction:rtl;line-height:300%;\">\n",
    "\t<font face=\"XB Zar\" size=5>\n",
    "\t\t<div align=center>\n",
    "\t\t</div>\n",
    "\t\t<font color=#43a8a5 size=6>\n",
    "\t\t\t<br />\n",
    "\t\t\t<div align=center>\n",
    "استاد مهربان\n",
    "            </div>\n",
    "\t\t</font>\n",
    "\t\t<br />\n",
    "\t\t<hr />\n",
    "\t\t<style type=\"text/css\" scoped>\n",
    "        p{\n",
    "        border: 1px solid #a2a9b1;background-color: #f8f9fa;display: inline-block;\n",
    "        };\n",
    "        </style>\n",
    "\t</font>\n",
    "</div>"
   ]
  },
  {
   "cell_type": "markdown",
   "metadata": {},
   "source": [
    "<p></p>\n",
    "<br />\n",
    "<div id=\"intro\" style=\"direction:rtl;line-height:300%;\">\n",
    "\t<font face=\"XB Zar\" size=4>\n",
    "\t\t<p></p>\n",
    "در این تمرین می‌خواهیم مقدمات کار با numpy را با هم تمرین کنیم.\n",
    "        <br>\n",
    "آرایه زیر را که نمرات صد دانشجوی مختلف در درس ریاضی یک دانشگاه شریف است، در نظر بگیرید(داده‌ها واقعی نیستند):        <br>\n",
    "\n",
    "</div>"
   ]
  },
  {
   "cell_type": "code",
   "execution_count": 1,
   "metadata": {},
   "outputs": [],
   "source": [
    "import numpy as np"
   ]
  },
  {
   "cell_type": "code",
   "execution_count": 8,
   "metadata": {},
   "outputs": [],
   "source": [
    "grades = np.array([ 3. , 17. ,  6.5,  0.5,  8. ,  6.5, 19. , 13.5,  2.5, 17. , 19. ,\n",
    "       19.5, 13. ,  0. ,  6. ,  0.5,  9.5, 13.5, 16. ,  2.5, 10.5,  8. ,\n",
    "       10. , 15.5,  7.5,  0. ,  1. , 10.5,  2. , 11. ,  3. , 14. ,  3.5,\n",
    "       18.5, 13. ,  1. , 14.5, 15. ,  1. , 15.5,  1.5,  2. ,  3.5,  6.5,\n",
    "        2.5, 14.5, 11.5,  8. ,  0. ,  5.5,  0.5, 20. ,  5. ,  0.5, 17.5,\n",
    "       17.5, 17.5, 15. ,  4.5, 17. , 18. , 10. ,  8.5, 14. , 18.5, 19.5,\n",
    "       16. ,  8.5,  0. ,  9.5,  6. ,  2. ,  5. ,  9.5,  4. ,  4. ,  1. ,\n",
    "        8. , 18.5, 18. , 15.5,  4.5,  1.5, 20. ,  0.5, 19. ,  4. ,  9.5,\n",
    "       13. , 10. ,  3.5,  1.5,  6.5,  0.5, 11.5, 17. , 13.5, 11.5, 13. ,\n",
    "       13. ])"
   ]
  },
  {
   "cell_type": "code",
   "execution_count": 9,
   "metadata": {},
   "outputs": [
    {
     "data": {
      "text/plain": [
       "3.0"
      ]
     },
     "execution_count": 9,
     "metadata": {},
     "output_type": "execute_result"
    }
   ],
   "source": [
    "grades[0]"
   ]
  },
  {
   "cell_type": "markdown",
   "metadata": {},
   "source": [
    "<div id=\"bayes\" style=\"direction:rtl;line-height:300%;\">\n",
    "\t<font face=\"XB Zar\" size=4>\n",
    "\t\t<p></p>\n",
    "بعد از ثبت نمرات، استاد درس تصمیم می‌گیرد که به دانشجویان درس ارفاقی انجام دهد. به این صورت که(x نمره اصلی و y نمره با ارفاق شخص است.):\n",
    "<br>\n",
    "۱. اگر نمره شخص کمتر از هفت است:\n",
    "<br>\n",
    "$$ y = 9 + \\frac{x}{10} $$\n",
    "<br>\n",
    "۲. اگر نمره او بیشتر یا مساوی هفت است:\n",
    "<br>\n",
    "$$ y =  -0.0047x^{2} + 0.9571x + 3.5333 $$\n",
    "<br>\n",
    "توجه کنید که بیشینه نمره بیست است. بنابراین اگر نمره‌ای بیشتر از بیست شود، همان بیست منظور می‌شود.\n",
    "<br>\n",
    "(فرمول بالا برگرفته از فرمول به کار رفته برای درس ریاضی یک دانشگاه شریف در سال ۹۷ است.)\n",
    "<br>\n",
    "نمرات جدید را حساب کنید و در همان آرایه نمرات ذخیره کنید.\n",
    "<br>\n",
    "(راهنمایی: توجه کنید که نمره جدید همه اشخاصی که نمره اصلی‌شان کمتر از هفت بوده، از همه اشخاصی که نمره اصلی‌شان بیشتر از هفت بوده کمتر می‌شود. )\n",
    "</div>"
   ]
  },
  {
   "cell_type": "code",
   "execution_count": 10,
   "metadata": {},
   "outputs": [],
   "source": [
    "for i in range(len(grades)):\n",
    "    \n",
    "    if grades[i] < 7:\n",
    "        grades[i] = 9 + grades[i]/10\n",
    "    else:\n",
    "        grades[i] = -0.0047 * np.power(grades[i],2) + 0.9571 *grades[i] + 3.5333\n",
    "        \n",
    "    if grades[i]>20:\n",
    "        grades[i]=20\n",
    "        "
   ]
  },
  {
   "cell_type": "code",
   "execution_count": 11,
   "metadata": {},
   "outputs": [
    {
     "data": {
      "text/plain": [
       "array([ 9.3     , 18.4457  ,  9.65    ,  9.05    , 10.8893  ,  9.65    ,\n",
       "       20.      , 15.597575,  9.25    , 18.4457  , 20.      , 20.      ,\n",
       "       15.1813  ,  9.      ,  9.6     ,  9.05    , 12.201575, 15.597575,\n",
       "       17.6437  ,  9.25    , 13.064675, 10.8893  , 12.6343  , 17.239175,\n",
       "       10.447175,  9.      ,  9.1     , 13.064675,  9.2     , 13.4927  ,\n",
       "        9.3     , 16.0115  ,  9.35    , 19.631075, 15.1813  ,  9.1     ,\n",
       "       16.423075, 16.8323  ,  9.1     , 17.239175,  9.15    ,  9.2     ,\n",
       "        9.35    ,  9.65    ,  9.25    , 16.423075, 13.918375, 10.8893  ,\n",
       "        9.      ,  9.55    ,  9.05    , 20.      ,  9.5     ,  9.05    ,\n",
       "       18.843175, 18.843175, 18.843175, 16.8323  ,  9.45    , 18.4457  ,\n",
       "       19.2383  , 12.6343  , 11.329075, 16.0115  , 19.631075, 20.      ,\n",
       "       17.6437  , 11.329075,  9.      , 12.201575,  9.6     ,  9.2     ,\n",
       "        9.5     , 12.201575,  9.4     ,  9.4     ,  9.1     , 10.8893  ,\n",
       "       19.631075, 19.2383  , 17.239175,  9.45    ,  9.15    , 20.      ,\n",
       "        9.05    , 20.      ,  9.4     , 12.201575, 15.1813  , 12.6343  ,\n",
       "        9.35    ,  9.15    ,  9.65    ,  9.05    , 13.918375, 18.4457  ,\n",
       "       15.597575, 13.918375, 15.1813  , 15.1813  ])"
      ]
     },
     "execution_count": 11,
     "metadata": {},
     "output_type": "execute_result"
    }
   ],
   "source": [
    "grades"
   ]
  },
  {
   "cell_type": "markdown",
   "metadata": {},
   "source": [
    "<div id=\"bayes\" style=\"direction:rtl;line-height:300%;\">\n",
    "\t<font face=\"XB Zar\" size=4>\n",
    "\t\t<p></p>\n",
    "حال می‌خواهیم از بین نمرات جدید، آن‌هایی را که بیشتر یا مساوی هفده شده‌اند، در آرایه زیر ذخیره کنیم:\n",
    "        \n",
    "</div>"
   ]
  },
  {
   "cell_type": "code",
   "execution_count": 12,
   "metadata": {},
   "outputs": [],
   "source": [
    "top_grades = grades[grades>=17]"
   ]
  },
  {
   "cell_type": "code",
   "execution_count": 13,
   "metadata": {},
   "outputs": [
    {
     "data": {
      "text/plain": [
       "array([18.4457  , 20.      , 18.4457  , 20.      , 20.      , 17.6437  ,\n",
       "       17.239175, 19.631075, 17.239175, 20.      , 18.843175, 18.843175,\n",
       "       18.843175, 18.4457  , 19.2383  , 19.631075, 20.      , 17.6437  ,\n",
       "       19.631075, 19.2383  , 17.239175, 20.      , 20.      , 18.4457  ])"
      ]
     },
     "execution_count": 13,
     "metadata": {},
     "output_type": "execute_result"
    }
   ],
   "source": [
    "top_grades"
   ]
  },
  {
   "cell_type": "markdown",
   "metadata": {},
   "source": [
    "<div id=\"bayes\" style=\"direction:rtl;line-height:300%;\">\n",
    "\t<font face=\"XB Zar\" size=4>\n",
    "\t\t<p></p>\n",
    "حال، پنج درایه اول این آرایه را به عنوان نمونه در آرایه زیر می‌ریزیم:\n",
    "        \n",
    "</div>"
   ]
  },
  {
   "cell_type": "code",
   "execution_count": 14,
   "metadata": {},
   "outputs": [],
   "source": [
    "five_samples = top_grades[:5]"
   ]
  },
  {
   "cell_type": "markdown",
   "metadata": {},
   "source": [
    "<div id=\"bayes\" style=\"direction:rtl;line-height:300%;\">\n",
    "\t<font face=\"XB Zar\" size=4>\n",
    "\t\t<p></p>\n",
    "با اجرای دستور زیر، آرایه‌ها را ذخیره کنید تا پاسخ‌های‌تان ارزیابی شود.\n",
    "        \n",
    "</div>"
   ]
  },
  {
   "cell_type": "code",
   "execution_count": null,
   "metadata": {},
   "outputs": [],
   "source": [
    "np.savez(\"answers.npz\",grades = grades,top_grades = top_grades,five_samples = five_samples)"
   ]
  },
  {
   "cell_type": "code",
   "execution_count": null,
   "metadata": {},
   "outputs": [],
   "source": []
  }
 ],
 "metadata": {
  "kernelspec": {
   "display_name": "Python 3",
   "language": "python",
   "name": "python3"
  },
  "language_info": {
   "codemirror_mode": {
    "name": "ipython",
    "version": 3
   },
   "file_extension": ".py",
   "mimetype": "text/x-python",
   "name": "python",
   "nbconvert_exporter": "python",
   "pygments_lexer": "ipython3",
   "version": "3.6.9"
  },
  "latex_envs": {
   "LaTeX_envs_menu_present": true,
   "autoclose": false,
   "autocomplete": true,
   "bibliofile": "biblio.bib",
   "cite_by": "apalike",
   "current_citInitial": 1,
   "eqLabelWithNumbers": true,
   "eqNumInitial": 1,
   "hotkeys": {
    "equation": "Ctrl-E",
    "itemize": "Ctrl-I"
   },
   "labels_anchors": false,
   "latex_user_defs": false,
   "report_style_numbering": false,
   "user_envs_cfg": false
  },
  "toc": {
   "base_numbering": 1,
   "nav_menu": {},
   "number_sections": true,
   "sideBar": true,
   "skip_h1_title": false,
   "title_cell": "Table of Contents",
   "title_sidebar": "Contents",
   "toc_cell": false,
   "toc_position": {},
   "toc_section_display": true,
   "toc_window_display": false
  },
  "varInspector": {
   "cols": {
    "lenName": 16,
    "lenType": 16,
    "lenVar": 40
   },
   "kernels_config": {
    "python": {
     "delete_cmd_postfix": "",
     "delete_cmd_prefix": "del ",
     "library": "var_list.py",
     "varRefreshCmd": "print(var_dic_list())"
    },
    "r": {
     "delete_cmd_postfix": ") ",
     "delete_cmd_prefix": "rm(",
     "library": "var_list.r",
     "varRefreshCmd": "cat(var_dic_list()) "
    }
   },
   "types_to_exclude": [
    "module",
    "function",
    "builtin_function_or_method",
    "instance",
    "_Feature"
   ],
   "window_display": false
  }
 },
 "nbformat": 4,
 "nbformat_minor": 4
}
