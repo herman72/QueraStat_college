{
 "cells": [
  {
   "cell_type": "markdown",
   "metadata": {},
   "source": [
    "<div style=\"direction:rtl;line-height:300%;\">\n",
    "\t<font face=\"XB Zar\" size=5>\n",
    "\t\t<font color=#43a8a5 size=6>\n",
    "\t\t\t<br />\n",
    "\t\t\t<div align=center>\n",
    "کتاب‌خانه numpy\n",
    "            </div>\n",
    "\t\t</font>\n",
    "\t\t<br />\n",
    "\t\t<hr />\n",
    "\t\t<style type=\"text/css\" scoped>\n",
    "        p{\n",
    "        border: 1px solid #a2a9b1;background-color: #f8f9fa;display: inline-block;\n",
    "        };\n",
    "        </style>\n",
    "\t\t<div>\n",
    "\t\t\t<h3>فهرست مطالب</h3>\n",
    "\t\t\t<ul style=\"margin-right: 0;\">\n",
    "\t\t\t\t<li>\n",
    "                    <a href=\"#sec_intro\">\n",
    "                        مقدمات\n",
    "                    </a>\n",
    "                </li>\n",
    "                <li>\n",
    "\t\t\t\t\t<a href=\"#sec_array\">\n",
    "                        آرایه‌ها\n",
    "                    </a>\n",
    "\t\t\t\t</li>\n",
    "                <li>\n",
    "\t\t\t\t\t<a href=\"#sec_accessValue\">\n",
    "                      دسترسی به اعضای آرایه\n",
    "                    </a>\n",
    "\t\t\t\t</li>\n",
    "                <li>\n",
    "\t\t\t\t\t<a href=\"#sec_calculation\">\n",
    "                        محاسبات آرایه‌ها\n",
    "                    </a>\n",
    "\t\t\t\t</li>\n",
    "                <li>\n",
    "\t\t\t\t\t<a href=\"#sec_additional\">\n",
    "                        مطالعه بیشتر\n",
    "                    </a>\n",
    "\t\t\t\t</li>\n",
    "                <li>\n",
    "\t\t\t\t\t<a href=\"#sec_cheatSheet\">\n",
    "                        برگه تقلب\n",
    "                    </a>\n",
    "\t\t\t\t</li>\n",
    "\t\t\t</ul>\n",
    "\t\t</div>\n",
    "\t</font>\n",
    "</div>"
   ]
  },
  {
   "cell_type": "markdown",
   "metadata": {},
   "source": [
    "<br>\n",
    "<div id=\"sec_intro\" style=\"direction:rtl;line-height:300%;\">\n",
    "\t<font face=\"XB Zar\" size=4>\n",
    "\t\t<font color=#33FF49 size=6>\n",
    "            مقدمات\n",
    "        </font>\n",
    "\t\t<p></p>\n",
    "\t\t<hr>\n",
    "        همان‌طور که می‌دانید، پیاده‌سازی‌های این دوره با زبان پایتون انجام می‌شود. برای کارهای مربوط به آمار و یادگیری ماشین، مانند هر کار تخصصی دیگری در پایتون، کتاب‌خانه‌های بسیاری وجود دارد که برای راحت‌تر کد زدن نوشته شده‌اند.\n",
    "<br>\n",
    "به همین دلیل، در این فصل ، به صورت متمرکز سه کتابخانه‌ی اصلی را که برای یادگیری ماشین نیاز داریم، فرا می‌گیریم تا در ادامه‌ی دوره، پیاده‌سازی‌ها را با تسلط بیشتری انجام دهیم.\n",
    "<br>\n",
    "در این دوره برای کارهای مربوط به یادگیری ماشین و تحلیل داده، به طور عمده از چند کتابخانه استفاده می‌شود. این کتاب‌خانه‌ها، شهرت و محبوبیت بالایی دارند و بسیاری از کارها را برای ما آسان می‌کنند. به همین دلیل، در این فصل با کلیات کار با این چند کتابخانه که همگی عضو اکوسیستم SciPy هستند، یعنی کتاب‌خانه‌های pandas ،numpy و matplotlib، آشنا می‌شویم.\n",
    "<br>\n",
    "اکوسیستم \n",
    "        <a href=\"https://scipy.org/\">SciPy</a>\n",
    "        (سای پای)، مجموعه‌ای از کتاب‌خانه‌های متن‌باز برای پایتون است. SciPy برای تسهیل کار با داده‌ها و محاسبات علمی بهینه نوشته شده است.\n",
    "<br>\n",
    "هدف این فصل، آشنایی با کلیات و منطق این سه کتاب‌خانه است و انتظار می‌رود در انتهای فصل، بتوانید به صورت روان با این سه کتاب‌خانه کار کنید. هم‌چنین انتظار می‌رود در صورتی که نیاز به یادگیری مطلبی جدید درباره‌ی این سه کتاب‌خانه داشته باشید، پس از پایان این فصل، با صرف اندکی انرژی بتوانید آن را یاد بگیرید.\n",
    "<br>\n",
    "         در میان کتاب‌خانه‌های SciPy ، که در ابتدای فصل درباره آن توضیحاتی داده شد، کتاب‌خانه‌ی <a href=\"https://numpy.org/\">numpy</a> (نام پای) کتاب‌خانه‌ای بنیادین و مهم است که در این درس‌نامه مبانی کار با آن را فرا می‌گیریم. از آن‌جایی که ماتریس‌ها مهم‌ترین داده‌ساختار مورد استفاده برای بیان الگوریتم‌های مربوط به یادگیری ماشین هستند، این کتاب‌خانه نوشته شده تا کار با این داده‌ساختار را تسهیل کند. لذا اولین کتاب‌خانه‌ای که در این فصل یاد می‌گیریم، کتاب‌خانه numpy است.\n",
    "\n",
    "</font>\n",
    "</div>"
   ]
  },
  {
   "cell_type": "markdown",
   "metadata": {},
   "source": [
    "<div style=\"direction:rtl;line-height:300%;\">\n",
    "\t<font face=\"XB Zar\" size=4>\n",
    "    \tبرای نصب numpy، دستور زیر را در پایتون اجرا می‌کنیم:\n",
    "    </font>\n",
    "</div>"
   ]
  },
  {
   "cell_type": "code",
   "execution_count": null,
   "metadata": {},
   "outputs": [],
   "source": [
    "!pip install numpy"
   ]
  },
  {
   "cell_type": "markdown",
   "metadata": {},
   "source": [
    "<div style=\"direction:rtl;line-height:300%;\">\n",
    "\t<font face=\"XB Zar\" size=4>\n",
    "        برای شروع کار با numpy، ابتدا آن را با دستور <code>import</code>، وارد می‌کنیم.\n",
    "\n",
    "   </font>\n",
    "</div>"
   ]
  },
  {
   "cell_type": "code",
   "execution_count": 2,
   "metadata": {},
   "outputs": [],
   "source": [
    "import numpy as np"
   ]
  },
  {
   "cell_type": "markdown",
   "metadata": {},
   "source": [
    "<br>\n",
    "<div style=\"direction:rtl;line-height:300%;\">\n",
    "\t<font face=\"XB Zar\" size=4>\n",
    "            نامی که پس از دستور <code>as</code> می‌آید، در واقع برای راحت صدا زدن دستورات آن کتاب‌خانه استفاده می‌شود. مثلا اگر کتاب‌خانه‌ی package دستوری به نام function داشته باشد، این‌گونه می‌توانیم از آن استفاده کنیم:\n",
    "\t</font>\n",
    "        \n",
    "</div>"
   ]
  },
  {
   "cell_type": "code",
   "execution_count": 3,
   "metadata": {},
   "outputs": [],
   "source": [
    "# import package as pkg\n",
    "# pkg.function()"
   ]
  },
  {
   "cell_type": "markdown",
   "metadata": {},
   "source": [
    "<br>\n",
    "<div id=\"sec_array\" style=\"direction:rtl;line-height:300%;\">\n",
    "\t<font face=\"XB Zar\" size=4>\n",
    "\t\t<font color=#33ff49 size=6>\n",
    "        آرایه‌ها\n",
    "        </font>\n",
    "        <p></p>\n",
    "\t\t<hr>\n",
    "\t\tاساسی‌ترین داده‌ساختار numpy آرایه numpy است. آرایه numpy، جدولی از داده‌هاست که همه داده‌های آن از یک نوع داده هستند. برای ساخت آرایه numpy، می‌توانیم از لیست‌های پایتون استفاده کنیم.\n",
    "  \n",
    "  </font>\n",
    "</div>"
   ]
  },
  {
   "cell_type": "code",
   "execution_count": 4,
   "metadata": {},
   "outputs": [],
   "source": [
    "a = np.array([1,2,3])"
   ]
  },
  {
   "cell_type": "markdown",
   "metadata": {},
   "source": [
    "<br>\n",
    "<div id=\"sec_R_packages\" style=\"direction:rtl;line-height:300%;\">\n",
    "\t<font face=\"XB Zar\" size=4>\n",
    "برای دسترسی به اشیاء این آرایه‌ می‌توانیم از قلاب (براکت) استفاده کنیم. (توجه کنید که آرایه‌های numpy صفر-مبنا (zero-based) هستند. یعنی برای دسترسی به اولین عضو آرایه، باید از اندیس صفر استفاده کرد.)        \n",
    "   </font>\n",
    "</div>"
   ]
  },
  {
   "cell_type": "code",
   "execution_count": 5,
   "metadata": {},
   "outputs": [
    {
     "name": "stdout",
     "output_type": "stream",
     "text": [
      "1 3 2\n"
     ]
    }
   ],
   "source": [
    "print(a[0],a[2],a[1])"
   ]
  },
  {
   "cell_type": "markdown",
   "metadata": {},
   "source": [
    "<br>\n",
    "<div id=\"sec_R_packages\" style=\"direction:rtl;line-height:300%;\">\n",
    "    <font face=\"XB Zar\" size=4>\n",
    "        برای دیدن ابعاد آرایه، می‌توانیم از ویژگی <code>shape</code> آرایه استفاده کنیم.\n",
    "    </font>\n",
    "</div>"
   ]
  },
  {
   "cell_type": "code",
   "execution_count": 7,
   "metadata": {},
   "outputs": [
    {
     "name": "stdout",
     "output_type": "stream",
     "text": [
      "(3,)\n"
     ]
    }
   ],
   "source": [
    "print(a.shape)"
   ]
  },
  {
   "cell_type": "markdown",
   "metadata": {},
   "source": [
    "<br>\n",
    "<div id=\"sec_R_packages\" style=\"direction:rtl;line-height:300%;\">\n",
    "    <font face=\"XB Zar\" size=4>\n",
    "خروجی مذکور، به ما می‌گوید که این آرایه یک بعدی‌‌ست و دارای سه عضو می‌باشد. \n",
    "<br>\n",
    "        با استفاده از دستور <code>print</code> نیز می‌توانیم آرایه را چاپ کنیم.\n",
    "    </font>\n",
    "</div>"
   ]
  },
  {
   "cell_type": "code",
   "execution_count": 8,
   "metadata": {},
   "outputs": [
    {
     "name": "stdout",
     "output_type": "stream",
     "text": [
      "[1 2 3]\n"
     ]
    }
   ],
   "source": [
    "print(a)"
   ]
  },
  {
   "cell_type": "markdown",
   "metadata": {},
   "source": [
    "<br>\n",
    "<div id=\"sec_R_packages\" style=\"direction:rtl;line-height:300%;\">\n",
    "    <font face=\"XB Zar\" size=4>\n",
    "اعضای آرایه‌های numpy، قابل تغییر هستند. به روش زیر می‌توانیم یکی از اعضای آرایه را تغییر دهیم:\n",
    "    </font>\n",
    "</div>"
   ]
  },
  {
   "cell_type": "code",
   "execution_count": 9,
   "metadata": {},
   "outputs": [
    {
     "name": "stdout",
     "output_type": "stream",
     "text": [
      "[ 1 10  3]\n"
     ]
    }
   ],
   "source": [
    "a[1] = 10\n",
    "print(a)"
   ]
  },
  {
   "cell_type": "markdown",
   "metadata": {},
   "source": [
    "<br>\n",
    "<div id=\"sec_R_packages\" style=\"direction:rtl;line-height:300%;\">\n",
    "    <font face=\"XB Zar\" size=4>\n",
    "در numpy می‌توان از آرایه‌های چندبعدی نیز استفاده کرد. به طور مثال برای تعریف و کار با آرایه دوبعدی به شیوه زیر عمل می‌کنیم:\n",
    "    </font>\n",
    "</div>"
   ]
  },
  {
   "cell_type": "code",
   "execution_count": 11,
   "metadata": {},
   "outputs": [
    {
     "name": "stdout",
     "output_type": "stream",
     "text": [
      "[[1 2 3]\n",
      " [4 5 6]]\n"
     ]
    }
   ],
   "source": [
    "b = np.array([[1,2,3],[4,5,6]])\n",
    "print(b)"
   ]
  },
  {
   "cell_type": "code",
   "execution_count": 12,
   "metadata": {},
   "outputs": [
    {
     "name": "stdout",
     "output_type": "stream",
     "text": [
      "(2, 3)\n"
     ]
    }
   ],
   "source": [
    "print(b.shape)"
   ]
  },
  {
   "cell_type": "code",
   "execution_count": 13,
   "metadata": {},
   "outputs": [
    {
     "name": "stdout",
     "output_type": "stream",
     "text": [
      "1 2 6\n"
     ]
    }
   ],
   "source": [
    "print(b[0,0],b[0,1],b[1,2])"
   ]
  },
  {
   "cell_type": "markdown",
   "metadata": {},
   "source": [
    "<br>\n",
    "<div id=\"sec_R_packages\" style=\"direction:rtl;line-height:300%;\">\n",
    "    <font face=\"XB Zar\" size=4>\n",
    "خروجی دستور b.shape در بالا به ما می‌گوید که این آرایه دارای دو بعد بوده که بعد اول دارای دو عضو و بُعد دوم آن دارای سه عضو است. \n",
    "<br>\n",
    "کتاب‌خانه numpy، دستوراتی نیز برای ساخت آرایه‌های خاص دارد. مثلا برای ساخت آرایه‌هایی که تمام اعضای آن برابر صفر، یک، یا مقداری خاص باشد دستوراتی دارد که در ادامه می‌بینیم. این دستورات ابعاد آرایه دل‌خواه را به عنوان ورودی می‌گیرند.    \n",
    "    </font>\n",
    "</div>"
   ]
  },
  {
   "cell_type": "code",
   "execution_count": 14,
   "metadata": {},
   "outputs": [
    {
     "name": "stdout",
     "output_type": "stream",
     "text": [
      "[[0. 0. 0.]\n",
      " [0. 0. 0.]]\n"
     ]
    }
   ],
   "source": [
    "sefr = np.zeros((2,3))\n",
    "print(sefr)"
   ]
  },
  {
   "cell_type": "code",
   "execution_count": 15,
   "metadata": {},
   "outputs": [
    {
     "name": "stdout",
     "output_type": "stream",
     "text": [
      "[[1. 1.]\n",
      " [1. 1.]\n",
      " [1. 1.]]\n"
     ]
    }
   ],
   "source": [
    "yek = np.ones((3,2))\n",
    "print(yek)"
   ]
  },
  {
   "cell_type": "code",
   "execution_count": 16,
   "metadata": {},
   "outputs": [
    {
     "name": "stdout",
     "output_type": "stream",
     "text": [
      "[['x']\n",
      " ['x']\n",
      " ['x']]\n"
     ]
    }
   ],
   "source": [
    "xs = np.full((3,1),'x')\n",
    "print(xs)"
   ]
  },
  {
   "cell_type": "code",
   "execution_count": 17,
   "metadata": {},
   "outputs": [
    {
     "name": "stdout",
     "output_type": "stream",
     "text": [
      "[[1. 0. 0.]\n",
      " [0. 1. 0.]\n",
      " [0. 0. 1.]]\n"
     ]
    }
   ],
   "source": [
    "I = np.identity(3)\n",
    "print(I)"
   ]
  },
  {
   "cell_type": "markdown",
   "metadata": {},
   "source": [
    "<br>\n",
    "<div id=\"sec_R_packages\" style=\"direction:rtl;line-height:300%;\">\n",
    "    <font face=\"XB Zar\" size=4>\n",
    "دستور آخر نیز، \n",
    "<a href=\"https://fa.wikipedia.org/wiki/%D9%85%D8%A7%D8%AA%D8%B1%DB%8C%D8%B3_%D9%87%D9%85%D8%A7%D9%86%DB%8C\">        ماتریسی همانی</a>\n",
    "با سایز n می‌سازد (n ورودی تابع است).\n",
    "    </font>\n",
    "</div>"
   ]
  },
  {
   "cell_type": "markdown",
   "metadata": {},
   "source": [
    "<br>\n",
    "<div id=\"sec_accessValue\" style=\"direction:rtl;line-height:300%;\">\n",
    "\t<font face=\"XB Zar\" size=4>\n",
    "\t\t<font color=#33ff49 size=6>\n",
    "       دسترسی به اعضای آرایه\n",
    "        </font>\n",
    "\t\t<p></p>\n",
    "\t\t<hr>\n",
    "        خیلی از اوقات می‌خواهیم به بخش خاصی از آرایه دسترسی پیدا کنیم و آن را ببینیم. مثلا فرض کنید مثال‌های زیر را می‌خواهیم به نمایش بگذاریم:\n",
    "            <ul style=\"margin-right: 0;\">\n",
    "\t\t\t\t<li>\n",
    "مشاهده ردیف اول آرایه\n",
    "                </li>\n",
    "                <li>\n",
    "مشاهده ستون اول آرایه\n",
    "</li>\n",
    "\n",
    "<li>\n",
    "مشاهده ردیف‌های دو به بعد آرایه\n",
    "</li>\n",
    "\n",
    "<li>\n",
    "مشاهده بلوک شامل تقاطع ردیف‌های دو و سه و ستون‌های دو تا چهار\n",
    "</li>\n",
    "\n",
    "<li>\n",
    "مشاهده اعضای آرایه که مقداری بیشتر از دو دارند.\n",
    "</li>\n",
    "\n",
    "\n",
    "</ul>\n",
    "ابتدا آرایه‌ای دوبعدی تعریف می‌کنیم:\n",
    "\t</font>\n",
    "</div>"
   ]
  },
  {
   "cell_type": "code",
   "execution_count": 36,
   "metadata": {},
   "outputs": [
    {
     "name": "stdout",
     "output_type": "stream",
     "text": [
      "[[ 1  2  3  4]\n",
      " [ 5  6  7  8]\n",
      " [ 9 10 11 12]]\n"
     ]
    }
   ],
   "source": [
    "a = np.array([[1,2,3,4], [5,6,7,8], [9,10,11,12]])\n",
    "print(a)"
   ]
  },
  {
   "cell_type": "markdown",
   "metadata": {},
   "source": [
    "<br>\n",
    "<div id=\"sec_R_packages\" style=\"direction:rtl;line-height:300%;\">\n",
    "    <font face=\"XB Zar\" size=4>\n",
    "اگر بخواهیم ردیف اول آرایه را ببینیم، می‌توانیم این‌گونه عمل کنیم:\n",
    "    </font>\n",
    "</div>"
   ]
  },
  {
   "cell_type": "code",
   "execution_count": 37,
   "metadata": {},
   "outputs": [
    {
     "name": "stdout",
     "output_type": "stream",
     "text": [
      "[1 2 3 4]\n"
     ]
    }
   ],
   "source": [
    "print(a[0])"
   ]
  },
  {
   "cell_type": "code",
   "execution_count": 38,
   "metadata": {},
   "outputs": [
    {
     "name": "stdout",
     "output_type": "stream",
     "text": [
      "[1 2 3 4]\n"
     ]
    }
   ],
   "source": [
    "print(a[0,])"
   ]
  },
  {
   "cell_type": "markdown",
   "metadata": {},
   "source": [
    "<br>\n",
    "<div id=\"sec_R_packages\" style=\"direction:rtl;line-height:300%;\">\n",
    "    <font face=\"XB Zar\" size=4>\n",
    "توجه کنید هر دو شیوه نوشتن خروجی مطلوب را به ما می‌دهد.\n",
    "<br>\n",
    "حال اگر بخواهیم ستون اول آرایه را مشاهده کنیم، از دستور زیر استفاده می‌کنیم:\n",
    "\n",
    "</font>\n",
    "</div>"
   ]
  },
  {
   "cell_type": "code",
   "execution_count": 39,
   "metadata": {},
   "outputs": [
    {
     "name": "stdout",
     "output_type": "stream",
     "text": [
      "[1 5 9]\n"
     ]
    }
   ],
   "source": [
    "print(a[:,0])"
   ]
  },
  {
   "cell_type": "markdown",
   "metadata": {},
   "source": [
    "<br>\n",
    "<div id=\"sec_R_packages\" style=\"direction:rtl;line-height:300%;\">\n",
    "    <font face=\"XB Zar\" size=4>\n",
    "عملگر: در ابتدای براکت بیانگر این است که روی بُعد اول شرطی نداریم؛ به عبارتی روی ردیف‌ها شرط خاصی نمی‌گذاریم و تمام ردیف‌هایی را که شماره ستون‌شان ۰ است را مد نظر داریم.\n",
    "<br>\n",
    "حال می‌خواهیم به ردیف‌های دو به بعد آرایه دسترسی داشته باشیم. دستور زیر این کار را برای ما انجام می‌دهد:    </font>\n",
    "</div>"
   ]
  },
  {
   "cell_type": "code",
   "execution_count": 43,
   "metadata": {},
   "outputs": [
    {
     "name": "stdout",
     "output_type": "stream",
     "text": [
      "[[ 5  6  7  8]\n",
      " [ 9 10 11 12]]\n"
     ]
    }
   ],
   "source": [
    "print(a[1:])"
   ]
  },
  {
   "cell_type": "code",
   "execution_count": 44,
   "metadata": {},
   "outputs": [
    {
     "name": "stdout",
     "output_type": "stream",
     "text": [
      "[[ 5  6  7  8]\n",
      " [ 9 10 11 12]]\n"
     ]
    }
   ],
   "source": [
    "print(a[1:,:])"
   ]
  },
  {
   "cell_type": "code",
   "execution_count": 45,
   "metadata": {},
   "outputs": [
    {
     "name": "stdout",
     "output_type": "stream",
     "text": [
      "[[ 5  6  7  8]\n",
      " [ 9 10 11 12]]\n"
     ]
    }
   ],
   "source": [
    "print(a[1:,])"
   ]
  },
  {
   "cell_type": "markdown",
   "metadata": {},
   "source": [
    "<br>\n",
    "<div id=\"sec_R_packages\" style=\"direction:rtl;line-height:300%;\">\n",
    "    <font face=\"XB Zar\" size=4>\n",
    "        برای دیدن بلوک شامل تقاطع ردیف‌های دو و سه و ستون‌های دو تا چهار نیز دستور زیر راه‌گشاست:\n",
    "\n",
    "</font>\n",
    "</div>"
   ]
  },
  {
   "cell_type": "code",
   "execution_count": 46,
   "metadata": {},
   "outputs": [
    {
     "name": "stdout",
     "output_type": "stream",
     "text": [
      "[[ 6  7  8]\n",
      " [10 11 12]]\n"
     ]
    }
   ],
   "source": [
    "print(a[1:3,1:4])"
   ]
  },
  {
   "cell_type": "markdown",
   "metadata": {},
   "source": [
    "<br>\n",
    "<div id=\"sec_R_packages\" style=\"direction:rtl;line-height:300%;\">\n",
    "    <font face=\"XB Zar\" size=4>\n",
    "        توجه کنید که عدد پس از <code>:</code> خودش شامل اندیس‌های مدنظر نیست؛ مثلا در عبارت بالا\n",
    "        <code>1:3</code>\n",
    "        به معنای ردیف‌های یک تا دقیقا قبل سه (یعنی یک و دو) است.\n",
    "<br>\n",
    "برای این‌که دقیقا درایه‌هایی خاص از آرایه‌مان را انتخاب کنیم، می‌توانیم آرایه‌ای بولی در همان ابعاد ایجاد کنیم و در آرایه بولی، درایه‌های متناظری را که می‌خواهیم انتخاب کنیم، برابر <code>True</code> قرار دهیم.\n",
    "</font>\n",
    "</div>"
   ]
  },
  {
   "cell_type": "code",
   "execution_count": 47,
   "metadata": {},
   "outputs": [
    {
     "name": "stdout",
     "output_type": "stream",
     "text": [
      "[1 2 6]\n"
     ]
    }
   ],
   "source": [
    "a = np.array([[1,2,3],[4,5,6]])\n",
    "bool_ind = np.array([[True, True, False],[False,False,True]])\n",
    "print(a[bool_ind]) "
   ]
  },
  {
   "cell_type": "markdown",
   "metadata": {},
   "source": [
    "<br>\n",
    "<div id=\"sec_R_packages\" style=\"direction:rtl;line-height:300%;\">\n",
    "    <font face=\"XB Zar\" size=4>\n",
    "حال برای آن‌که بتوانیم اعضای آرایه را که مقداری بیشتر از دو دارند، از شیوه زیر می‌توانیم استفاده کنیم:\n",
    "\n",
    "\n",
    "</font>\n",
    "</div>"
   ]
  },
  {
   "cell_type": "code",
   "execution_count": 52,
   "metadata": {
    "scrolled": true
   },
   "outputs": [
    {
     "name": "stdout",
     "output_type": "stream",
     "text": [
      "[[False False  True]\n",
      " [ True  True  True]]\n"
     ]
    }
   ],
   "source": [
    "bool_ind = a > 2\n",
    "print(bool_ind)"
   ]
  },
  {
   "cell_type": "code",
   "execution_count": 51,
   "metadata": {},
   "outputs": [
    {
     "name": "stdout",
     "output_type": "stream",
     "text": [
      "[3 4 5 6]\n"
     ]
    }
   ],
   "source": [
    "print(a[bool_ind])"
   ]
  },
  {
   "cell_type": "markdown",
   "metadata": {},
   "source": [
    "<br>\n",
    "<div id=\"sec_R_packages\" style=\"direction:rtl;line-height:300%;\">\n",
    "    <font face=\"XB Zar\" size=4>\n",
    "        همان‌طور که دیدید، دستور <code>a > 2</code> ، آرایه‌ای بولی هم‌اندازه با <code>a</code> برمی‌گرداند که درایه‌هایی از آن <code>True</code> است که مقدار متناظرش در <code>a</code> بیشتر از دو بوده باشد و بقیه مقادیرش <code>False</code> است. طبق منطق گفته‌شده، <code>a[bool_ind]</code> اعضای بیشتر از دوی <code>a</code> را برمی‌گرداند. بنابراین به طور خلاصه از دستور زیر نیز می‌توان استفاده کرد:\n",
    "</font>\n",
    "</div>"
   ]
  },
  {
   "cell_type": "code",
   "execution_count": 54,
   "metadata": {},
   "outputs": [
    {
     "name": "stdout",
     "output_type": "stream",
     "text": [
      "[3 4 5 6]\n"
     ]
    }
   ],
   "source": [
    "print(a[a > 2])"
   ]
  },
  {
   "cell_type": "markdown",
   "metadata": {},
   "source": [
    "<br>\n",
    "<div id=\"sec_calculation\" style=\"direction:rtl;line-height:300%;\">\n",
    "\t<font face=\"XB Zar\" size=4>\n",
    "\t\t<font color=#33ff49 size=6>\n",
    "محاسبات آرایه‌ها\n",
    "        </font>\n",
    "\t\t<p></p>\n",
    "\t\t<hr>\n",
    "برای انجام جمع درایه به درایه روی دو آرایه، از دستورات زیر می‌توان استفاده کرد:\n",
    "\n",
    "\n",
    "</font>\n",
    "</div>"
   ]
  },
  {
   "cell_type": "code",
   "execution_count": 55,
   "metadata": {},
   "outputs": [
    {
     "name": "stdout",
     "output_type": "stream",
     "text": [
      "[[ 6  8]\n",
      " [10 12]]\n"
     ]
    }
   ],
   "source": [
    "x = np.array([[1,2],[3,4]])\n",
    "y = np.array([[5,6],[7,8]])\n",
    "print(x+y)"
   ]
  },
  {
   "cell_type": "code",
   "execution_count": 57,
   "metadata": {},
   "outputs": [
    {
     "name": "stdout",
     "output_type": "stream",
     "text": [
      "[[ 6  8]\n",
      " [10 12]]\n"
     ]
    }
   ],
   "source": [
    "print(np.add(x,y))"
   ]
  },
  {
   "cell_type": "markdown",
   "metadata": {},
   "source": [
    "<div id=\"sec_whatisR\" style=\"direction:rtl;line-height:300%;\">\n",
    "\t<font face=\"XB Zar\" size=4>\n",
    "        <br>\n",
    "به همین صورت برای تفریق، ضرب و تقسیم درایه به درایه دو آرایه می‌توان از عملگرهای -، * و / یا توابع <code>np.subtract</code> ، <code>np.multiply</code> و <code>np.divide</code> استفاده کرد.\n",
    "<br>\n",
    "        حال اگر بخواهیم دو آرایه عددی(ماتریس یا بردار) را در هم \n",
    "    <a href=\"https://fa.wikipedia.org/wiki/%D8%B6%D8%B1%D8%A8_%D9%85%D8%A7%D8%AA%D8%B1%DB%8C%D8%B3\">        \n",
    "    ضرب\n",
    "     </a>\n",
    "        کنیم، از دستور <code>np.dot</code> مانند مثال زیر استفاده می‌کنیم:    </font>\n",
    "</div>"
   ]
  },
  {
   "cell_type": "code",
   "execution_count": 59,
   "metadata": {},
   "outputs": [
    {
     "name": "stdout",
     "output_type": "stream",
     "text": [
      "[[19 22]\n",
      " [43 50]]\n"
     ]
    }
   ],
   "source": [
    "a = np.array([-1,2])\n",
    "x = np.array([[1,2],[3,4]])\n",
    "y = np.array([[5,6],[7,8]])\n",
    "print(x.dot(y))"
   ]
  },
  {
   "cell_type": "code",
   "execution_count": 60,
   "metadata": {},
   "outputs": [
    {
     "name": "stdout",
     "output_type": "stream",
     "text": [
      "[[19 22]\n",
      " [43 50]]\n"
     ]
    }
   ],
   "source": [
    "print(np.dot(x,y))"
   ]
  },
  {
   "cell_type": "code",
   "execution_count": 61,
   "metadata": {},
   "outputs": [
    {
     "name": "stdout",
     "output_type": "stream",
     "text": [
      "[3 5]\n"
     ]
    }
   ],
   "source": [
    "print(np.dot(x,a))"
   ]
  },
  {
   "cell_type": "markdown",
   "metadata": {},
   "source": [
    "<div id=\"sec_whatisR\" style=\"direction:rtl;line-height:300%;\">\n",
    "\t<font face=\"XB Zar\" size=4>\n",
    "        <br>\n",
    "        توجه کنید که در مثال بالا، <code>a</code> به عنوان ماتریسی ستونی(بردار) استفاده می‌شود.\n",
    "<br>\n",
    "برای محاسبه \n",
    "<a href=\"https://fa.wikipedia.org/wiki/%D8%AA%D8%B1%D8%A7%D9%86%D9%87%D8%A7%D8%AF%D9%87\"> ترانهاده</a>\n",
    "        یک ماتریس می‌توانیم از دستور زیر استفاده کنیم:\n",
    "</font>\n",
    "</div>"
   ]
  },
  {
   "cell_type": "code",
   "execution_count": 62,
   "metadata": {},
   "outputs": [
    {
     "name": "stdout",
     "output_type": "stream",
     "text": [
      "[[ 1  5]\n",
      " [-2 -4]]\n"
     ]
    }
   ],
   "source": [
    "a = np.array([[1,-2],[5,-4]])\n",
    "print(a.T)"
   ]
  },
  {
   "cell_type": "markdown",
   "metadata": {},
   "source": [
    "<div id=\"sec_whatisR\" style=\"direction:rtl;line-height:300%;\">\n",
    "\t<font face=\"XB Zar\" size=4>\n",
    "        <br>\n",
    "هم‌چنین برای محاسبه \n",
    "        <a href=\"https://fa.wikipedia.org/wiki/%D9%85%D8%A7%D8%AA%D8%B1%DB%8C%D8%B3_%D9%88%D8%A7%D8%B1%D9%88%D9%86\">وارون</a>\n",
    "            یک ماتریس\n",
    "، از دستور زیر استفاده می‌کنیم:\n",
    "\n",
    "</font>\n",
    "</div>"
   ]
  },
  {
   "cell_type": "code",
   "execution_count": 63,
   "metadata": {},
   "outputs": [
    {
     "name": "stdout",
     "output_type": "stream",
     "text": [
      "[[2. 3.]\n",
      " [2. 2.]]\n"
     ]
    }
   ],
   "source": [
    "m = np.array([[-1, 1.5],[1,-1]])\n",
    "print(np.linalg.inv(m))"
   ]
  },
  {
   "cell_type": "markdown",
   "metadata": {},
   "source": [
    "<div id=\"sec_whatisR\" style=\"direction:rtl;line-height:300%;\">\n",
    "\t<font face=\"XB Zar\" size=4>\n",
    "        <br>\n",
    "کتاب‌خانه numpy دستورات ریاضی بسیاری دارد که برای کاربردهای مختلف می‌توان از آن استفاده کرد. لیست کامل توابع ریاضی numpy را می‌توانید از \n",
    "<a href=\"https://docs.scipy.org/doc/numpy/reference/routines.math.html\">این</a>\n",
    "پیوند ببینید.\n",
    "</font>\n",
    "</div>"
   ]
  },
  {
   "cell_type": "markdown",
   "metadata": {},
   "source": [
    "<br>\n",
    "<div id=\"sec_additional\" style=\"direction:rtl;line-height:300%;\">\n",
    "\t<font face=\"XB Zar\" size=4>\n",
    "\t\t<font color=#33ff49 size=6>\n",
    "مطالعه بیشتر\n",
    "        </font>\n",
    "\t\t<p></p>\n",
    "\t\t<hr>\n",
    "آن‌چه که در این درس‌نامه دیدیم، مقدمه‌ای بر قابلیت‌ها و دستورات numpy بود که در این دوره مورد نیازمان خواهد بود. این کتاب‌خانه قابلیت‌های زیادی دارد که می‌توانید مستندات کامل آن را از طریق این \n",
    "        <a href=\"https://docs.scipy.org/doc/numpy/reference/index.html\">پیوند</a>\n",
    "ببینید. هم‌چنین در \n",
    "        <a href=\"http://cs231n.github.io/python-numpy-tutorial/#numpy\">این</a>\n",
    "و \n",
    "<a href=\"http://jalammar.github.io/visual-numpy/\">این</a>\n",
    "پیوند، آموزش‌های مقدماتی خوبی برای numpy موجود است که می‌توانید آن‌ها را نیز ببینید. برای نوشتن این درس‌نامه، از منبع اول کمک گرفته‌ شده است.\n",
    "</font>\n",
    "</div>"
   ]
  },
  {
   "cell_type": "markdown",
   "metadata": {},
   "source": [
    "<br>\n",
    "<div id=\"sec_cheatSheet\" style=\"direction:rtl;line-height:300%;\">\n",
    "\t<font face=\"XB Zar\" size=4>\n",
    "\t\t<font color=#33ff49 size=6>\n",
    "برگه تقلب\n",
    "        </font>\n",
    "\t\t<p></p>\n",
    "\t\t<hr>\n",
    "        برگه تقلب(Cheat Sheet) به مجموعه‌ای از نوشته‌های فشرده که دستورات و کلیات اصلی یک کتاب‌خانه را دارد می‌گویند. برگه‌های تقلب، برای مراجعه‌های سریع و پیداکردن دستور موردنظر بسیار مفید هستند و توصیه می‌شود که از آن‌ها استفاده کنید. دلیل نام‌گذاری برگه تقلب به این نام این است که مانند برگه‌هایی هستند که افراد برای تقلب‌کردن در امتحان از آن‌ها استفاده می‌کنند؛ مختصر و مفید!\n",
    "<br>\n",
    "برای کتاب‌خانه‌های معرفی‌شده در این فصل، برگه تقلب مربوطه نیز گذاشته می‌شود.\n",
    "<br>\n",
    "برای دانلود برگه تقلب مربوط به numpy، می‌توانید از \n",
    "        <a href=\"https://quera.ir/qbox/download/24fhy2bnkH/Numpy_Cheat_Sheet.pdf\">این</a>\n",
    "        پیوند اقدام کنید.\n",
    "        (<a href=\"https://datacamp.com/\">منبع</a>)\n",
    "</font>\n",
    "</div>"
   ]
  },
  {
   "cell_type": "code",
   "execution_count": null,
   "metadata": {},
   "outputs": [],
   "source": []
  }
 ],
 "metadata": {
  "kernelspec": {
   "display_name": "Python 3",
   "language": "python",
   "name": "python3"
  },
  "language_info": {
   "codemirror_mode": {
    "name": "ipython",
    "version": 3
   },
   "file_extension": ".py",
   "mimetype": "text/x-python",
   "name": "python",
   "nbconvert_exporter": "python",
   "pygments_lexer": "ipython3",
   "version": "3.6.9"
  },
  "latex_envs": {
   "LaTeX_envs_menu_present": true,
   "autoclose": false,
   "autocomplete": true,
   "bibliofile": "biblio.bib",
   "cite_by": "apalike",
   "current_citInitial": 1,
   "eqLabelWithNumbers": true,
   "eqNumInitial": 1,
   "hotkeys": {
    "equation": "Ctrl-E",
    "itemize": "Ctrl-I"
   },
   "labels_anchors": false,
   "latex_user_defs": false,
   "report_style_numbering": false,
   "user_envs_cfg": false
  },
  "toc": {
   "base_numbering": 1,
   "nav_menu": {},
   "number_sections": true,
   "sideBar": true,
   "skip_h1_title": false,
   "title_cell": "Table of Contents",
   "title_sidebar": "Contents",
   "toc_cell": false,
   "toc_position": {},
   "toc_section_display": true,
   "toc_window_display": false
  },
  "varInspector": {
   "cols": {
    "lenName": 16,
    "lenType": 16,
    "lenVar": 40
   },
   "kernels_config": {
    "python": {
     "delete_cmd_postfix": "",
     "delete_cmd_prefix": "del ",
     "library": "var_list.py",
     "varRefreshCmd": "print(var_dic_list())"
    },
    "r": {
     "delete_cmd_postfix": ") ",
     "delete_cmd_prefix": "rm(",
     "library": "var_list.r",
     "varRefreshCmd": "cat(var_dic_list()) "
    }
   },
   "types_to_exclude": [
    "module",
    "function",
    "builtin_function_or_method",
    "instance",
    "_Feature"
   ],
   "window_display": false
  }
 },
 "nbformat": 4,
 "nbformat_minor": 4
}
