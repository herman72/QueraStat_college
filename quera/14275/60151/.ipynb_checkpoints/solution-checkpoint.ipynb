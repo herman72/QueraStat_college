{
 "cells": [
  {
   "cell_type": "markdown",
   "metadata": {},
   "source": [
    "<div style=\"direction:rtl;line-height:300%;\">\n",
    "\t<font face=\"XB Zar\" size=5>\n",
    "\t\t<div align=center>\n",
    "\t\t</div>\n",
    "\t\t<hr/>\n",
    "\t\t<font color=#0f6d02 size=6>\n",
    "\t\t\t<br />\n",
    "\t\t\t<div align=center>\n",
    "چیپس‌های خالی!!            </div>\n",
    "\t\t</font>\n",
    "\t\t<br />\n",
    "\t\t<hr />\n",
    "\t\t<style type=\"text/css\" scoped>\n",
    "        p{\n",
    "        border: 1px solid #a2a9b1;background-color: #f8f9fa;display: inline-block;\n",
    "        };\n",
    "        </style>\n",
    "\t</font>\n",
    "</div>"
   ]
  },
  {
   "cell_type": "markdown",
   "metadata": {},
   "source": [
    "<br>\n",
    "<div id=\"sec_intro\" style=\"direction:rtl;line-height:300%;\">\n",
    "\t<font face=\"XB Zar\" size=4>\n",
    "در سرزمین‌های دور پس از دوره‌ای گرانی، یک شرکت تولیدکننده‌ی تنقلات تصمیم گرفت تا به کم فروشی بپردازد و میزان چپیس کمتری را در بسته‌های چیپس ۳۰۰ گرمی خود فرار دهد. فردی بیکار و البته بادغدغه در این بین، پس از مدتی مشاهده، به میزان وزن چپیس‌ها مشکوک شد.\n",
    "<br>\n",
    "    این فرد پس از مدتی تصمیم گرفت تا تعدادی چیپس را بخرد و وزن آن‌ها را اندازه گیری کند. این فرد اندازه‌ی این بسته‌چپیس ها را در لیست زیر ریخته است:\n",
    "        \n",
    "</div>"
   ]
  },
  {
   "cell_type": "code",
   "execution_count": null,
   "metadata": {},
   "outputs": [],
   "source": [
    "heights = [212, 198, 190, 203, 542, 356, 253, 297, 168, 256, 245, 262, 301, 246, 199, 129,\n",
    "          199, 291, 256, 242, 259, 275, 219, 395, 310, 199, 201, 200, 295, 209, 175, 132,\n",
    "          392, 180, 201, 206, 199, 206, 265, 216, 302, 167, 102, 199, 300, 199, 176, 286,\n",
    "          334, 177, 196, 178, 198, 277, 167, 257, 286, 200, 98, 201]"
   ]
  },
  {
   "cell_type": "markdown",
   "metadata": {},
   "source": [
    "<br>\n",
    "<div id=\"sec_whatisR\" style=\"direction:rtl;line-height:300%;\">\n",
    "<font face=\"XB Zar\" size=4>\n",
    "        <font color=#000000 size=4>\n",
    "این شخص برای این‌که به تحلیل بهتری دست پیدا کند، تصمیم‌می‌گیرد که ده درصد از چیپس‌های با وزن پرت را از داده‌های خود حذف کند. \n",
    "    </font>\n",
    "        \n",
    "</div>"
   ]
  },
  {
   "cell_type": "markdown",
   "metadata": {},
   "source": [
    "<br>\n",
    "<div id=\"sec_whatisR\" style=\"direction:rtl;line-height:300%;\">\n",
    "<font face=\"XB Zar\" size=4>\n",
    "        <font color=#000000 size=4>\n",
    "در گام بعدی تصمیم‌ می‌گیرد به ازای هر یک از مقادیر پیش‌بینی شده توسط خودش، برای وزن چیپس‌ها مقدار \n",
    "p-value\n",
    "را حساب کند.\n",
    "    </font>\n",
    "        \n",
    "</div>"
   ]
  },
  {
   "cell_type": "code",
   "execution_count": null,
   "metadata": {},
   "outputs": [],
   "source": [
    "mass_list = [175,200,225,250,275,300,325]"
   ]
  },
  {
   "cell_type": "markdown",
   "metadata": {},
   "source": [
    "<br>\n",
    "<div id=\"sec_whatisR\" style=\"direction:rtl;line-height:300%;\">\n",
    "<font face=\"XB Zar\" size=4>\n",
    "        <font color=#000000 size=4>\n",
    "شما بایستی به ازای هر یک از مقادیر پیشنهادی در لیست \n",
    "mass_list\n",
    "مقدار \n",
    "p_value را\n",
    "حساب کرده و به ترتیب در لیست \n",
    "pvs\n",
    "وارد کنید.  \n",
    "سپس محتمل‌ترین وزن‌ها برای بسته‌های چیپس را به ترتیب میزان محتمل بودن در لیست\n",
    "most_possible\n",
    "وارد کنید.\n",
    "   \n",
    "        \n",
    "</div>"
   ]
  },
  {
   "cell_type": "code",
   "execution_count": null,
   "metadata": {},
   "outputs": [],
   "source": [
    "pvs = []\n",
    "most_possible = []"
   ]
  },
  {
   "cell_type": "markdown",
   "metadata": {},
   "source": [
    "<br>\n",
    "<div id=\"sec_whatisR\" style=\"direction:rtl;line-height:300%;\">\n",
    "<font face=\"XB Zar\" size=4>\n",
    "        <font color=#000000 size=4>\n",
    "با اجرای دستور زیر، آرایه‌ها را ذخیره کنید تا پاسخ‌های‌تان ارزیابی شود.\n",
    "</font>\n",
    "        \n",
    "</div>"
   ]
  },
  {
   "cell_type": "code",
   "execution_count": null,
   "metadata": {},
   "outputs": [],
   "source": [
    "sample_params = [pvs,most_possible]\n",
    "np.savez(\"answers.npz\",sample_params = sample_params)"
   ]
  }
 ],
 "metadata": {
  "kernelspec": {
   "display_name": "Python 3",
   "language": "python",
   "name": "python3"
  },
  "language_info": {
   "codemirror_mode": {
    "name": "ipython",
    "version": 3
   },
   "file_extension": ".py",
   "mimetype": "text/x-python",
   "name": "python",
   "nbconvert_exporter": "python",
   "pygments_lexer": "ipython3",
   "version": "3.8.5"
  },
  "latex_envs": {
   "LaTeX_envs_menu_present": true,
   "autoclose": false,
   "autocomplete": true,
   "bibliofile": "biblio.bib",
   "cite_by": "apalike",
   "current_citInitial": 1,
   "eqLabelWithNumbers": true,
   "eqNumInitial": 1,
   "hotkeys": {
    "equation": "Ctrl-E",
    "itemize": "Ctrl-I"
   },
   "labels_anchors": false,
   "latex_user_defs": false,
   "report_style_numbering": false,
   "user_envs_cfg": false
  },
  "toc": {
   "base_numbering": 1,
   "nav_menu": {},
   "number_sections": true,
   "sideBar": true,
   "skip_h1_title": false,
   "title_cell": "Table of Contents",
   "title_sidebar": "Contents",
   "toc_cell": false,
   "toc_position": {},
   "toc_section_display": true,
   "toc_window_display": false
  },
  "varInspector": {
   "cols": {
    "lenName": 16,
    "lenType": 16,
    "lenVar": 40
   },
   "kernels_config": {
    "python": {
     "delete_cmd_postfix": "",
     "delete_cmd_prefix": "del ",
     "library": "var_list.py",
     "varRefreshCmd": "print(var_dic_list())"
    },
    "r": {
     "delete_cmd_postfix": ") ",
     "delete_cmd_prefix": "rm(",
     "library": "var_list.r",
     "varRefreshCmd": "cat(var_dic_list()) "
    }
   },
   "types_to_exclude": [
    "module",
    "function",
    "builtin_function_or_method",
    "instance",
    "_Feature"
   ],
   "window_display": false
  }
 },
 "nbformat": 4,
 "nbformat_minor": 4
}
