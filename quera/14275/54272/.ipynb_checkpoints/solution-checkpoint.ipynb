{
 "cells": [
  {
   "cell_type": "markdown",
   "metadata": {},
   "source": [
    "<div style=\"direction:rtl;line-height:300%;\">\n",
    "\t<font face=\"XB Zar\" size=5>\n",
    "\t\t<div align=center>\n",
    "\t\t\t<font face=\"IranNastaliq\" size=30>\n",
    "\t\t\t\t<p></p>\n",
    "\t\t\t\t<p></p>\n",
    "به نام خدا\n",
    "\t\t\t\t<p></p>\n",
    "\t\t\t</font>\n",
    "\t\t</div>\n",
    "\t\t<hr/>\n",
    "\t\t<font color=#43a8a5 size=6>\n",
    "\t\t\t<br />\n",
    "\t\t\t<div align=center>\n",
    "P-value: What is and what is not\n",
    "            </div>\n",
    "\t\t</font>\n",
    "\t\t<br />\n",
    "\t\t<hr />\n",
    "\t\t<style type=\"text/css\" scoped>\n",
    "        p{\n",
    "        border: 1px solid #a2a9b1;background-color: #f8f9fa;display: inline-block;\n",
    "        };\n",
    "        </style>\n",
    "\t\t<div>\n",
    "\t\t\t<h3>فهرست مطالب</h3>\n",
    "\t\t\t<ul style=\"margin-right: 0;\">\n",
    "                <li>\n",
    "\t\t\t\t\t<a href=\"#sec_intro\">\n",
    "                        مقدمه\n",
    "                    </a>\n",
    "\t\t\t\t</li>\n",
    "                <li>\n",
    "\t\t\t\t\t<a href=\"#sec_problem\">\n",
    "                        صورت مسئله\n",
    "                    </a>\n",
    "\t\t\t\t</li>\n",
    "                <li>\n",
    "\t\t\t\t\t<a href=\"#sec_t_test\">\n",
    "                         p-value\n",
    "                    </a>\n",
    "\t\t\t\t</li>\n",
    "                <li>\n",
    "\t\t\t\t\t<a href=\"#sec_jam_again\">\n",
    "بازگشت به مسئله‌ی افزایش خواب \n",
    "                    </a>\n",
    "\t\t\t\t</li>\n",
    "                                                <li>\n",
    "\t\t\t\t\t<a href=\"#sec_common_mistakes\">\n",
    "اشتباهات رایج \n",
    "                    </a>\n",
    "\t\t\t\t</li>\n",
    "                                <li>\n",
    "\t\t\t\t\t<a href=\"#sec_correct_pvalue\">\n",
    "p-value اصلاح شده \n",
    "                    </a>\n",
    "\t\t\t\t</li>\n",
    "                                                <li>\n",
    "\t\t\t\t\t<a href=\"#more\">\n",
    "برای مطالعه\n",
    "  </a>\n",
    "\t\t\t\t</li>\n",
    "                <li>\n",
    "\t\t\t\t\t<a href=\"#sec_conc\">\n",
    "خلاصه و نتیجه‌گیری\n",
    "                    </a>\n",
    "\t\t\t\t</li>\n",
    "                <li>\n",
    "\t\t\t\t\t<a href=\"#sec_conc\">\n",
    "منابع\n",
    "                    </a>\n",
    "\t\t\t\t</li>\n",
    "\t\t\t</ul>\n",
    "\t\t</div>\n",
    "\t</font>\n",
    "</div>"
   ]
  },
  {
   "cell_type": "markdown",
   "metadata": {},
   "source": [
    "<p></p>\n",
    "<br />\n",
    "<div id=\"sec_intro\" style=\"direction:rtl;line-height:300%;\">\n",
    "\t<font face=\"XB Zar\" size=5>\n",
    "\t\t<font color=#FF7500 size=6>\n",
    "مقدمه\n",
    "        </font>\n",
    "\t\t<p></p>\n",
    "\t\t<hr>\n",
    "        \tاحتمالا تا به حال به عنوان یک دانشجو شب‌زنده‌داری‌های متعدد و کم‌خوابی‌های شدید را تجربه کرده‌اید. فرض کنید دانشمندی ادعا میکند دارویی درست کرده‌است که میزان خواب افراد را افزایش می‌دهد. او برای اثبات این ادعا یک آزمون فرض اجرا می‌کند، سپس به شما اعلام می‌کند که نتایج مثبت است و دارو مؤثر است.            \n",
    "            <br />\n",
    "         \tتا چه حد به حرف او اطمینان می‌کنید؟‌ برای اینکه بفهمید آیا واقعا درست می‌گوید یا نه چه مدرکی از او درخواست می‌کنید؟\n",
    "            <br />\n",
    "        \tبرای پاسخ به این سوالات، در بخش‌های پیش رو در رابطه با $p-value$ صحبت خواهیم کرد.             \n",
    "            <br />\n",
    "\t</font>\n",
    "</div>"
   ]
  },
  {
   "cell_type": "markdown",
   "metadata": {},
   "source": [
    "<p></p>\n",
    "<br />\n",
    "<div id=\"sec_problem\" style=\"direction:rtl;line-height:300%;\">\n",
    "\t<font face=\"XB Zar\" size=5>\n",
    "\t\t<font color=#FF7500 size=6>\n",
    "صورت مسئله\n",
    "        </font>\n",
    "\t\t<p></p>\n",
    "\t\t<hr>\n",
    "        \tدو مدل دارو برای افزایش خواب ارائه شده است. هر دو آنها روی ۱۰۰ نفر آزمایش شده‌اند. نتایج آزمایش دو دارو در مجموعه داده‎ی drugs قرار گرفته‌است. آن را بررسی می‌کنیم:\n",
    "            </font>\n",
    "</div>"
   ]
  },
  {
   "cell_type": "code",
   "execution_count": 1,
   "metadata": {
    "scrolled": true
   },
   "outputs": [
    {
     "data": {
      "text/html": [
       "<div>\n",
       "<style scoped>\n",
       "    .dataframe tbody tr th:only-of-type {\n",
       "        vertical-align: middle;\n",
       "    }\n",
       "\n",
       "    .dataframe tbody tr th {\n",
       "        vertical-align: top;\n",
       "    }\n",
       "\n",
       "    .dataframe thead th {\n",
       "        text-align: right;\n",
       "    }\n",
       "</style>\n",
       "<table border=\"1\" class=\"dataframe\">\n",
       "  <thead>\n",
       "    <tr style=\"text-align: right;\">\n",
       "      <th></th>\n",
       "      <th>ID</th>\n",
       "      <th>drug1</th>\n",
       "      <th>drug2</th>\n",
       "    </tr>\n",
       "  </thead>\n",
       "  <tbody>\n",
       "    <tr>\n",
       "      <th>0</th>\n",
       "      <td>1</td>\n",
       "      <td>-0.2</td>\n",
       "      <td>1.4</td>\n",
       "    </tr>\n",
       "    <tr>\n",
       "      <th>1</th>\n",
       "      <td>2</td>\n",
       "      <td>-0.3</td>\n",
       "      <td>3.3</td>\n",
       "    </tr>\n",
       "    <tr>\n",
       "      <th>2</th>\n",
       "      <td>3</td>\n",
       "      <td>-0.9</td>\n",
       "      <td>0.5</td>\n",
       "    </tr>\n",
       "    <tr>\n",
       "      <th>3</th>\n",
       "      <td>4</td>\n",
       "      <td>-2.2</td>\n",
       "      <td>0.4</td>\n",
       "    </tr>\n",
       "    <tr>\n",
       "      <th>4</th>\n",
       "      <td>5</td>\n",
       "      <td>0.3</td>\n",
       "      <td>1.7</td>\n",
       "    </tr>\n",
       "  </tbody>\n",
       "</table>\n",
       "</div>"
      ],
      "text/plain": [
       "   ID  drug1  drug2\n",
       "0   1   -0.2    1.4\n",
       "1   2   -0.3    3.3\n",
       "2   3   -0.9    0.5\n",
       "3   4   -2.2    0.4\n",
       "4   5    0.3    1.7"
      ]
     },
     "execution_count": 1,
     "metadata": {},
     "output_type": "execute_result"
    }
   ],
   "source": [
    "import pandas as pd\n",
    "drugs = pd.read_csv(\"source/drugs.csv\")\n",
    "drugs.head()"
   ]
  },
  {
   "cell_type": "markdown",
   "metadata": {},
   "source": [
    "<div style=\"direction:rtl;line-height:300%;\">\n",
    "\t<font face=\"XB Zar\" size=5>\n",
    "\tستون‌های drug1 و drug2 به معنای میزان تغییر ساعات خواب تحت اثر داروی ۱ و ۲‌ و ستون ID کد فرد مورد آزمایش است.\n",
    "    <br />\n",
    "    <br />\n",
    "    \tابتدا بسته matplotlib را برای کشیدن نمودار فراخوانی می‌کنیم.\n",
    "\t</font>\n",
    "</div>"
   ]
  },
  {
   "cell_type": "code",
   "execution_count": 2,
   "metadata": {},
   "outputs": [],
   "source": [
    "import matplotlib.pyplot as plt"
   ]
  },
  {
   "cell_type": "markdown",
   "metadata": {},
   "source": [
    "<br />\n",
    "<div style=\"direction:rtl;line-height:300%;\">\n",
    "\t<font face=\"XB Zar\" size=5>\n",
    "    حال می‌خواهیم توزیع ساعات خواب براساس داروی مورد استفاده را در یک نمودار مشاهده کنیم. برای اینکه از عملگر %>% و تابع gather() استفاده کنیم باید بسته‎های زیر را فراخوانی کنیم:\n",
    "        </font>\n",
    "</div>"
   ]
  },
  {
   "cell_type": "markdown",
   "metadata": {},
   "source": [
    "<br />\n",
    "<div style=\"direction:rtl;line-height:300%;\">\n",
    "\t<font face=\"XB Zar\" size=5>\n",
    "   حال مجموعه داده اولیه را طوری تغییر می‎دهیم که هر سطر شامل کد فرد، داروی مورد استفاده و تاثیر آن دارو بر وی باشد و سپس نمودار فراوانی نسبی بر حسب تغییرات ساعات خواب افراد را می‎کشیم:\n",
    "        </font>\n",
    "</div>"
   ]
  },
  {
   "cell_type": "code",
   "execution_count": 14,
   "metadata": {},
   "outputs": [
    {
     "data": {
      "text/plain": [
       "<matplotlib.axes._subplots.AxesSubplot at 0x7f49fb48df98>"
      ]
     },
     "execution_count": 14,
     "metadata": {},
     "output_type": "execute_result"
    },
    {
     "data": {
      "image/png": "[encoded data removed]",
      "text/plain": [
       "<matplotlib.figure.Figure at 0x7f49fb45fb70>"
      ]
     },
     "metadata": {
      "needs_background": "light"
     },
     "output_type": "display_data"
    }
   ],
   "source": [
    "drugs.drug1.plot(kind = \"density\",color = \"blue\")\n",
    "drugs.drug2.plot(kind = \"density\",color = \"red\")"
   ]
  },
  {
   "cell_type": "markdown",
   "metadata": {},
   "source": [
    "<div style=\"direction:rtl;line-height:300%;\">\n",
    "\t<font face=\"XB Zar\" size=5>\n",
    "    \tمی‌خواهیم آزمون فرضی مناسب انتخاب کنیم. هدف در این آزمون این است که بررسی کنیم آیا داروی اول و دوم تاثیری در میزان خواب افراد ایجاد می‎کنند یا خیر. با توجه به نمودار توزیع داده‌ها، آزمون تی‌ را انتخاب می‌کنیم. اگر به جزوه‌ی مربوط به آزمون تی مراجعه کنید متوجه می‌شوید که فرض صفر و فرض دیگر بدین صورت می‌باشند:\n",
    "        <br /><br>\n",
    "        $H_0$: میانگین تغییر ساعات خواب برابر با صفر است. \n",
    "        <br>\n",
    "$H_a$: میانگین تغییر ساعات خواب بیشتر از صفر است.\n",
    "<br>\n",
    "دقت کنید در این‎جا هر دو دارو را به صورت جداگانه بررسی کرده و قصد مقایسه آن‎ها با یکدیگر را نداریم.\n",
    "<br>\n",
    "توجه: پس از مطالعه این جزوه باید بتوانید به سوال زیر پاسخ بدهید.\n",
    "<br>\n",
    "اگر تعداد دارو‎هایی که قصد بررسی آن‎ها را داشتیم بسیار بیشتر از 2 بود، چه نکته‎ای را برای بررسی\n",
    "p-value\n",
    "های به دست آمده باید در نظر می‎گرفتیم؟\n",
    "    </font>\n",
    "</div>"
   ]
  },
  {
   "cell_type": "markdown",
   "metadata": {},
   "source": [
    "<div style=\"direction:rtl;line-height:300%;\">\n",
    "\t<font face=\"XB Zar\" size=5>\n",
    "    آزمون تی را جداگانه برای هر دارو اجرا می‎کنیم.\n",
    "    </font>\n",
    "</div>"
   ]
  },
  {
   "cell_type": "code",
   "execution_count": 5,
   "metadata": {},
   "outputs": [
    {
     "name": "stdout",
     "output_type": "stream",
     "text": [
      "p-value is: 0.15883719511625863\n"
     ]
    }
   ],
   "source": [
    "from scipy.stats import ttest_1samp\n",
    "\n",
    "ttest_res = ttest_1samp(drugs.drug1,0)\n",
    "print(\"p-value is: \" + str(ttest_res[1]/2))"
   ]
  },
  {
   "cell_type": "code",
   "execution_count": 7,
   "metadata": {},
   "outputs": [
    {
     "name": "stdout",
     "output_type": "stream",
     "text": [
      "p-value is: 2.699512591066976e-40\n"
     ]
    }
   ],
   "source": [
    "ttest_res = ttest_1samp(drugs.drug2,0)\n",
    "print(\"p-value is: \" + str(ttest_res[1]/2))"
   ]
  },
  {
   "cell_type": "markdown",
   "metadata": {},
   "source": [
    "<div style=\"direction:rtl;line-height:300%;\">\n",
    "\t<font face=\"XB Zar\" size=5>\n",
    "<br>\n",
    "\tزمانی را تصور کنید که داروسازان ادعا می‎کنند هر دو دارو موثر هستند. سوالی که در مقدمه پرسیدیم را به یاد آورید. برای اینکه بفهمید آیا واقعا درست می‌گویند یا نه چه مدرکی از آن‎ها درخواست می‌کنید؟‌ آیا لزومی به مدلسازی وجود دارد؟\n",
    "\t</font>\n",
    "</div>\n",
    "\n"
   ]
  },
  {
   "cell_type": "markdown",
   "metadata": {},
   "source": [
    "<p></p>\n",
    "<br />\n",
    "<div id=\"sec_t_test\" style=\"direction:rtl;line-height:300%;\">\n",
    "\t<font face=\"XB Zar\" size=5>\n",
    "\t\t<font color=#FF7500 size=6>\n",
    "p-value\n",
    "        </font>\n",
    "\t\t<hr>\n",
    "       \tبرای فهم معنای p-value بهتر است ابتدا مفاهیم مرتبط پیشین را یادآوری کنیم. \n",
    "        اگر بر مفاهیم آزمون فرض، فرض صفر، درجه‌ی اهمیت و قدرت آزمون فرض تسلط دارید مستقیم از <a href = \"#here\"> اینجا </a> ادامه دهید.\n",
    "        <br>\n",
    "        <br>\n",
    "        \tیک <u><i>جامعه‌ی آماری </i></u> را در نظر بگیرید. مثلا مجموعه‌ی دانشجویانی که داروی خاصی را مصرف کرده‌اند، مجموعه‌ی مدت زمان‌هایی که طول کشیده تا یک پیتزافروشی پیتزا‌ها را به مشتریانش تحویل بدهد، مجموعه‌ی نتایح حاصل از پرتاب یک سکه و … . <br>\n",
    "            \tحال <i><u>ادعایی</u></i> در رابطه با این جوامع آماری را در نظر بگیرید. مثلا اینکه دارو موجب افزایش میانگین خواب دانشجویان شده، میانگین زمان تحویل پیتزا حداکثر ۳۰ دقیقه است، سکه‌ی پرتاب شده سکه‌ای عادی نیست و … . \n",
    "                <br>\n",
    "                \tبرای آزمایش اینکه ادعای مطرح شده در رابطه با جامعه‌ی آماری موردنظر درست است یا نه از <i><u>آزمون فرض</u></i> استفاده می‌شود. بدین منظور، دو فرض مطرح می‌شود: ۱. فرض صفر ($null~hypothesis$) ۲. فرض دیگر ($alternate~ hypothesis$)         \n",
    "                    <br>\n",
    "                    \tدر انتخاب فرایض، دقت کنید که فرض صفر معمولا این است که اتفاقی خارج از معمول رخ نداده است. مثلا دارو در خواب دانشجویان تاثیری نگذاشته، میانگین تحویل پیتزا بیشتر از ۳۰ دقیقه است، سکه‌ی پرتاب شده سکه‌ای عادی است و … . فرض یک معمولا ادعایی است که میخواهیم درستی آن را اثبات کنیم. یعنی تفاوت <b>معنی‌داری</b> - که تنها بر پایه‌ی شانس نباشد - وجود دارد.\n",
    "<br>\n",
    "<u><i>درجه‌ی اهمیت</i></u> آزمون فرض یا $\\alpha$ مقدار دلخواهی است که از قبل خودمان مشخص کرده‌ایم. این مقدار، احتمال خطای نوع اول است. قدرت آزمون فرض یا $\\beta$ برابر با ۱ منهای احتمال خطای نوع دوم است. \n",
    "\t</font>\n",
    "</div>\n",
    "\n"
   ]
  },
  {
   "cell_type": "markdown",
   "metadata": {},
   "source": [
    "<img src = \"source/Type_I_and_Type_II_Error_Table.jpg\">"
   ]
  },
  {
   "cell_type": "markdown",
   "metadata": {},
   "source": [
    "<p></p>\n",
    "<br />\n",
    "<div id=\"here\" style=\"direction:rtl;line-height:300%;\">\n",
    "\t<font face=\"XB Zar\" size=5>\n",
    "\tحال میرسیم به معنای $p-value$. $p-value$ برابر با احتمال این است که در صورتی که فرض صفر درست باشد، نتایجی حداقل به شدت داده‌ی مورد آزمایش مشاهده کنیم. عبارت “ حداقل به شدت “ بستگی به آزمون فرض دارد.\n",
    "</font>\n",
    "</div>"
   ]
  },
  {
   "cell_type": "markdown",
   "metadata": {},
   "source": [
    "<p></p>\n",
    "<br />\n",
    "<div style=\"direction:rtl;line-height:300%;\">\n",
    "\t<font face=\"XB Zar\" size=5>\n",
    "        \tمثال‌های قبلی را به یاد آورید.\n",
    "            <br>\n",
    "            <ul>\n",
    "            <li>\n",
    "خواب دانشجویان\n",
    "            </li>\n",
    "        </ul>\n",
    "        داده‌های در دسترس تغییرات خواب دانشجویان است. فرض صفر این است که میانگین این تغییرات صفر است (دارو مؤثر نبوده). فرض کنید میانگین داده‌ها را گرفته ایم و میانگین تغییرات برابر با ۰.۵ ساعت شده‌است. $p-value$ احتمال این است که در نمونه برداری‌های دیگر از همین جامعه‌ی آماری میانگین تغییرات، حداقل برابر با ۰.۵ ساعت باشد در حالی‌که دارو مؤثر نباشد.\n",
    "        <br>  \n",
    "        <ul>\n",
    "            <li>\n",
    "\tزمان تحویل پیتزا\n",
    "            </li>\n",
    "        </ul>\n",
    "        داده‌های در دسترس، مدت زمان طول کشیده تا تحویل پیتزا به مشتری است. فرض صفر این است که میانگین این زمان‌ها حداکثر ۳۰ دقیقه است. فرض کنید میانگین داده‌ها را گرفته‌ایم و میانگین زمان‌ها برابر با ۵۰ دقیقه شده‌است. $p-value$ احتمال این است که در نمونه‌برداری‌های دیگر میانگین زمان‌ها، حداقل برابر ۵۰ دقیقه باشد در حالی‌که حداکثر زمان تحویل این پیتزا‌فروشی ۳۰ دقیقه باشد. \n",
    "        <br>\n",
    "                <ul>\n",
    "            <li>\n",
    "پرتاب سکه\n",
    "            </li>\n",
    "        </ul>\n",
    "        \tداده‌های در دسترس، نتایج حاصل از ۱۰۰ پرتاب سکه (و حوصله‌ي فراوان یک انسان بیکار) است. فرض صفر این است که سکه عادی است (یعنی احتمال شیر و خط آمدن برابر است). فرض کنید تعداد پرتاب‌های شیر ۸۰ عدد شده‌باشد. $p-value$ احتمال این است که در آزمایش‌های دیگر تعداد پرتاب‌های شیر حداقل ۸۰ عدد باشد، در حالی‌که سکه عادی باشد.\n",
    "        <br>\n",
    "        <br>\n",
    "        به طور کلی\n",
    "        $p-value$ \n",
    "       را احتمال مشاهده نتایج به دست آمده و نتایج شدیدتر به شرط برقراری فرض صفر تعریف می‎کنیم.\n",
    "     در مثال تغییرات خواب دانشجویان، شرایط شدیدتر برابر است با \n",
    "میانگین خواب بیشتر از ۰.۵، در مساله تحویل پیتزا شرایط شدید‎تر برابر است با میانگین زمان بیشتر از ۵۰ دقیقه و \n",
    "در مثال پرتاب سکه شرایط شدیدتر مشاهده بیش از \n",
    "۸۰\n",
    "شیر تعریف می‎شود\n",
    ". \n",
    "دقت کنید که شرایط شدیدتر همواره در جهتی است که احتمال برقراری فرض صفر را کاهش بدهد.\n",
    "همچنین برای شهود بیشتر، دلیل استفاده از لفظ شرایط شدیدتر در تعریف و محاسابات این است که مثال‎ها در فضای پیوسته بوده و احتمال مشاهده به شرط فرض صفر و بدون درنظر گرفتن شرایط شدیدتر برابر با صفر خواهد شد.\n",
    "<br>\n",
    "برای مثال در شکل زیر شرایط شدیدتر برابر است با مساحت زیر نمودار در سمت راست مقدار مشاهده شده. درصورتی که تنها احتمال مشاهده را در نظر داشتیم، باید مساحت زیر نمودار یک نقطه را حساب می‎کردیم که برابر با صفر می‎شد.\n",
    "</font>           \n",
    "</div>"
   ]
  },
  {
   "cell_type": "markdown",
   "metadata": {},
   "source": [
    "<p></p>\n",
    "<div style=\"direction:rtl;line-height:300%;\">\n",
    "\t<font face=\"XB Zar\" size=5>\n",
    "     <font color=red size=5>\n",
    "        نکته.\n",
    "        </font>\n",
    "       در یک دنیا‌ی ایده‌آل ما می‌توانیم یک نمونه‌ي کاملا تصادفی از جامعه‌ی آماری تهیه کنیم، بهترین تست مربوط به آن را انجام دهیم و به نتیجه‌ای قطعی برسیم. ولی متاسفانه در دنیای واقعی چنین چیزی امکان‌پذیر نمی‌باشد. ولی می‌توانیم مراحل کارمان را به نحوی بهینه‌سازی کنیم که نتیجه‌ی نهایی ما دارای کمترین سطح عدم قطعیت باشد.  \n",
    "     </font>   \n",
    "    </div>"
   ]
  },
  {
   "cell_type": "markdown",
   "metadata": {},
   "source": [
    "<p></p>\n",
    "<div id=\"here\" style=\"direction:rtl;line-height:300%;\">\n",
    "\t<font face=\"XB Zar\" size=5>\n",
    "    <br> <br>\n",
    "         <img src = \"source/p_value.jpg\">\n",
    "        <br>\n",
    "        <br> <br> \n",
    "      \t$p-value$ اینکه چقدر نمونه‌ی تصادفی جمع‌آوری شده با درست بودن فرض صفر در رابطه با جامعه‌ي آماری هم‌خوانی دارد را ارزیابی می‌کند. \n",
    "        <br>\n",
    "        \tدقت کنید که $p-value$ \n",
    "<b>به هیچ عنوان احتمال بروز خطا به علت رد کردن فرض صفر در حالی‌که درست باشد نیست. </b> (خطای نوع اول : $\\alpha$) \n",
    "\tاین یک تصور اشتباه بسیار رایج در رابطه با تفسیر $p-value$ است. چرا این تصور، اشتباه است؟ \n",
    "</div>"
   ]
  },
  {
   "cell_type": "markdown",
   "metadata": {},
   "source": [
    "<p></p>\n",
    "<div id=\"here\" style=\"direction:rtl;line-height:300%;\">\n",
    "\t<font face=\"XB Zar\" size=5>\n",
    "    اولاً، $p-value$ بر فرض درست بودن فرض صفر برای جامعه‌ی آماری، و شانسی بودن تفاوت مشاهده شده در نمونه‌ی آماری محاسبه می‌شود. به همین دلیل $p-value$ نمی‌تواند احتمال درست یا غلط بودن فرض صفر را به ما بگوید. \n",
    "    <br>\n",
    "    دوماً، ما از روی $p-value$ بسیار پایین می‌توانیم بفهمیم که احتمال وقوع نمونه‌ی آماری جمع آوری شده، در صورتی که فرض صفر در رابطه با جامعه‌ی آماری صحیح باشد، بسیار کم است. اما نمی‌توانیم صرفا از روی آن بفهمیم که کدام یک از حالات زیر برقرار است:\n",
    "    <br>\n",
    "    الف) فرض صفر درست است، ولی نمونه‌ی آماری به درستی نمونه‌گیری نشده و غیر معمول است.\n",
    "    <br>\n",
    "    \tب) فرض صفر غلط است.\n",
    "        <br>\n",
    "        \tتشخیص اینکه کدام حالت برقرار است نیازمند اطلاعات در رابطه‌ با پیش‌زمینه‌ی موضوع و انجام آزمایش‌های بعدی است.\n",
    "</font>        \n",
    "</div>"
   ]
  },
  {
   "cell_type": "markdown",
   "metadata": {},
   "source": [
    "<p></p>\n",
    "<div id=\"here\" style=\"direction:rtl;line-height:300%;\">\n",
    "\t<font face=\"XB Zar\" size=5>\n",
    "    سؤالی که پیش می‌آید این است که چه $p-value$ای مناسب است؟به یاد آورید که $\\alpha$ به معنای درجه‌ی اهمیت است و قبل از انجام آزمون فرض مقدار آن را به دلخواه تعیین می‌کنیم. به صورت کلی $\\alpha$ را۰.۰۵‎  یا ۰.۱ انتخاب می‌کنند. \n",
    "<br>\n",
    "دقت کنید که $p-value$ احتمال است بنابراین همواره مقدار بین صفر تا ۱ می‌گیرد.\n",
    "<br>\n",
    "\tبه صورت زیر می‌توان مقادیر $p-value$ را تفسیر کرد:\n",
    "    <br>\n",
    "    <ol>\n",
    "            <li>\n",
    "$p-value$ بسیار کم (خیلی کمتر از $\\alpha$) مدرکی قوی علیه صحت فرض صفر است. در این صورت فرض صفر را رد می‌کنیم.\n",
    "            </li>\n",
    "            <li>\n",
    "$p-value$ بسیار بالا (خیلی بیشتر از $\\alpha$) مدرکی ضعیف علیه صحت فرض صفر است. در این صورت موفق به رد کردن فرض صفر نمی‌شویم. \n",
    "            </li>\n",
    "            <li>\n",
    "$p-value$ای که بسیار نزدیک به $\\alpha$ باشد را می‌توان به هر دو صورت تفسیر کرد. \n",
    "            </li>\n",
    "        </ol>\n",
    "</font>\n",
    "</div>"
   ]
  },
  {
   "cell_type": "markdown",
   "metadata": {},
   "source": [
    "<p></p>\n",
    "<br />\n",
    "<div id=\"sec_jam_again\" style=\"direction:rtl;line-height:300%;\">\n",
    "\t<font face=\"XB Zar\" size=5>\n",
    "\t\t<font color=#FF7500 size=6>\n",
    "بازگشت به مسئله‌ی افزایش خواب\n",
    "        </font>\n",
    "\t\t<p></p>\n",
    "\t\t<hr>\n",
    "\tفرض صفر این بود که داروها مؤثر نیستند. مجدد آزمون تی را روی داده‌ها اجرا می‌کنیم. \n",
    "\t</font>\n",
    "</div>"
   ]
  },
  {
   "cell_type": "code",
   "execution_count": 11,
   "metadata": {},
   "outputs": [
    {
     "name": "stdout",
     "output_type": "stream",
     "text": [
      "p-value is: 0.15883719511625863\n",
      "p-value is: 2.699512591066976e-40\n"
     ]
    }
   ],
   "source": [
    "print(\"p-value is: \" + str(ttest_1samp(drugs.drug1,0)[1]/2))\n",
    "print(\"p-value is: \" + str(ttest_1samp(drugs.drug2,0)[1]/2))\n"
   ]
  },
  {
   "cell_type": "markdown",
   "metadata": {},
   "source": [
    "<div style=\"direction:rtl;line-height:300%;\">\n",
    "\t<font face=\"XB Zar\" size=5>در داروی اول $p-value$ برابر با $0.1588$ و در داروی دوم حدود $2.69 \\times 10^{-40}$ شده است. با توجه به صحبت‌هایی که در قسمت قبل کردیم، مدارک کافی برای رد اینکه داروی اول مؤثر نیست نداریم. ولی مدارک بسیار کافی برای رد اینکه داروی دوم مؤثر نیست داریم. یعنی می‌توانیم بگوییم که داروی دوم موجب افزایش ساعات خواب مصرف‌کنندگان آن می‌شود. \n",
    "\t</font>\n",
    "</div>"
   ]
  },
  {
   "cell_type": "markdown",
   "metadata": {},
   "source": [
    "<div style=\"direction:rtl;line-height:300%;\">\n",
    "            \t\t<font color=darkpink size=6>\n",
    "تمرین      </font>\n",
    "    <br>\n",
    "\t<font face=\"XB Zar\" size=5>\n",
    "          با انتخاب آزمون فرض مناسب و تحلیل \n",
    "        p-value\n",
    "        به دست آمده، ادعای زیر را بررسی کنید:\n",
    "        <br>\n",
    "        دو داروی استفاده شده در اولین مثال این جزوه، تاثیر یکسانی بر روی خواب دانشجویان دارند.\n",
    "\t</font>\n",
    "</div>"
   ]
  },
  {
   "cell_type": "markdown",
   "metadata": {},
   "source": [
    "<p></p>\n",
    "<br/>\n",
    "<div id=\"sec_common_mistakes\" style=\"direction:rtl;line-height:300%;\">\n",
    "\t<font face=\"XB Zar\" size=5>\n",
    "\t\t<font color=#FF7500 size=6>\n",
    "اشتباهات رایج\n",
    "        </font>\n",
    "\t\t<p></p>\n",
    "        موارد زیر نکاتی است که حین استفاده از\n",
    "        p-value\n",
    "        باید به آن توجه داشت.\n",
    "        <ul>\n",
    "            <li>\n",
    "                              <b>\n",
    "                p-value\n",
    "                    احتمال این که فرض صفر درست باش یا فرض یک غلط باشد نیست.\n",
    "                </b>\n",
    "                p-value\n",
    "                    می‌تواند نشان دهد که داده با یک فرض مشخص مانند فرض صفر چقدر همخوانی دارد. همچنین باید توجه داشت که \n",
    "                p-value\n",
    "                احتمال \n",
    "                دیدن یک اتفاق (داده، در اینجا تاثیر دارو) به شرط برقرار بودن فرض صفر است نه احتمال\n",
    "                برقراری فرض صفر به شرط برقراری یک اتفاق.\n",
    "            </li>\n",
    "            <li>\n",
    "                <b>\n",
    "                p-value\n",
    "                احتمال اینکه \n",
    "                اتفاقات مشاهده شده به صورت تصادفی \n",
    "               رخ می‌دهند نیست.\n",
    "                </b>\n",
    "               در اصل\n",
    "                p-value\n",
    "                با در نظر گرفتن اینکه یک فرض (مانند فرض صفر) برقرار است، محاسبه می‌شود.\n",
    "                </li>\n",
    "                <li>        \n",
    "                <b>\n",
    "                مقدار 0.05 تنها یک قرار است. \n",
    "                </b>\n",
    "                    در اصل مقدار \n",
    "                    $\\alpha = 0.05$\n",
    "                    به عنوان مرزی برای \n",
    "                   معنادار بودن یا نبودن\n",
    "                   p-value\n",
    "                   استفاده می‌شود، و در موارد متفاوت میتوان این مرز را جابه‌جا کرد.  \n",
    "                </li>\n",
    "        </ul>\n",
    "</font>\n",
    "</div>"
   ]
  },
  {
   "cell_type": "markdown",
   "metadata": {},
   "source": [
    "<p></p>\n",
    "<br/>\n",
    "<div id=\"sec_correct_pvalue\" style=\"direction:rtl;line-height:300%;\">\n",
    "\t<font face=\"XB Zar\" size=5>\n",
    "\t\t<font color=#FF7500 size=6>\n",
    "p-value اصلاح شده\n",
    "        </font>\n",
    "\t\t<p></p>\n",
    "\t\t<hr>\n",
    "در مثال‌های بالا $p-value$ محاسبه شده برای یک آزمون را بدست آوردیم. در اینجا می‌خواهیم $p-value$ را برای زمانی که مجموعه‌ای از آزمون‌ها داریم بدست آوریم.\n",
    "        این کار با زمانی که تنها صحت یک فرضیه را بررسی میکنیم متفاوت است. (چرا؟)\n",
    "<br>\n",
    "فرض کنید که ۱۰۰۰ ژن داریم و می‌خواهیم تاثیر داشتن و یا عدم تاثیر هر یک را در بیماری بررسی کنیم. \n",
    "<br>\n",
    "اگر $p-value$  ۰.۰۵  باشد، آنگاه ۵ درصد احتمال خطا در قبول یک ژن وجود دارد. حال اگر ۱۰۰ ژن را امتحان کنیم، ۵ ژن به عنوان نمونه‌هایی برای رد فرض صفر انتخاب می‌شوند هرچند فرض صفر درست باشد. اگر ۱۰۰۰۰ ژن را امتحان کنیم ان‌گاه ۵۰۰ ژن را دارای این ویژگی می‌شوند.\n",
    "        به بیان دیگر، در صورتی که تنها یک ژن داشته باشیم احتمال اینکه نتیجه حاصل برحسب شانس بوده باشد حداکثر برابر با ۰.۰۵ است. در نتیجه احتمال درست بودن نتیجه گیری حداقل برابر با ٩۵ درصد است. در صورت داشتن ۱۰۰۰۰ ژن، احتمال اینکه هیچکدام از نتیجه گیری های ما شانسی نباشند برابر است با \n",
    "        $0.95 ^ {10000}$\n",
    "        و درنتیجه احتمال اینکه حداقل یک نتیجه گیری اشتباه و از روی شانس داشته باشیم برابر است با:\n",
    "        $1 - 0.95^{10000}$\n",
    "        که در صورت بزرگ شدن تعداد ژن ها به ۱ میل خواهد کرد.\n",
    "        <br>\n",
    "بنابراين مهم است ارزش $p-value$ هر ژن در هنگام انجام آزمون آماري بر روي يک گروه يا ژن ها را اصلاح کنیم.\n",
    "        <br>\n",
    "برای این‌کار چند روش وجود دارد که در اینجا روش بونفرونی را به صورت مفصل توضیح می‌دهیم و روش‌های دیگر را می‌توانید در قسمت برای مطالعه، مطالعه کنید.\n",
    "        <br>\n",
    "        <ul>\n",
    "            <li>\n",
    "روش بونفرونی: در این روش $p-value$ هر یک از ژن‌ها را به صورت جدا بدست ‌می‌آوریم و سپس در تعداد ژن‌های نمونه آماری ضرب می‌کنیم، اگر همچنان مقدار آن از $\\alpha$ کمتر باشد آن‌گاه آن ژن معنا دار است و می‌توانیم فرض صفر را برای آن رد کنیم\n",
    "$$corrected \\ p-value = p-value \\times n \\left(number \\, of \\, genes \\, in \\, test\\right) < \\alpha $$\n",
    "    </li>\n",
    "    <br>\n",
    "        </ul>    \n",
    "</font>\n",
    "</div>"
   ]
  },
  {
   "cell_type": "markdown",
   "metadata": {},
   "source": [
    " <p></p>\n",
    "<br/>\n",
    "<div id=\"more\" style=\"direction:rtl;line-height:300%;\">\n",
    "\t<font face=\"XB Zar\" size=5>\n",
    "\t\t<font color=#008000 size=6>\n",
    "برای مطالعه\n",
    "</font>\n",
    "\t\t<p></p>\n",
    " <li>\n",
    "روش Bonferroni-Holm: این روش در واقع یک روش پله‌پله از روش Bonferroni است.ابتدا ژن‌ها را نسبت به $p-value$ مرتب می‌کنیم (از کم به زیاد). هر بار $p-value$ یک ژن را در نظر می‌گیریم و آن را در تعداد ژن‌هایی که باقی مانده‌است ضرب می‌کنیم و سپس این ژن را از لیست ژن‌ها کنار می‌گذاریم.  $$corrected \\ p-value\\ first\\ gene = p-value \\times n < \\alpha $$\n",
    "$$corrected \\ p-value\\ second\\ gene = p-value \\times n-1 < \\alpha $$\n",
    "$$corrected \\ p-value\\ third\\ gene = p-value \\times n-2 < \\alpha $$\n",
    "       </li>\n",
    "       <br>\n",
    "مثال:\n",
    "فرض کنید تعداد ژن‌ها 1000 و $\\alpha = 0.05$ است.\n",
    "<img src = \"source/table1.jpg\">\n",
    "<br>\n",
    "حال $p-value$ اصلاح شده هر یک از ژن‌ها را بدست می‌آوریم.\n",
    "$$corrected \\ p-value\\ gene\\ A = 0.00002 \\times 1000 = 0.002 < 0.005 \\Rightarrow\\ Gene\\ is\\ significant $$\n",
    "$$corrected \\ p-value\\ gene\\ B = 0.00004 \\times 999 = 0.039 < 0.005 \\Rightarrow\\ Gene\\ is\\ significant $$\n",
    "$$corrected \\ p-value\\ gene\\ C = 0.00009  \\times 998 = 0.0898 > 0.005 \\Rightarrow\\ Gene\\ is\\ not\\ significant $$\n",
    "<br>\n",
    "<li>\n",
    "روش Benjamini & Hochberg False Discovery Rate: در این روش نیز مانند روش قبل ابتدا ژن‌ها را بر اساس $p-value$ از زیاد به کم زیاد مرتب می‌کنیم. سپس برای بدست آوردن $p-value$ های اصلاح شده به این صورت عمل می‌کنیم که ابتدا ژن با بیشترین $p-value$ را انتخاب می‌کنیم و به همین ترتیب پیش می‌رویم و فرمول $p-value$ اصلاح شده را به صورت زیر می‌نویسیم. \n",
    "</li>\n",
    "$$corrected \\ p-value first gene = p-value \\times n < \\alpha $$\n",
    "$$corrected \\ p-value second gene = p-value \\frac{n}{n-1} < \\alpha $$\n",
    "$$corrected \\ p-value third gene = p-value \\frac{n}{n-2} < \\alpha $$\n",
    "<br>\n",
    "مثال: فرض کنید تعداد ژن‌ها 1000 است و $\\alpha = 0.05$ است.\n",
    "<br>\n",
    "حال $p-value$ اصلاح شده هر یک از ژن‌ها را بدست می‌آوریم.\n",
    "<img src = \"source/table2.jpg\">\n",
    "<br>\n",
    "$$corrected \\ p-value\\ gene\\ A\\  > 0.05 \\Rightarrow Gene\\ A\\ is\\ not\\ significant  $$\n",
    "$$corrected \\ p-value\\ gene\\ B\\  = \\frac{1000}{999} 0.04 = 0.04004 < 0.05  \\Rightarrow Gene\\ B\\ is\\ significant  $$\n",
    "$$corrected \\ p-value\\ gene\\ C\\  = \\frac{1000}{998} 0.01 = 0.01002 < 0.05 \\Rightarrow Gene\\ C\\ is\\ significant  $$\n",
    "    </ul>\n",
    "        </font>\n",
    "</div>"
   ]
  },
  {
   "cell_type": "markdown",
   "metadata": {},
   "source": [
    "<p></p>\n",
    "<br/>\n",
    "<div id=\"sec_conc\" style=\"direction:rtl;line-height:300%;\">\n",
    "\t<font face=\"XB Zar\" size=5>\n",
    "\t\t<font color=#FF7500 size=6>\n",
    "خلاصه و نتیجه‌گیری\n",
    "        </font>\n",
    "\t\t<p></p>\n",
    "\t\t<hr>\n",
    "        در این بخش با موارد زیر آشنا شدیم:\n",
    "        <ul>\n",
    "            <li>\n",
    "معنای $p-value$ \n",
    "            </li>\n",
    "            <li>\n",
    "نحوه‌ی تفسیر $p-value$\n",
    "            </li>\n",
    "            <li>\n",
    "اشتباهات رایج در رابطه با $p-value$\n",
    "            </li>\n",
    "            <li>\n",
    "پیاده سازی در پایتون\n",
    "            </li>\n",
    "            <li>\n",
    "                p-value اصلاح شده و روش‌های آن\n",
    "            </li>\n",
    "        </ul>\n",
    "\t</font>\n",
    "</div>"
   ]
  },
  {
   "cell_type": "markdown",
   "metadata": {},
   "source": [
    "<p></p>\n",
    "<div id=\"sec_refs\" style=\"direction:rtl;line-height:300%;\">\n",
    "\t<font face=\"XB Zar\" size=5>\n",
    "\t\t<font color=#FF7500 size=6>\n",
    "منابع\n",
    "        </font>\n",
    "    </font>\n",
    "        </div>\n",
    "      <div style=\"direction:ltr;line-height:300%;\">\n",
    "        <table>\n",
    "\t\t<hr>       \n",
    "        <ul>\n",
    "            <li>\n",
    "https://www.dummies.com/education/math/statistics/what-a-p-value-tells-you-about-statistical-data/\n",
    "            </li>\n",
    "            <li>\n",
    "https://www.statsdirect.com/help/basics/p_values.htm\n",
    "            </li>\n",
    "            <li>\n",
    "http://blog.minitab.com/blog/adventures-in-statistics-2/how-to-correctly-interpret-p-values\n",
    "            </li>\n",
    "             <li>\n",
    "https://www.students4bestevidence.net/p-value-in-plain-english-2/ \n",
    "            </li>\n",
    "            <li>\n",
    "                http://nebc.nerc.ac.uk/courses/GeneSpring/GS_Mar2006/Multiple%20testing%20corrections.pdf\n",
    "            </li>\n",
    "            <li>\n",
    "                https://www.ncbi.nlm.nih.gov/pmc/articles/PMC5804470/\n",
    "            </li>\n",
    "            <li>\n",
    "                https://en.wikipedia.org/wiki/Misuse_of_p-values\n",
    "            </li>\n",
    "        </ul>\n",
    "        </table>\n",
    "    </div>\n",
    "</div>"
   ]
  }
 ],
 "metadata": {
  "kernelspec": {
   "display_name": "Python 3",
   "language": "python",
   "name": "python3"
  },
  "language_info": {
   "codemirror_mode": {
    "name": "ipython",
    "version": 3
   },
   "file_extension": ".py",
   "mimetype": "text/x-python",
   "name": "python",
   "nbconvert_exporter": "python",
   "pygments_lexer": "ipython3",
   "version": "3.7.3"
  },
  "latex_envs": {
   "LaTeX_envs_menu_present": true,
   "autoclose": false,
   "autocomplete": true,
   "bibliofile": "biblio.bib",
   "cite_by": "apalike",
   "current_citInitial": 1,
   "eqLabelWithNumbers": true,
   "eqNumInitial": 1,
   "hotkeys": {
    "equation": "Ctrl-E",
    "itemize": "Ctrl-I"
   },
   "labels_anchors": false,
   "latex_user_defs": false,
   "report_style_numbering": false,
   "user_envs_cfg": false
  },
  "toc": {
   "base_numbering": 1,
   "nav_menu": {},
   "number_sections": true,
   "sideBar": true,
   "skip_h1_title": false,
   "title_cell": "Table of Contents",
   "title_sidebar": "Contents",
   "toc_cell": false,
   "toc_position": {},
   "toc_section_display": true,
   "toc_window_display": false
  },
  "varInspector": {
   "cols": {
    "lenName": 16,
    "lenType": 16,
    "lenVar": 40
   },
   "kernels_config": {
    "python": {
     "delete_cmd_postfix": "",
     "delete_cmd_prefix": "del ",
     "library": "var_list.py",
     "varRefreshCmd": "print(var_dic_list())"
    },
    "r": {
     "delete_cmd_postfix": ") ",
     "delete_cmd_prefix": "rm(",
     "library": "var_list.r",
     "varRefreshCmd": "cat(var_dic_list()) "
    }
   },
   "types_to_exclude": [
    "module",
    "function",
    "builtin_function_or_method",
    "instance",
    "_Feature"
   ],
   "window_display": false
  }
 },
 "nbformat": 4,
 "nbformat_minor": 1
}
