{
 "cells": [
  {
   "cell_type": "markdown",
   "metadata": {},
   "source": [
    "<div style=\"direction:rtl;line-height:300%;\">\n",
    "   <font face=\"XB Zar\" size=5>\n",
    "      <div align=center>\n",
    "         <font face=\"IranNastaliq\" size=30>\n",
    "            <p></p>\n",
    "            <p></p>\n",
    "            به نام خدا\n",
    "            <p></p>\n",
    "         </font>\n",
    "  </div>\n",
    "      <hr/>\n",
    "      <font color=#43a8a5 size=6>\n",
    "         <br />\n",
    "         <div align=center>\n",
    "            بازه‌های اطمینان \n",
    "         </div>\n",
    "      </font>\n",
    "      <br />\n",
    "      <hr />\n",
    "      <style type=\"text/css\" scoped>\n",
    "         p{\n",
    "         border: 1px solid #a2a9b1;background-color: #f8f9fa;display: inline-block;\n",
    "         };\n",
    "      </style>\n",
    "      <div>\n",
    "         <h3>فهرست مطالب</h3>\n",
    "         <ul style=\"margin-right: 0;\">\n",
    "            <li>\n",
    "               <a href=\"#sec_0\">\n",
    "               مقدمه\n",
    "               </a>\n",
    "            </li>\n",
    "            <li>\n",
    "               <a href=\"#sec_1\">\n",
    "               چارک‌های نرمال استاندارد\n",
    "               </a>\n",
    "            </li>\n",
    "            <li>\n",
    "               <a href=\"#sec_2\">\n",
    "               بازه‌های اطمینان\n",
    "               </a>\n",
    "            </li>\n",
    "            <li>\n",
    "               <a href=\"#sec_3\">\n",
    "               معرفی ابزار\n",
    "               </a>    \n",
    "            </li>\n",
    "            <li>\n",
    "               <a href=\"#sec_4\">\n",
    "               چند مثال\n",
    "               </a>\n",
    "            </li>\n",
    "            <li>\n",
    "               <a href=\"#sec_5\">\n",
    "               بدفهمی‌ها!\n",
    "         </ul>\n",
    "      </div>\n",
    "   </font>\n",
    "</div>"
   ]
  },
  {
   "cell_type": "markdown",
   "metadata": {},
   "source": [
    "<p></p>\n",
    "<br />\n",
    "<div id=\"sec_0\" style=\"direction:rtl;line-height:300%;text-align:justify\">\n",
    "   <font face=\"XB Zar\" size=5>\n",
    "      <font color=#FF7500 size=6>\n",
    "      مقدمه\n",
    "      </font>\n",
    "      <p></p>\n",
    "      <hr>\n",
    "      جرزی نیمن (Jerzy Neyman) \n",
    "      که به تازگی در کلاس آمار تخمین نقطه‌ای را یادگرفته بود، در لابی دانشکده نشسته بود!\n",
    "       او یاد گرفته بود که چطور با استفاده از داده‌هایی که داریم می‌توانیم صحت فرضیه‌ی خود را امتحان  کنیم. همچنین در تخمین‌های نقطه‌ای (مثل تخمین بیشینه‌ی درست‌نمایی) دیده بود که چگونه می‌توانیم یک پارامتر را تخمین بزنیم. برای مثال می‌توانیم مقدار $\\overline x = 1.5$ را تخمین بزنیم. \n",
    "      ولی درباره‌ی اینکه چقدر به این تخمین اعتماد داریم هیچ حرفی نمی‌توانست بزند. چون این تخمین تنها یک عدد به ما داده‌است و هیچ اطلاعات اضافه‌ای ندارد. نکته‌ی جالب اینجاست که فرقی ندارد ما از پنج داده استفاده کرده باشیم یا یک میلیون! به هرحال جواب ما فقط یک عدد است و هیچ قطعیتی را نشان نمی‌دهد.\n",
    "      <br/> \n",
    "      او\n",
    "      برای دقیق‌تر کردن جواب تخمین، مفهومی به نام بازه اطمینان را ارائه کرد. \n",
    "      (<a href=\"#paper\">\n",
    "      مقاله او\n",
    "      </a>)\n",
    "      <br>\n",
    "      در این مفهوم به جای اینکه برای پارامتر $\\mu$ یک مقدار $\\hat{\\mu}$ پیدا کنیم، یک بازه به دست می‌آوریم که  یافتن مقدار واقعی $\\mu$ در آن محتمل باشد.  \n",
    "      برای مثال می‌گوییم برای تخمین پارامتر $\\mu$  با  اطمینان ۹۵٪ بازه‌ی [۲.۵، ۰.۵] را به دست آورده‌ایم.\n",
    "   </font>\n",
    "</div>"
   ]
  },
  {
   "cell_type": "markdown",
   "metadata": {},
   "source": [
    "<p></p>\n",
    "<br />\n",
    "<div id=\"sec_1\" style=\"direction:rtl;line-height:300%;text-align:justify\">\n",
    "   <font face=\"XB Zar\" size=5>\n",
    "      <font color=#FF7500 size=6>\n",
    "      چارک‌های نرمال استاندارد\n",
    "      </font>\n",
    "      <p></p>\n",
    "      <hr>\n",
    "      برای درک بهتر بازه‌های اطمینان از چند تعریف شروع می‌کنیم. متغیر تصادفی نرمال استاندارد را $Z$، و تابع توزیع تجمعی آن را $\\Phi$ بنامید. $z_\\alpha$ را به ازای $0<\\alpha<1$ تعریف می‌کنیم\n",
    "      $$P(Z>z_\\alpha)=\\alpha$$ که معادل است با $$P(Z\\le z_\\alpha)=1-\\alpha$$\n",
    "      بنابراین داریم\n",
    "      $$z_\\alpha=\\Phi^{-1}(1-\\alpha).$$\n",
    "      این مقدار که چارک نرمال استاندارد نام دارد در توابع پایتون نیز موجود است. به دلیل قرینه بودن نرمال استاندارد نسبت به محور $y$ می‌توانیم از خواص زیر استفاده کنیم\n",
    "      $$P(Z<-z_\\alpha)=P(Z>z_\\alpha)=\\alpha, \\qquad P(|Z|>z_\\alpha)=2\\alpha$$\n",
    "      بنابراین خواهیم داشت\n",
    "      $$P(-z_\\alpha \\le Z \\le z_\\alpha)= 1-2\\alpha$$\n",
    "      که معمولا رابطه‌ی بالا را به صورت زیر می‌نویسند\n",
    "      $$P(-z_{\\alpha/2} \\le Z \\le z_{\\alpha/2})= 1-\\alpha.$$\n",
    "      در زیر می‌توانید چند مقدار رایج از آلفا و بازه‌های اطمینان آن را مشاهده کنید.\n",
    "      </pre>\n",
    "   </font>\n",
    "</div>"
   ]
  },
  {
   "cell_type": "code",
   "execution_count": 21,
   "metadata": {},
   "outputs": [
    {
     "name": "stdout",
     "output_type": "stream",
     "text": [
      "z_alpha values are: [-1.28 -1.64 -1.96 -2.33 -2.58]\n",
      "1-2alpha values are: [0.8  0.9  0.95 0.98 0.99]\n"
     ]
    }
   ],
   "source": [
    "from scipy.stats import norm\n",
    "import numpy as np\n",
    "\n",
    "alpha = np.array([0.1 , 0.05 , 0.025, 0.01, 0.005])\n",
    "z_alpha = np.round(norm.ppf(alpha),2)\n",
    "\n",
    "print(\"z_alpha values are: \"+str(z_alpha))\n",
    "print(\"1-2alpha values are: \"+str(1 - 2*alpha))"
   ]
  },
  {
   "cell_type": "code",
   "execution_count": 22,
   "metadata": {},
   "outputs": [
    {
     "data": {
      "image/png": "[encoded data removed]",
      "text/plain": [
       "<matplotlib.figure.Figure at 0x7fcfbe0b5080>"
      ]
     },
     "metadata": {
      "needs_background": "light"
     },
     "output_type": "display_data"
    }
   ],
   "source": [
    "import matplotlib.pyplot as plt\n",
    "%matplotlib inline\n",
    "\n",
    "mean = 0\n",
    "sd = 1\n",
    "\n",
    "x = np.arange(-3.5,3.5,step = 0.001)*sd + mean\n",
    "y = norm.pdf(x,mean,sd)\n",
    "\n",
    "plt.plot(x,y)\n",
    "plt.fill(np.append(x[x >= 1.96],1.96),np.append(y[x >= 1.96],0),label = \"X>1.96\",alpha = 1)\n",
    "plt.fill(np.concatenate(([1.64],x[(x >= 1.64) & (x <= 1.96)],[1.96])),np.concatenate(([0],y[(x >= 1.64) & (x <= 1.96)],[0])),label = \"X>1.64\",alpha = 0.3 )\n",
    "plt.fill(np.concatenate(([1.28],x[(x >= 1.28) & (x <= 1.64)],[1.64])),np.concatenate(([0],y[(x >= 1.28) & (x <= 1.64)],[0])),label = \"X>1.28\",alpha = 0.3 )\n",
    "plt.xlabel(\"x\")\n",
    "plt.ylabel(\"y\")\n",
    "plt.legend()\n",
    "plt.show()\n"
   ]
  },
  {
   "cell_type": "markdown",
   "metadata": {},
   "source": [
    "<p></p>\n",
    "<br />\n",
    "<div id=\"sec_1\" style=\"direction:rtl;line-height:300%;\">\n",
    "   <font face=\"XB Zar\" size=5>\n",
    "      <font color=#FF7500 size=6>\n",
    "      </font>\n",
    "      <p></p>\n",
    "      <hr>\n",
    "      مساحت\n",
    "      ناحیه‌های هاشور خورده در شکل بالا احتمال رخدادهای نوشته شده کنار شکل را نشان می‌دهند. \n",
    "   </font>\n",
    "</div>"
   ]
  },
  {
   "cell_type": "markdown",
   "metadata": {},
   "source": [
    "<p></p>\n",
    "<br />\n",
    "<div id=\"sec_2\" style=\"direction:rtl;line-height:300%;text-align:justify\">\n",
    "   <font face=\"XB Zar\" size=5>\n",
    "      <font color=#FF7500 size=6>\n",
    "      بازه‌های اطمینان\n",
    "      </font>\n",
    "      <p></p>\n",
    "      <hr>\n",
    "      حال به مبحث تخمین بازه‌ای برمی‌گردیم. می‌دانیم که تخمین بیشینه درستنمایی\n",
    "      برای پارامتر میانگین $\\mu$ برابر است با میانگین نمونه‌ای $\\overline x=\\sum _i x_i /n$، اما این تخمین چقدر دقیق است؟\n",
    "      <br/>\n",
    "      اگر داده‌های ما به صورت مستقل و یکسان توزیع‌شده (iid) از توزیع  نرمال به دست آمده باشند داریم\n",
    "      $$\\hat{\\mu}_{MLE}=\\frac{X_1+...+X_n}{n}\\sim N(\\mu, \\sigma^2/n)$$\n",
    "      با استاندارد کردن $\\hat{\\mu}$ داریم\n",
    "      $$\\frac{\\hat{\\mu}-\\mu}{\\sigma/\\sqrt{n}} \\sim N(0,1).$$\n",
    "      طبق تعریفی که از چارک‌های نرمال استاندارد داشتیم می‌توانیم توزیع بالا را در این رابطه قرار دهیم و داشته باشیم\n",
    "      $$ P(-z_{\\alpha/2} \\le \\frac{\\hat{\\mu}-\\mu}{\\sigma/\\sqrt{n}} \\le z_{\\alpha/2})= 1-\\alpha.$$\n",
    "      که معادل است با\n",
    "      $$ P(\\hat{\\mu}-(z_{\\alpha/2}\\times \\frac{\\sigma}{\\sqrt{n}}) \\le \\mu \\le \\hat{\\mu}+(z_{\\alpha/2}\\times \\frac{\\sigma}{\\sqrt{n}}))= 1-\\alpha.$$\n",
    "      یعنی احتمال اینکه پارامتر $\\mu$ در بازه‌ی بالا باشد $1-\\alpha$ است که به زبان ریاضی معادل است با\n",
    "      $$P(\\mu \\in [\\hat{\\mu}-(z_{\\alpha/2} \\times \\frac{\\sigma}{\\sqrt{n}}), \\hat{\\mu}+ (z_{\\alpha/2}\\times \\frac{\\sigma}{\\sqrt{n}})])= 1-\\alpha.$$\n",
    "      به بازه‌ی $[\\hat{\\mu}-z_{\\alpha/2}\\times \\frac{\\sigma}{\\sqrt{n}}, \\hat{\\mu}+ z_{\\alpha/2}\\times \\frac{\\sigma}{\\sqrt{n}}]$ یک بازه‌ی اطمینان برای پارامتر $\\mu$ می‌گویند. \n",
    "   </font>\n",
    "</div>"
   ]
  },
  {
   "cell_type": "markdown",
   "metadata": {},
   "source": [
    "<p></p>\n",
    "<br />\n",
    "<div id=\"sec_3\" style=\"direction:rtl;line-height:300%;\">\n",
    "   <font face=\"XB Zar\" size=5>\n",
    "      <font color=#FF7500 size=6>\n",
    "      معرفی ابزار        </font>\n",
    "      <p></p>\n",
    "      <hr>\n",
    "      برای درک بهتر مفهوم بازه‌ی اطمینان و کار با آن می‌توانید از ابزارهای تعاملی زیر استفاده کنید:\n",
    "    \n",
    "   </font>\n",
    "</div>"
   ]
  },
  {
   "cell_type": "code",
   "execution_count": 1,
   "metadata": {},
   "outputs": [
    {
     "data": {
      "text/html": [
       "\n",
       "        <iframe\n",
       "            width=\"100%\"\n",
       "            height=\"900\"\n",
       "            src=\"https://seeing-theory.brown.edu/frequentist-inference/index.html#section2\"\n",
       "            frameborder=\"0\"\n",
       "            allowfullscreen\n",
       "        ></iframe>\n",
       "        "
      ],
      "text/plain": [
       "<IPython.lib.display.IFrame at 0x7fd5045b0588>"
      ]
     },
     "execution_count": 1,
     "metadata": {},
     "output_type": "execute_result"
    }
   ],
   "source": [
    "from IPython.display import IFrame\n",
    "\n",
    "IFrame(\"https://seeing-theory.brown.edu/frequentist-inference/index.html#section2\",\"100%\",height = 900)"
   ]
  },
  {
   "cell_type": "markdown",
   "metadata": {},
   "source": [
    "<div id=\"sec_3\" style=\"direction:rtl;line-height:300%;\">\n",
    "   <font face=\"XB Zar\" size=5>\n",
    "منبع:\n",
    "       <br>\n",
    "  <a href=https://seeing-theory.brown.edu/frequentist-inference/index.html#section2> https://seeing-theory.brown.edu/frequentist-inference/index.html#section2 </a>\n",
    "   </font>\n",
    "   </div>\n",
    "   \n",
    "---"
   ]
  },
  {
   "cell_type": "code",
   "execution_count": 2,
   "metadata": {},
   "outputs": [
    {
     "data": {
      "text/html": [
       "\n",
       "        <iframe\n",
       "            width=\"100%\"\n",
       "            height=\"910\"\n",
       "            src=\"http://mathlets.org/mathlets/confidence-intervals/\"\n",
       "            frameborder=\"0\"\n",
       "            allowfullscreen\n",
       "        ></iframe>\n",
       "        "
      ],
      "text/plain": [
       "<IPython.lib.display.IFrame at 0x7fd50462bcc0>"
      ]
     },
     "execution_count": 2,
     "metadata": {},
     "output_type": "execute_result"
    }
   ],
   "source": [
    "IFrame(\"http://mathlets.org/mathlets/confidence-intervals/\",\"100%\",height = 910)"
   ]
  },
  {
   "cell_type": "markdown",
   "metadata": {},
   "source": [
    "   <div id=\"sec_3\" style=\"direction:rtl;line-height:300%;\">\n",
    "   <font face=\"XB Zar\" size=5>\n",
    "منبع:\n",
    "       <br>\n",
    "  <a href=http://mathlets.org/mathlets/confidence-intervals/> http://mathlets.org/mathlets/confidence-intervals </a> \n",
    "   </font>\n",
    "   </div>\n",
    "\n",
    "---"
   ]
  },
  {
   "cell_type": "markdown",
   "metadata": {},
   "source": [
    "<p></p>\n",
    "<br />\n",
    "<div id=\"sec_4\" style=\"direction:rtl;line-height:300%;text-align:justify\">\n",
    "   <font face=\"XB Zar\" size=5>\n",
    "      <font color=#FF7500 size=6>\n",
    "      تخمین بازه اطمینان میانگین با واریانس نمونه‌ای\n",
    "      </font>\n",
    "      <p></p>\n",
    "      <hr>\n",
    "      آموختیم برای محاسبه‌ی یک بازه‌ی اطیمنان با خطای\n",
    "\t$ \\alpha $\n",
    "\tبرای پارامتر\n",
    "\t$ \\mu $\n",
    "\tدر جمعیت، می‌توانیم از رابطه‌ی زیر استفاده کنیم:\n",
    "    <br>\n",
    "    $$\t\t\\hat{\\mu}-z_{\\alpha/2}\\frac{\\sigma}{\\sqrt{n}} \\leq \\mu \\leq \\hat{\\mu}+z_{\\alpha/2}\\frac{\\sigma}{\\sqrt{n}}  $$\n",
    "    به این معنی که بازه‌ی بالا به احتمال\n",
    "\t$ 1-\\alpha $\n",
    "\tشامل پارامتر\n",
    "\t$ \\theta $\n",
    "\tاست. در این رابطه\n",
    "\t$ \\sigma $\n",
    "\tنشان دهنده‌ی انحراف معیار جامعه است اما می‌دانیم  که در عمل به انحراف معیار جامعه دسترسی نداریم و مقدار عددی آن را نمی‌دانیم. بنابراین در عمل برای محاسبه‌ی بازه‌ی اطمینان، به جای\n",
    "\t$ \\sigma $\n",
    "\tکه مربوط به جمعیت است، از\n",
    "\t$ S $\n",
    "\tکه انحراف معیار نمونه‌ای است استفاده می‌کنیم. همان‌طور که انتظار می‌رود این کار باعث ایجاد منبعی جدی از عدم قطعیت در تخمین‌مان می‌شود. برای رفع این مشکل، به جای استفاده از توزیع نرمال در فرمول بالا، از توزیعی موسوم به توزیع تی استیودنت استفاده می‌شود.\n",
    "    <br>\n",
    "    توزیع تی استیودنت نسبت به توزیع نرمال دم پهن‌تری دارد و به همین دلیل کمک می‌کند که در محاسبه بازه‌های اطمینان تخمینی، عدم قطعیت واریانس نمونه‌ای را نیز لحاظ کند. توزیع\n",
    "\t$ t $\n",
    "\tبه تعداد نمونه‌ها وابسته است. یعنی به ازای تعداد هر تعداد نمونه، توزیع t توزیعی مخصوص دارد.(پارامتر توزیع t که شکل آن را تعیین می‌کند، درجه آزادی نام دارد.) برای پیدا کردن یک بازه‌ی اطمینان برای پارامتری از جامعه از روی یک داده به حجم\n",
    "\t$ n $\n",
    "\tاز توزیع\n",
    "\t$ t $\n",
    "\tبا درجه آزادی\n",
    "\t$ n-1 $\n",
    "\tاستفاده می‌کنیم.\n",
    "    <br>\n",
    "    بنابراین بازه‌ی اطمینان به شکل زیر تغییر پیدا می‌کند:\n",
    "\t\\begin{equation*}\n",
    "\t\t\\hat{\\mu}-t_{\\alpha/2}\\frac{s}{\\sqrt{n}} \\leq \\mu \\leq \\hat{\\mu}+t_{\\alpha/2}\\frac{s}{\\sqrt{n}} \n",
    "\t\\end{equation*}\n",
    "\tالبته وقتی\n",
    "\t$ n $\n",
    "\tبزرگ باشد (مثلا بزرگتر از ۱۰۰) توزیع\n",
    "\t$ t $\n",
    "\tبسیار شبیه توزیع نرمال خواهد شد.\n",
    "    <br>\n",
    "    در زیر می‌توانید چند مقدار رایج از آلفا و بازه‌های اطمینان آن را برای توزیع t با ۵۰ درجه آزادی مشاهده کنید.\n",
    "   </font>\n",
    "</div>"
   ]
  },
  {
   "cell_type": "code",
   "execution_count": 2,
   "metadata": {},
   "outputs": [
    {
     "name": "stdout",
     "output_type": "stream",
     "text": [
      "t_alpha values are: [-1.3  -1.68 -2.01 -2.4  -2.68]\n",
      "1-2alpha values are: [0.8  0.9  0.95 0.98 0.99]\n"
     ]
    }
   ],
   "source": [
    "from scipy.stats import t\n",
    "import numpy as np\n",
    "\n",
    "alpha = np.array([0.1 , 0.05 , 0.025, 0.01, 0.005])\n",
    "t_alpha = np.round(t.ppf(alpha,50),2)\n",
    "\n",
    "print(\"t_alpha values are: \"+str(t_alpha))\n",
    "print(\"1-2alpha values are: \"+str(1 - 2*alpha))"
   ]
  },
  {
   "cell_type": "markdown",
   "metadata": {},
   "source": [
    "<p></p>\n",
    "<br />\n",
    "<div id=\"sec_4\" style=\"direction:rtl;line-height:300%;text-align:justify\">\n",
    "   <font face=\"XB Zar\" size=5>\n",
    "      <font color=#FF7500 size=6>\n",
    "      چند مثال\n",
    "      </font>\n",
    "      <p></p>\n",
    "      <hr>\n",
    "      <ol>\n",
    "         <li>\n",
    "            فرض کنید می‌خواهیم بازه‌ی اطمینان ۹۵٪ی را برای تخمین از پارامتر $\\mu$  در مثال بالا را به دست آوریم.با توجه به چارک‌های تابع نرمال می‌دانیم\n",
    "            $$z_{0.025}=1.96$$\n",
    "            بنابراین می‌توانیم احتمال زیر را بنویسیم\n",
    "            $$P(-1.96\\le\\frac{\\hat{\\mu}-\\mu}{\\frac{\\sigma}{\\sqrt{n}}}\\le1.96) = 0.95$$\n",
    "            که این رخداد معادل عبارت زیر است\n",
    "            $$(\\hat{\\mu}-1.96\\frac{\\sigma}{\\sqrt{n}} \\le \\mu \\le \\hat{\\mu}+1.96\\frac{\\sigma}{\\sqrt{n}}).$$\n",
    "            بنابراین بازه‌ی اطمینان ۹۵٪ای برای پارامتر $\\mu$ برابر می‌شود با\n",
    "            $$[\\hat{\\mu}-1.96\\frac{\\sigma}{\\sqrt{n}}, \\hat{\\mu}+1.96\\frac{\\sigma}{\\sqrt{n}}]$$\n",
    "         </li>\n",
    "         <br>\n",
    "         <li>\n",
    "            نمونه‌های تصادفی $X_1, X_2, X_3, ..., X_{144}$ از یک توزیع با مقدار واریانس نامشخص $Var(X_i)=\\sigma^2$ داریم. مقدار میانگین و واریانس این نمونه‌ها برابر $\\overline{X} = 55.2$ و $S^2 = 34.5$\n",
    "            است. یک بازه اطمینان ۹۹٪ی برای $\\mu$ بیابید.\n",
    "         </li>\n",
    "         <ul>\n",
    "            <li>\n",
    "               پاسخ: با توجه به مطالب گفته شده، از آن‌جا که واریانس جامعه را نداریم، باید از واریانس نمونه‌ای استفاده کنیم. میدانیم که بازه\n",
    "               $$[\\overline{X} - t_\\frac{\\alpha}{2} \\frac{S}{\\sqrt{n}}, \\overline{X} + t_\\frac{\\alpha}{2} \\frac{S}{\\sqrt{n}}]$$\n",
    "               یک بازه‌ی اطمینان $(1-\\alpha)100\\%$ برای $\\mu$ است.\n",
    "(که از توزیع t با $ n-1 = 144-1 = 143 $ درجه آزادی استفاده می‌شود.)\n",
    "                در این مثال $n=144$ و $\\alpha=0.01$. هم‌چنین داریم:\n",
    "               $$t_\\frac{\\alpha}{2} = t_{0.005}\\simeq 2.61$$\n",
    "               در نتیجه بازه‌ی مورد نظر به صورت زیر به دست می‌آید:\n",
    "               $$[\\overline{X} - t_\\frac{\\alpha}{2} \\frac{S}{\\sqrt{n}}, \\overline{X} + t_\\frac{\\alpha}{2} \\frac{S}{\\sqrt{n}}] \n",
    "               = [55.2 - 2.61 \\cdot \\frac{\\sqrt{34.5}}{12}, 55.2+2.61\\cdot \\frac{\\sqrt{34.5}}{12}] \\simeq\t [53.92,56.48]$$\n",
    "            </li>\n",
    "         </ul>\n",
    "         <br>\n",
    "         <li>\n",
    "            پیش‌بینی انتخابات: فرض کنید برای انتخاباتی دو نامزد $A$ و $B$ کاندیدا هستند. $\\theta$، نسبت جمعیتی است که به کاندید $A$ رأی می‌دهند. هدف ما یافتن یک بازه‌ی اطمینان برای $\\theta$ است. برای این کار یک نمونه تصادفی شامل $n$ رأی‌دهنده (با جاگذاری) انتخاب می‌کنیم و از آن‌ها سؤال می‌کنیم آیا به نامزد $A$ رأی می‌دهند یا خیر. ما می‌خواهیم $\\theta$ را به گونه‌ای تخمین بزنیم که مقدار خطایمان ۳ درصد باشد. هم‌چنین بازه‌ی اطمینان مورد نظر ما بازه‌ی اطمینان ۹۵٪ی است. مقدار $n$ را به گونه‌ای تعیین کنید که شرایط مورد نظر ما را تامین کند. به بیان ریاضی $n$ را به گونه‌ای بیابید که:\n",
    "            $$P(\\overline{X} - 0.03 \\le \\theta \\le \\overline{X} + 0.03) \\ge 0.95 $$ که $\\overline{X}$ نسبت جمعیتی در نمونه تصادفی ماست که اعلام می‌کنند به نامزد $A$ رأی می‌دهند.\n",
    "            <br>\n",
    "            <ul>\n",
    "               <li>\n",
    "                  پاسخ: $n \\ge 1068$\n",
    "               </li>\n",
    "            </ul>\n",
    "         </li>\n",
    "      </ol>\n",
    "   </font>\n",
    "</div>"
   ]
  },
  {
   "cell_type": "markdown",
   "metadata": {},
   "source": [
    "<p></p>\n",
    "<br />\n",
    "<div id=\"sec_5\" style=\"direction:rtl;line-height:300%; text-align:justify\">\n",
    "   <font face=\"XB Zar\" size=5>\n",
    "      <font color=#FF7500 size=6>\n",
    "      بدفهمی‌ها!\n",
    "      </font>\n",
    "      <p></p>\n",
    "      <hr>\n",
    "      فرض کنید پروفسوری طبق سناریویی فرضی آزمایشی طراحی کرده و نتیجه آزمایش را این‌گونه اعلام می‌کند: «بازه 0.1 تا 0.4، یک بازه اطمینان ۹۵ درصدی برای مقدار میانگین است».\n",
    "      <br>\n",
    "      این پروفسور به عنوان ضمیمه مقاله، یک پرسش‌نامه شش سوالی را برای آزمودن بقیه دانشمندان(!) گذاشته تا بفهمد چند درصد از آن‌ها معنی بازه اطمینان را درست فهمیده‌اند.\n",
    "      سوالات بدین شکل می‌باشند:\n",
    "      <br>\n",
    "      <ol>\n",
    "         <li>\n",
    "            احتمال این‌که میانگین واقعی بزرگ‌تر از صفر باشد حداقل ۹۵ درصد است.\n",
    "         </li>\n",
    "         <li>\n",
    "            احتمال این‌که میانگین واقعی مساوی صفر باشد کمتر از ۵ درصد است.\n",
    "         </li>\n",
    "         <li>\n",
    "            «فرض صفر» که می‌گوید میانگین واقعی مساوی صفر است به احتمال زیاد اشتباه است.\n",
    "         </li>\n",
    "         <li>\n",
    "            ۹۵ درصد اطمینان وجود دارد که میانگین واقعی در بازه 0.1 تا 0.4 باشد.\n",
    "         </li>\n",
    "         <li>\n",
    "            با اطمینان ۹۵ درصد میانگین واقعی بین 0.1 تا 0.4 وجود دارد.\n",
    "         </li>\n",
    "         <li>\n",
    "            اگر آزمایش را بار‌ها و بار‌ها تکرار می‌کردیم آن‌گاه ۹۵ درصد اوقات میانگین بین 0.1 و 0.4 می‌افتاد.\n",
    "         </li>\n",
    "      </ol>\n",
    "      این پرسش‌نامه به طور واقعی در \n",
    "      <a href=http://www.ejwagenmakers.com/inpress/HoekstraEtAlPBR.pdf> این مقاله </a>\n",
    "      به ۱۱۸ محقق و ۴۴۲ دانشجوی سال اولی و ۳۴ دانشجوی ارشد در زمینه روان‌شناسی داده شد و نتایج جواب آن‌ها به این سوالات بدین شکل بود:\n",
    "      ( در هر ستون درصدی از افراد که آن جمله را درست می‌پنداشتند نمایش داده شده)\n",
    "      <br>\n",
    "       <br>\n",
    "      <center>\n",
    "         <img src= \"figs/result.PNG\">\n",
    "      </center>\n",
    "       <br>\n",
    "      در حقیقت هیچ‌کدام از جمله‌های پرسش‌نامه صحیح نبود! معنای درست بازه اطمینان این است که اگر ما به تعداد زیاد آزمایش را تکرار کرده و هر بار برای میانگین بازه‌ای به دست‌آوریم آنگاه با احتمال ۹۵ درصد مقدار میانگین واقعی، در بازه به دست‌آمده توسط ما خواهد بود.\n",
    "      دقت کنید که در عبارت \n",
    "      $[\\hat{\\mu}-1.96\\sigma/\\sqrt{n}, \\hat{\\mu}+1.96\\sigma/\\sqrt{n}]$\n",
    "      ، $\\hat{\\mu}$ متغیری تصادفی است و در آزمایش‌های مختلف مقادیر متفاوتی خواهد گرفت. لذا ممکن است در آزمایش مطرح شده در صورت سوال مقدار $\\hat{\\mu}$ به دست‌آمده از $\\mu$ دور باشد (هرچند با احتمال کم) و مقدار میانگین واقعی در این بازه به دست‌آمده نباشد.\n",
    "   </font>\n",
    "</div>"
   ]
  },
  {
   "cell_type": "markdown",
   "metadata": {},
   "source": [
    "<p></p>\n",
    "<br/>\n",
    "<div id=\"sec_refs\" style=\"direction:rtl;line-height:300%;text-align:justify\">\n",
    "\t<font face=\"XB Zar\" size=5>\n",
    "\t\t<font color=#FF7500 size=6>\n",
    "منابع\n",
    "        </font>\n",
    "\t\t<hr> \n",
    "        <div style=\"direction:ltr;\">\n",
    "        <ul>\n",
    "            <li>\n",
    "            http://www.math.caltech.edu/~2015-16/2term/ma003/Notes/Lecture18.pdf\n",
    "            </li>\n",
    "            <li>\n",
    "            https://ocw.mit.edu/courses/mathematics/18-05-introduction-to-probability-and-statistics-spring-2014/readings/MIT18_05S14_Reading22.pdf\n",
    "            </li>\n",
    "            <li>\n",
    "            http://www.ejwagenmakers.com/inpress/HoekstraEtAlPBR.pdf\n",
    "            </li>\n",
    "            <li id=\"paper\">\n",
    "            https://wwwusers.ts.infn.it/~milotti/Didattica/StatisticaAvanzata/Neyman_1937.pdf\n",
    "            </li>\n",
    "            <li>\n",
    "https://www.probabilitycourse.com/chapter8\n",
    "           </li>\n",
    "        </ul>\n",
    "\t</font>\n",
    "   </div>\n",
    "</div>"
   ]
  },
  {
   "cell_type": "code",
   "execution_count": null,
   "metadata": {
    "collapsed": true,
    "jupyter": {
     "outputs_hidden": true
    }
   },
   "outputs": [],
   "source": []
  }
 ],
 "metadata": {
  "kernelspec": {
   "display_name": "Python 3",
   "language": "python",
   "name": "python3"
  },
  "language_info": {
   "codemirror_mode": {
    "name": "ipython",
    "version": 3
   },
   "file_extension": ".py",
   "mimetype": "text/x-python",
   "name": "python",
   "nbconvert_exporter": "python",
   "pygments_lexer": "ipython3",
   "version": "3.6.9"
  },
  "latex_envs": {
   "LaTeX_envs_menu_present": true,
   "autoclose": false,
   "autocomplete": true,
   "bibliofile": "biblio.bib",
   "cite_by": "apalike",
   "current_citInitial": 1,
   "eqLabelWithNumbers": true,
   "eqNumInitial": 1,
   "hotkeys": {
    "equation": "Ctrl-E",
    "itemize": "Ctrl-I"
   },
   "labels_anchors": false,
   "latex_user_defs": false,
   "report_style_numbering": false,
   "user_envs_cfg": false
  },
  "toc": {
   "base_numbering": 1,
   "nav_menu": {},
   "number_sections": true,
   "sideBar": true,
   "skip_h1_title": false,
   "title_cell": "Table of Contents",
   "title_sidebar": "Contents",
   "toc_cell": false,
   "toc_position": {},
   "toc_section_display": true,
   "toc_window_display": false
  },
  "varInspector": {
   "cols": {
    "lenName": 16,
    "lenType": 16,
    "lenVar": 40
   },
   "kernels_config": {
    "python": {
     "delete_cmd_postfix": "",
     "delete_cmd_prefix": "del ",
     "library": "var_list.py",
     "varRefreshCmd": "print(var_dic_list())"
    },
    "r": {
     "delete_cmd_postfix": ") ",
     "delete_cmd_prefix": "rm(",
     "library": "var_list.r",
     "varRefreshCmd": "cat(var_dic_list()) "
    }
   },
   "types_to_exclude": [
    "module",
    "function",
    "builtin_function_or_method",
    "instance",
    "_Feature"
   ],
   "window_display": false
  }
 },
 "nbformat": 4,
 "nbformat_minor": 4
}
