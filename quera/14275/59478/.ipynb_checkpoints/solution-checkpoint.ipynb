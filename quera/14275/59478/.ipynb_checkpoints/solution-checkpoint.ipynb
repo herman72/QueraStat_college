{
 "cells": [
  {
   "cell_type": "markdown",
   "metadata": {},
   "source": [
    "<div style=\"direction:rtl;line-height:300%;\">\n",
    "\t<font face=\"XB Zar\" size=5>\n",
    "\t\t<div align=center>\n",
    "\t\t\t<font face=\"IranNastaliq\" size=30>\n",
    "\t\t\t\t<p></p>\n",
    "\t\t\t\t<p></p>\n",
    "به نام خدا\n",
    "\t\t\t\t<p></p>\n",
    "\t\t\t</font>\n",
    "\t\t</div>\n",
    "\t\t<hr/>\n",
    "\t\t<font color=#43a8a5 size=6>\n",
    "\t\t\t<br />\n",
    "\t\t\t<div align=center>\n",
    "تن آدمی شریف است، به قد آدمیت!!            </div>\n",
    "\t\t</font>\n",
    "\t\t<br />\n",
    "\t\t<hr />\n",
    "\t\t<style type=\"text/css\" scoped>\n",
    "        p{\n",
    "        border: 1px solid #a2a9b1;background-color: #f8f9fa;display: inline-block;\n",
    "        };\n",
    "        </style>\n",
    "\t</font>\n",
    "</div>"
   ]
  },
  {
   "cell_type": "markdown",
   "metadata": {},
   "source": [
    "<br>\n",
    "<div id=\"sec_intro\" style=\"direction:rtl;line-height:300%;\">\n",
    "\t<font face=\"XB Zar\" size=5>\n",
    "در این تمرین می‌خواهیم تا بر اساس داده قد تعدادی دانشجو که به صورت تصادفی از جامعه دانشجویان دانشگاه شریف نمونه‌برداری شده، میانگین و واریانس قد جامعه دانشجویان دانشگاه را با تخمین‌گرهایی نااریب تخمین بزنیم.\n",
    "<br>\n",
    "قدهای دانشجویان، در لیست heights ریخته شده است. بر اساس این نمونه‌ها، میانگین جامعه را به صورت نقطه‌ای و با تخمین‌گر نااریب تخمین بزنید و در متغیر mean_estimation بریزید. هم‌چنین واریانس جامعه را به صورت نقطه‌ای با تخمین‌گری نااریب تخمین بزنید و در متغیر variance_estimation بریزید.</font>\n",
    "</div>"
   ]
  },
  {
   "cell_type": "code",
   "execution_count": null,
   "metadata": {},
   "outputs": [],
   "source": [
    "heights = [170.3054996 , 185.95157322, 185.59503547, 176.64996705,\n",
    "       182.25792963, 184.2451982 , 175.02039651, 182.34694967,\n",
    "       181.28490379, 207.04900326, 171.28754172, 169.61118209,\n",
    "       180.8208151 , 170.13481684, 176.01713593, 194.96151855,\n",
    "       183.54246305, 174.05684176, 178.34399144, 187.53568943,\n",
    "       189.60000557, 165.01766148, 179.34813606, 175.09809168,\n",
    "       186.35518498, 187.50378865, 192.68391683, 159.39860116,\n",
    "       189.82477015, 180.48886792, 172.0081919 , 153.41010612,\n",
    "       171.31412722, 172.5745002 , 183.04607391, 173.49037561,\n",
    "       187.06440309, 170.87481409, 200.43452551, 187.12889972,\n",
    "       198.0945658 , 173.46652282, 166.96032164, 185.45029049,\n",
    "       181.8992367 , 163.45210666, 180.82699774, 186.44419834,\n",
    "       178.52106811, 165.30716082, 202.06374713, 189.0802604 ,\n",
    "       188.66818159, 180.40999764, 177.87854848, 184.35688268,\n",
    "       195.27828742, 190.96426761, 185.53194814, 170.0161624 ,\n",
    "       168.97318941, 166.4547659 , 169.99854689, 184.55834429,\n",
    "       184.7318394 , 193.04913024, 176.67580444, 190.16907337,\n",
    "       187.86576033, 156.34249527, 173.34701628, 181.63053097,\n",
    "       184.11928451, 186.6739646 , 188.51245283, 175.42288693,\n",
    "       165.7918935 , 175.37497184, 176.66438739, 177.98786587,\n",
    "       172.22958341, 176.07995572, 169.95190122, 170.16778847,\n",
    "       178.25365548, 180.14234478, 173.73277007, 185.8808587 ,\n",
    "       179.67091038, 195.74709912, 185.79842197, 186.30831439,\n",
    "       178.22535375, 176.60261323, 183.13637722, 187.18685465,\n",
    "       184.31881755, 176.34155138, 186.38583051, 188.84259273]"
   ]
  },
  {
   "cell_type": "code",
   "execution_count": null,
   "metadata": {},
   "outputs": [],
   "source": [
    "mean_estimation = \n",
    "variance_estimation = \n",
    "sample_params = [mean_estimation,variance_estimation]"
   ]
  },
  {
   "cell_type": "markdown",
   "metadata": {},
   "source": [
    "<br>\n",
    "<div id=\"sec_whatisR\" style=\"direction:rtl;line-height:300%;\">\n",
    "<font face=\"XB Zar\" size=5>\n",
    "        <font color=#000000 size=5>\n",
    "با اجرای دستور زیر، آرایه‌ها را ذخیره کنید تا پاسخ‌های‌تان ارزیابی شود.\n",
    "</font>\n",
    "        \n",
    "</div>"
   ]
  },
  {
   "cell_type": "code",
   "execution_count": null,
   "metadata": {},
   "outputs": [],
   "source": [
    "np.savez(\"answers.npz\",sample_params = sample_params)"
   ]
  },
  {
   "cell_type": "code",
   "execution_count": null,
   "metadata": {},
   "outputs": [],
   "source": []
  }
 ],
 "metadata": {
  "kernelspec": {
   "display_name": "Python 3",
   "language": "python",
   "name": "python3"
  },
  "language_info": {
   "codemirror_mode": {
    "name": "ipython",
    "version": 3
   },
   "file_extension": ".py",
   "mimetype": "text/x-python",
   "name": "python",
   "nbconvert_exporter": "python",
   "pygments_lexer": "ipython3",
   "version": "3.7.3"
  },
  "latex_envs": {
   "LaTeX_envs_menu_present": true,
   "autoclose": false,
   "autocomplete": true,
   "bibliofile": "biblio.bib",
   "cite_by": "apalike",
   "current_citInitial": 1,
   "eqLabelWithNumbers": true,
   "eqNumInitial": 1,
   "hotkeys": {
    "equation": "Ctrl-E",
    "itemize": "Ctrl-I"
   },
   "labels_anchors": false,
   "latex_user_defs": false,
   "report_style_numbering": false,
   "user_envs_cfg": false
  },
  "toc": {
   "base_numbering": 1,
   "nav_menu": {},
   "number_sections": true,
   "sideBar": true,
   "skip_h1_title": false,
   "title_cell": "Table of Contents",
   "title_sidebar": "Contents",
   "toc_cell": false,
   "toc_position": {},
   "toc_section_display": true,
   "toc_window_display": false
  },
  "varInspector": {
   "cols": {
    "lenName": 16,
    "lenType": 16,
    "lenVar": 40
   },
   "kernels_config": {
    "python": {
     "delete_cmd_postfix": "",
     "delete_cmd_prefix": "del ",
     "library": "var_list.py",
     "varRefreshCmd": "print(var_dic_list())"
    },
    "r": {
     "delete_cmd_postfix": ") ",
     "delete_cmd_prefix": "rm(",
     "library": "var_list.r",
     "varRefreshCmd": "cat(var_dic_list()) "
    }
   },
   "types_to_exclude": [
    "module",
    "function",
    "builtin_function_or_method",
    "instance",
    "_Feature"
   ],
   "window_display": false
  }
 },
 "nbformat": 4,
 "nbformat_minor": 2
}
