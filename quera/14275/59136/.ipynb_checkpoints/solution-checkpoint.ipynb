{
 "cells": [
  {
   "cell_type": "markdown",
   "metadata": {},
   "source": [
    "<div style=\"direction:rtl;line-height:300%;\">\n",
    "\t<font face=\"XB Zar\" size=5>\n",
    "\t\t<div align=center>\n",
    "\t\t\t<font face=\"IranNastaliq\" size=30>\n",
    "\t\t\t\t<p></p>\n",
    "\t\t\t\t<p></p>\n",
    "به نام خدا\n",
    "\t\t\t\t<p></p>\n",
    "\t\t\t</font>\n",
    "\t\t</div>\n",
    "\t\t<hr/>\n",
    "\t\t<font color=#43a8a5 size=6>\n",
    "\t\t\t<br />\n",
    "\t\t\t<div align=center>\n",
    "تخمین نمرات دانشجویان\n",
    "            </div>\n",
    "\t\t</font>\n",
    "\t\t<br />\n",
    "\t\t<hr />\n",
    "\t\t<style type=\"text/css\" scoped>\n",
    "        p{\n",
    "        border: 1px solid #a2a9b1;background-color: #f8f9fa;display: inline-block;\n",
    "        };\n",
    "        </style>\n",
    "\t</font>\n",
    "</div>"
   ]
  },
  {
   "cell_type": "markdown",
   "metadata": {},
   "source": [
    "<br>\n",
    "<div id=\"sec_intro\" style=\"direction:rtl;line-height:300%;\">\n",
    "\t<font face=\"XB Zar\" size=5>\n",
    "        در این تمرین، با مجموعه داده معدل‌های تعدادی از دانشجویان سال دومی دانشگاه شریف کار می‌کنیم.(داده‌ها واقعی نیستند)\n",
    "<br>\n",
    "نمونه‌برداری داده‌ها به این صورت است که یکی از گروه‌های تحقیقاتی دانشگاه، تصمیم گرفته است تحقیقی را درباره معدل‌های دانشجویان سال اولی در ترم اول و دوم انجام دهد. اما پس از تلاش‌های بسیار، معاونت آموزشی دانشگاه اطلاعات دانشجویان را در اختیار آنان قرار نداده. برای همین اعضای این گروه تحقیقاتی تصمیم گرفتند تا با نمونه‌برداری تصادفی، بیست نفر از دانشجویانی را که سال اول خود را به اتمام رسانده‌اند، انتخاب کنند و معدل ترم اول و دوم‌شان را بپرسند.(فرض می‌کنیم دانشجویان صادق هستند و فرآیند نمونه‌برداری نیز کاملا تصادفی و با جای‌گذاری بوده است.)\n",
    "<br>\n",
    "خروجی این تحقیق، داده grades.csv است. برای خواندن این داده، از کتاب‌خانه pandas استفاده می‌کنیم.\n",
    "<br>\n",
    "برای مشاهده چند سطر اول داده، از دستور head استفاده می‌کنیم.\n",
    "</font>\n",
    "</div>"
   ]
  },
  {
   "cell_type": "code",
   "execution_count": 6,
   "metadata": {},
   "outputs": [],
   "source": [
    "import pandas as pd"
   ]
  },
  {
   "cell_type": "code",
   "execution_count": 7,
   "metadata": {},
   "outputs": [
    {
     "data": {
      "text/html": [
       "<div>\n",
       "<style scoped>\n",
       "    .dataframe tbody tr th:only-of-type {\n",
       "        vertical-align: middle;\n",
       "    }\n",
       "\n",
       "    .dataframe tbody tr th {\n",
       "        vertical-align: top;\n",
       "    }\n",
       "\n",
       "    .dataframe thead th {\n",
       "        text-align: right;\n",
       "    }\n",
       "</style>\n",
       "<table border=\"1\" class=\"dataframe\">\n",
       "  <thead>\n",
       "    <tr style=\"text-align: right;\">\n",
       "      <th></th>\n",
       "      <th>Name</th>\n",
       "      <th>Gender</th>\n",
       "      <th>S1</th>\n",
       "      <th>S2</th>\n",
       "    </tr>\n",
       "  </thead>\n",
       "  <tbody>\n",
       "    <tr>\n",
       "      <th>0</th>\n",
       "      <td>Ahmad</td>\n",
       "      <td>M</td>\n",
       "      <td>16.01</td>\n",
       "      <td>14.89</td>\n",
       "    </tr>\n",
       "    <tr>\n",
       "      <th>1</th>\n",
       "      <td>Reza</td>\n",
       "      <td>M</td>\n",
       "      <td>12.69</td>\n",
       "      <td>15.49</td>\n",
       "    </tr>\n",
       "    <tr>\n",
       "      <th>2</th>\n",
       "      <td>Taha</td>\n",
       "      <td>M</td>\n",
       "      <td>15.32</td>\n",
       "      <td>16.32</td>\n",
       "    </tr>\n",
       "    <tr>\n",
       "      <th>3</th>\n",
       "      <td>Mahsa</td>\n",
       "      <td>F</td>\n",
       "      <td>15.58</td>\n",
       "      <td>15.32</td>\n",
       "    </tr>\n",
       "    <tr>\n",
       "      <th>4</th>\n",
       "      <td>Davood</td>\n",
       "      <td>M</td>\n",
       "      <td>14.52</td>\n",
       "      <td>14.53</td>\n",
       "    </tr>\n",
       "  </tbody>\n",
       "</table>\n",
       "</div>"
      ],
      "text/plain": [
       "     Name Gender     S1     S2\n",
       "0   Ahmad      M  16.01  14.89\n",
       "1    Reza      M  12.69  15.49\n",
       "2    Taha      M  15.32  16.32\n",
       "3   Mahsa      F  15.58  15.32\n",
       "4  Davood      M  14.52  14.53"
      ]
     },
     "execution_count": 7,
     "metadata": {},
     "output_type": "execute_result"
    }
   ],
   "source": [
    "grades = pd.read_csv(\"grades.csv\")\n",
    "grades.head()"
   ]
  },
  {
   "cell_type": "markdown",
   "metadata": {},
   "source": [
    "<div style=\"direction:rtl;line-height:300%;\">\n",
    "\t<font face=\"XB Zar\" size=5>\n",
    "در این داده چهار ستون وجود دارد. ستون اول، نام دانشجوست. ستون دوم، جنسیت دانشجوست(دانشجویان مذکر با M و دانشجویان مونث با F نشان داده‌شده‌اند.) ستون سوم معدل ترم اول و ستون چهارم معدل ترم دوم دانشجویان است.\n",
    "<br>\n",
    "این گروه تحقیقاتی می‌خواهد تا بر اساس این داده، با سطح اطمینان نود درصد، بازه اطمینانی برای معدل ترم یک و ترم دو دانشجویان سال اولی بیابد و شما برای کسب امتیاز این تمرین، باید در این مسیر به آنان کمک کنید.\n",
    "<br>\n",
    "ابتدا بازه اطمینان مناسب برای معدل ترم اول دانشجویان را با سطح اطمینان نود درصد حساب کنید. ابتدای این بازه را در متغیر s1_start و انتهای این بازه را در متغیر s1_end بریزید.\n",
    "        <br>\n",
    "سپس همین محاسبه را برای معدل ترم دوم دانشجویان انجام دهید و خروجی‌های لازم را در متغیرهای مربوط بریزید.\n",
    "   </font>\n",
    "</div>"
   ]
  },
  {
   "cell_type": "code",
   "execution_count": null,
   "metadata": {},
   "outputs": [],
   "source": []
  },
  {
   "cell_type": "code",
   "execution_count": 2,
   "metadata": {},
   "outputs": [],
   "source": [
    "s1_start = \n",
    "s1_end = \n",
    "s1_confidence_interval = [s1_start,s1_end]\n",
    "print(s1_confidence_interval)"
   ]
  },
  {
   "cell_type": "code",
   "execution_count": null,
   "metadata": {},
   "outputs": [],
   "source": []
  },
  {
   "cell_type": "code",
   "execution_count": null,
   "metadata": {},
   "outputs": [],
   "source": [
    "s2_start = \n",
    "s2_end = \n",
    "s2_confidence_interval = [s2_start,s2_end]\n",
    "print(s2_confidence_interval)"
   ]
  },
  {
   "cell_type": "markdown",
   "metadata": {},
   "source": [
    "<br>\n",
    "<div id=\"sec_whatisR\" style=\"direction:rtl;line-height:300%;\">\n",
    "\t<font face=\"XB Zar\" size=5>\n",
    "        <font color=#000000 size=5>\n",
    "            این گروه تحقیقاتی، می‌خواهد تخمینی از نسبت دانشجویان پسر و دختر در جامعه دانشجویان ورودی داشته باشد. برای این کار بازه اطمینانی از نسبت دانشجویان پسر دانشگاه با سطح اطمینان نود و پنج درصد، تخمین بزنید و ابتدا و انتهای بازه را در متغیرهای gender_start و gender_end بریزید.\n",
    "\t</font>\n",
    "        \n",
    "</div>"
   ]
  },
  {
   "cell_type": "code",
   "execution_count": null,
   "metadata": {},
   "outputs": [],
   "source": []
  },
  {
   "cell_type": "code",
   "execution_count": 3,
   "metadata": {},
   "outputs": [],
   "source": [
    "gender_start = \n",
    "gender_end = \n",
    "gender_confidence_interval = [gender_start,gender_end]\n",
    "print(gender_confidence_interval)"
   ]
  },
  {
   "cell_type": "markdown",
   "metadata": {},
   "source": [
    "<br>\n",
    "<div id=\"sec_whatisR\" style=\"direction:rtl;line-height:300%;\">\n",
    "<font face=\"XB Zar\" size=5>\n",
    "        <font color=#000000 size=5>\n",
    "با اجرای دستور زیر، آرایه‌ها را ذخیره کنید تا پاسخ‌های‌تان ارزیابی شود.\n",
    "</font>\n",
    "        \n",
    "</div>"
   ]
  },
  {
   "cell_type": "code",
   "execution_count": null,
   "metadata": {},
   "outputs": [],
   "source": [
    "np.savez(\"answers.npz\",gender_confidence_interval = gender_confidence_interval,s1_confidence_interval = s1_confidence_interval,s2_confidence_interval = s2_confidence_interval)"
   ]
  },
  {
   "cell_type": "code",
   "execution_count": null,
   "metadata": {},
   "outputs": [],
   "source": []
  }
 ],
 "metadata": {
  "kernelspec": {
   "display_name": "Python 3",
   "language": "python",
   "name": "python3"
  },
  "language_info": {
   "codemirror_mode": {
    "name": "ipython",
    "version": 3
   },
   "file_extension": ".py",
   "mimetype": "text/x-python",
   "name": "python",
   "nbconvert_exporter": "python",
   "pygments_lexer": "ipython3",
   "version": "3.7.3"
  },
  "latex_envs": {
   "LaTeX_envs_menu_present": true,
   "autoclose": false,
   "autocomplete": true,
   "bibliofile": "biblio.bib",
   "cite_by": "apalike",
   "current_citInitial": 1,
   "eqLabelWithNumbers": true,
   "eqNumInitial": 1,
   "hotkeys": {
    "equation": "Ctrl-E",
    "itemize": "Ctrl-I"
   },
   "labels_anchors": false,
   "latex_user_defs": false,
   "report_style_numbering": false,
   "user_envs_cfg": false
  },
  "toc": {
   "base_numbering": 1,
   "nav_menu": {},
   "number_sections": true,
   "sideBar": true,
   "skip_h1_title": false,
   "title_cell": "Table of Contents",
   "title_sidebar": "Contents",
   "toc_cell": false,
   "toc_position": {},
   "toc_section_display": true,
   "toc_window_display": false
  },
  "varInspector": {
   "cols": {
    "lenName": 16,
    "lenType": 16,
    "lenVar": 40
   },
   "kernels_config": {
    "python": {
     "delete_cmd_postfix": "",
     "delete_cmd_prefix": "del ",
     "library": "var_list.py",
     "varRefreshCmd": "print(var_dic_list())"
    },
    "r": {
     "delete_cmd_postfix": ") ",
     "delete_cmd_prefix": "rm(",
     "library": "var_list.r",
     "varRefreshCmd": "cat(var_dic_list()) "
    }
   },
   "types_to_exclude": [
    "module",
    "function",
    "builtin_function_or_method",
    "instance",
    "_Feature"
   ],
   "window_display": false
  }
 },
 "nbformat": 4,
 "nbformat_minor": 2
}
