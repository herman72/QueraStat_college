{
 "cells": [
  {
   "cell_type": "markdown",
   "metadata": {},
   "source": [
    "<font face=\"XB Zar\" size=5>\n",
    "\t\t<hr/>\n",
    "\t\t<font color=#43a8a5 size=6>\n",
    "\t\t\t<br />\n",
    "\t\t\t<div align=center>\t\n",
    "در سرزمین احتمال\n",
    "            </div>\n",
    "\t\t</font>\n",
    "\t\t<br />\n",
    "\t\t<hr />"
   ]
  },
  {
   "cell_type": "markdown",
   "metadata": {},
   "source": [
    "<p></p>\n",
    "<br />\n",
    "<div id=\"sec_intro\" style=\"direction:rtl;line-height:300%;\">\n",
    "\t<font face=\"XB Zar\" size=5>\n",
    "حالا که با مفاهیم اولیه احتمال و آنالیز ترکیبی آشنا شدیم چند تمرین حل می‌کنیم تا کاربرد روش های ترکیبیاتی را در مسائل احتمال مشاهده کنیم:\n",
    "</font>\n",
    "</div>"
   ]
  },
  {
   "cell_type": "markdown",
   "metadata": {},
   "source": [
    "<p></p>\n",
    "<br />\n",
    "<div id=\"sec_intro\" style=\"direction:rtl;line-height:300%;\">\n",
    "\t<font face=\"XB Zar\" size=5>\n",
    "\t\t<font color='95026b' size=6>\n",
    "مثال ۱:\n",
    "      </font>\n",
    "\t\t<p></p>\n",
    "\t\t<hr>\n",
    " هفت نفر در یک مهمانی دور یک میز نشسته‌اند. سه نفر از آن‌ها به تصادف انتخاب شده و سایرین با این افراد بازی جرئت حقیقت را بازی می‌کنند(۴ نفر دیگر تنها سوال می‌پرسند). احتمال این که حداقل دو نفر از این سه نفر کنار یک دیگر نشسته باشند، چه قدر است؟\n",
    "    <br>\n",
    "    <br>\n",
    "    <font color='95026b' size=6>\n",
    "حل:\n",
    "      </font>\n",
    "    <br>\n",
    "    در حالت کلی  برای انتخاب سه نفر از هفت نفر\n",
    "        $۷\\choose۳$\n",
    "        راه داریم. حال از این تعداد حالات  را ٣\n",
    "که حداقل دو نفر از سه نفر انتخاب شده کنار هم باشند را محاسبه می‌کنیم. برای این کار ابتدا تعداد حالات  را که هیچ دو نفری کنار هم نیستند را به دست آورده و سپس با بهره گیری از اصل متمم به حل سوال می‌پردازیم. با کم  دقت درمیابیم که به ازای هر انتخاب برای نفر اول، سه انتخاب برای دو نفر دیگر داریم.از طرفی  هر حالت سه بار شمرده می‌شود.\n",
    "برای انتخاب سه نفر که هیچ یک  کنار دیگری نباشند \n",
    "    $\\frac{7\\times 3}{3} = 7$ \n",
    "    حالت داریم. پس خواهیم داشت: \n",
    "    $1-\\frac{7}{{7\\choose3}} = \\frac{4}{5}$\n",
    "   </font>\n",
    "   </div>"
   ]
  },
  {
   "cell_type": "markdown",
   "metadata": {},
   "source": [
    "<p></p>\n",
    "<br />\n",
    "<div id=\"sec_intro\" style=\"direction:rtl;line-height:300%;\">\n",
    "\t<font face=\"XB Zar\" size=5>\n",
    "\t\t<font color='95026b' size=6>\n",
    "مثال ۲:\n",
    "      </font>\n",
    "\t\t<p></p>\n",
    "\t\t<hr>\n",
    "سال گذشته پویان در پیاده روی اربعین شرکت کرد. او برای صرف ناهار به یکی از موکب ها رفت و از او و ۱۴ نفر دیگر دعوت شد که دور یک میز گرد ۱۵ نفره بنشینند. از بین آن ۱۵نفر(باخود پویان) ۵ نفر ایرانی، ۵ نفر عراقی و ۵ نفر پاکستانی بودند. پویان که به تازگی درس احتمال را پاس کرده بود به ذهنش رسید چقدر احتمال دارد افراد طوری دور میز بنشینند که هیچ ایرانی کنار یک ایرانی ننشیند و همه پاکستانی ها کنار هم بنشینند؟\n",
    "<br>\n",
    "    <br>\n",
    "    <font color='95026b' size=6>\n",
    "حل:\n",
    "      </font>\n",
    "    <br>\n",
    "    برای بدست آوردن احتمال موردنظر باید تعداد این حالت را بر تعداد کل حالات تقسیم کرد.\n",
    "        ابتدا تعداد کل حالات برابر \n",
    "       $۱۴!$\n",
    "       است که جایگشت دوری ۱۵ نفر دور یک میز است. برای محاسبه تعداد حالات مطلوب چون همه پاکستانی ها کنار هم قرار می‌گیرند کل آنها را مثل یک گروه به هم متصل یک نفر درنظر می‌گیریم در این صورت برای قرار دادن پاکستانی ‌ها و عراقی ها دور میز \n",
    "       $۵!\\times ۵! $ \n",
    "       روش وجود دارد که شامل قرار دادن ۶ نفر دورمیز(۵ عراقی +۱ کل پاکستانی‌ها) و همچنین جایگشت پاکستانی بین خودشان در کنارهم . حال ۵ ایرانی را باید بین فواصل ایجاد شده قرار دهیم که کنارهم قرار نگیرند. برای انتخاب ۵ جایگاه از ۶ جایگاه \n",
    "       $۶\\choose ۵$ و همچنین برای جایشگت بین خود ایرانی ها \n",
    "       $۵!$.\n",
    "        پس در کل تعداد روش ها می‌شود: $\\frac{6!5!5!}{5!} = 6!5!$\n",
    "        و احتمال موردنظر می‌شود:\n",
    "        $$P(A)=\\frac{6!5!}{14!}$$\n",
    "   </font>\n",
    "   </div>"
   ]
  },
  {
   "cell_type": "markdown",
   "metadata": {},
   "source": [
    "<p></p>\n",
    "<br />\n",
    "<div id=\"sec_intro\" style=\"direction:rtl;line-height:300%;\">\n",
    "\t<font face=\"XB Zar\" size=5>\n",
    "\t\t<font color='fb5c17' size=6>\n",
    "تمرین تحویلی ۱:      </font>\n",
    "\t\t<p></p>\n",
    "\t\t<hr>\n",
    "تیم Quera به دلیل اهمیت عمل ضرب تصمیم گرفته که مسابقه ضرب اعداد را برای دانش‌آموزان برگزار کند؛ در فرآیند طراحی سوالات مسابقه یکی از اعضای تیم به اشتباه ۲ عدد از ۶ عدد مثبت را منفی و ۲ عدد از ۴ عدد منفی را مثبت وارد کرده است. اگر در روز مسابقه بازیکنی ۳ عدد متمایز از بین این ۱۰ عدد متمایز را انتخاب کند و آنها را در هم ضرب نماید چقدر احتمال دارد نتیجه متاثر از اشتباه اعداد، اشتباه نشود؟\n",
    "<br>\n",
    "    <font color='black' size=5>\n",
    "پاسخ:      </font>\n",
    "    <br>\n",
    "   </font>\n",
    "   </div>"
   ]
  },
  {
   "cell_type": "code",
   "execution_count": 1,
   "metadata": {},
   "outputs": [],
   "source": [
    "from scipy.special import comb"
   ]
  },
  {
   "cell_type": "code",
   "execution_count": 6,
   "metadata": {},
   "outputs": [],
   "source": [
    "x = 1- ((comb(4,1)*comb(6,2))+comb(4,3))/comb(10,3)"
   ]
  },
  {
   "cell_type": "code",
   "execution_count": 9,
   "metadata": {},
   "outputs": [
    {
     "data": {
      "text/plain": [
       "4.0"
      ]
     },
     "execution_count": 9,
     "metadata": {},
     "output_type": "execute_result"
    }
   ],
   "source": [
    "comb(4,1)"
   ]
  },
  {
   "cell_type": "markdown",
   "metadata": {},
   "source": [
    "<br>\n",
    "<div id = \"q\" style=\"direction:rtl;line-height:300%;\">\n",
    "\t<font face=\"XB Zar\" size=5>\n",
    "        بعد از اجرای سلول ها، notebook را ذخیره کنید و ارسال پاسخ را بزنید.\n",
    "</font>\n",
    "</div>\n",
    "\n"
   ]
  },
  {
   "cell_type": "code",
   "execution_count": null,
   "metadata": {},
   "outputs": [],
   "source": []
  }
 ],
 "metadata": {
  "kernelspec": {
   "display_name": "Python 3",
   "language": "python",
   "name": "python3"
  },
  "language_info": {
   "codemirror_mode": {
    "name": "ipython",
    "version": 3
   },
   "file_extension": ".py",
   "mimetype": "text/x-python",
   "name": "python",
   "nbconvert_exporter": "python",
   "pygments_lexer": "ipython3",
   "version": "3.6.9"
  }
 },
 "nbformat": 4,
 "nbformat_minor": 4
}
