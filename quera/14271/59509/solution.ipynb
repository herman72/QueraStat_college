{
 "cells": [
  {
   "cell_type": "markdown",
   "metadata": {},
   "source": [
    "<div id=\"h1\" style=\"direction:rtl;line-height:300%;\">\n",
    "\t<font face=\"XB Zar\" size=5>\n",
    "\t\t<hr/>\n",
    "\t\t<font color=#0f6d02 size=7>\n",
    "\t\t\t<br />\n",
    "\t\t\t<div align=center>\t\n",
    "تاریخچه لیگ            </div>\n",
    "            <br>\n",
    "            <hr>"
   ]
  },
  {
   "cell_type": "markdown",
   "metadata": {},
   "source": [
    "<div dir = \"rtl\" style=\"direction:rtl;line-height:300%;\">\n",
    "\t<font face=\"XB Zar\" size=5>\n",
    "        داده spanish_league که در اختیار شما قرارگرفته است اطلاعاتی مانند زمان بازی‌های برگزار شده , نتایج آن‌ها و تیم‌های برگزارکننده‌ی بازی‌ها را در اختیار شما قرار می‌دهد. هر سطر از این داده، شامل اطلاعات یک بازی است. با استفاده از این داده موارد خواسته شده را بیابید:\n",
    "        <br/>\n",
    "        <ul>\n",
    "            <li>\n",
    "                ابتدا داده را بخوانید و نگاهی به بخشی از آن بیندازید:\n",
    "            </li>\n",
    "        </ul>\n",
    "    </font>\n",
    "</div>"
   ]
  },
  {
   "cell_type": "code",
   "execution_count": null,
   "metadata": {},
   "outputs": [],
   "source": [
    "import pandas as pd\n",
    "\n",
    "league_data = pd.read_csv(\"spanish_league.csv\")\n",
    "league_data.head()\n"
   ]
  },
  {
   "cell_type": "markdown",
   "metadata": {},
   "source": [
    "<div dir = \"rtl\" style=\"direction:rtl;line-height:300%;\">\n",
    "\t<font face=\"XB Zar\" size=5>\n",
    "       <li> \n",
    "           اگر یک بازی از بین بازی‌ها انتخاب کنیم احتمال اینکه میزبان آن بازی Real Madrid باشد و این تیم هیچ گلی نزده باشد:\n",
    "            </li>\n",
    "    </font>\n",
    "</div>"
   ]
  },
  {
   "cell_type": "code",
   "execution_count": null,
   "metadata": {},
   "outputs": [],
   "source": [
    "example_prob=(len(league_data[league_data['localTeam']=='Real Madrid'][league_data['localGoals']==0])/(len(league_data)))\n",
    "example_prob               "
   ]
  },
  {
   "cell_type": "markdown",
   "metadata": {},
   "source": [
    "<div dir = \"rtl\" style=\"direction:rtl;line-height:300%;\">\n",
    "\t<font face=\"XB Zar\" size=5>\n",
    "       <li> \n",
    "          اگر یکی از بازی‌ها را انتخاب کنیم چقدر احتمال دارد که یا بیشتر مساوی ۷ گل یا کمتر مساوی ۱ گل زده شده باشد؟\n",
    "            </li>\n",
    "    </font>\n",
    "</div>\n",
    "\n"
   ]
  },
  {
   "cell_type": "code",
   "execution_count": null,
   "metadata": {},
   "outputs": [],
   "source": [
    "#calculate probability:\n",
    "unusual_game ="
   ]
  },
  {
   "cell_type": "markdown",
   "metadata": {},
   "source": [
    "<div dir = \"rtl\" style=\"direction:rtl;line-height:300%;\">\n",
    "\t<font face=\"XB Zar\" size=5>\n",
    "       <li> \n",
    "                اگر یک بازی را بطور تصادفی از دیتافریم بالا انتخاب کنیم، احتمال اینکه مربوط به فصل 83-1982 باشد، چقدر است؟ \n",
    "            </li>\n",
    "    </font>\n",
    "</div>\n"
   ]
  },
  {
   "cell_type": "code",
   "execution_count": null,
   "metadata": {},
   "outputs": [],
   "source": [
    "season_prob = "
   ]
  },
  {
   "cell_type": "markdown",
   "metadata": {},
   "source": [
    "<div dir = \"rtl\" style=\"direction:rtl;line-height:300%;\">\n",
    "\t<font face=\"XB Zar\" size=5>\n",
    "       <li> \n",
    "بر طبق داده‌ها، اگر Real Madrid میزبان باشد چقدر احتمال دارد که ۳ گل بزند؟(a)\n",
    "</li>\n",
    "        <li>\n",
    "            اگر بدانیم تیم مقابل ۱ گل به رئال‌مادرید زده است، مقدار احتمال قبلی چقدر می‌شود؟(b)\n",
    "            </li>\n",
    "        <li>\n",
    "            اگر بدانیم بازی در فصل \n",
    "           $1986-87$\n",
    "        یا بعد از آن برگزار شده است، احتمال قسمت a چقدر می‌شود؟(c)\n",
    "        </li>\n",
    "    </font>\n",
    "</div>\n"
   ]
  },
  {
   "cell_type": "code",
   "execution_count": null,
   "metadata": {},
   "outputs": [],
   "source": [
    "a=\n",
    "b=\n",
    "c=\n"
   ]
  },
  {
   "cell_type": "markdown",
   "metadata": {},
   "source": [
    "<div dir = \"rtl\" style=\"direction:rtl;line-height:300%;\">\n",
    "\t<font face=\"XB Zar\" size=5>\n",
    "        طبق داده به احتمالات خواسته شده را حساب کنید و درمتغیر مربوط بریزید:\n",
    "       <li> \n",
    "به طورکلی اگر در یک بازی بدانیم مجموع گلهای دوتیم ۳ است؛ چقدر احتمال دارد تیم میزبان برنده بازی شده باشد؟(a)\n",
    "</li>\n",
    "        <li> \n",
    "اگر مجموع گلهای دوتیم ۳ باشد چقدر احتمال دارد تیم میزبان هیچ گلی نزده باشد؟(b)\n",
    "</li>\n",
    "        <li> \n",
    "اگر مجموع گلهای دوتیم ۳ باشد چقدر احتمال دارد تیم میهمان هیچ گلی نزده باشد؟(c)\n",
    "</li>\n",
    "        <li> \n",
    "            به ‌طورکلی چقدر احتمال دارد تیم میهمان ۲ یا بیش از ۲ گل بزند؟(d)\n",
    "</li>\n",
    "        <li> \n",
    "اگر بدانیم تیم میهمان برنده بازی شده است؛ چقدر احتمال دارد ۲ یا بیشتر از ۲ گل زده باشد؟(e)\n",
    "</li>\n",
    "        <li> \n",
    "اگر بازی مساوی شده باشد؛ چه طور؟(f)\n",
    "</li>\n",
    "    </font>\n",
    "</div>\n"
   ]
  },
  {
   "cell_type": "code",
   "execution_count": null,
   "metadata": {},
   "outputs": [],
   "source": [
    "p_a = \n",
    "p_b=\n",
    "p_c =\n",
    "p_d = \n",
    "p_e=\n",
    "p_f="
   ]
  },
  {
   "cell_type": "markdown",
   "metadata": {},
   "source": [
    "<div dir = \"rtl\" style=\"direction:rtl;line-height:300%;\">\n",
    "\t<font face=\"XB Zar\" size=5>\n",
    "       <li> \n",
    "    اگر A پیشامد مساوی شدن بازی باشد و B پیشامد ۲ شدن مجموع گلها باشد؛می‌خواهیم برقراری قاعده بیز روی داده ها را بررسی کنیم.\n",
    "           $$P(A|B)=\\frac{P(B|A)P(A)}{P(B|A)P(A)+P(B|A^{c})P(A^{c})}$$\n",
    "           ابتدا مقدار سمت چپ قاعده را در \n",
    "           $pAB$\n",
    "        قرار دهید. سپس مقدار مخرج سمت راست را در pB_1 قرار دهید حال مقدار بدست آمده در \n",
    "        pB_1را با مقدار \n",
    "        $P(B)$ \n",
    "        مقایسه کنید به این صورت که اگر این دو مساوی بودند در \n",
    "        $check\\_law\\_total$\n",
    "        مقدار True و در غیر آن False قرار می‌گیرد. \n",
    "        و در نهایت مقدار سمت راست قاعده بیز را در bayes قرار دهید. \n",
    "        حال مساوی بودن سمت راست و چپ قاعده بیز را بررسی کنید به این صورت که اگر bayes و pAB برابر بودند در \n",
    "        $check\\_bayes$\n",
    "        مقدار True و در غیر آن False قرار گیرد.\n",
    "</li>\n",
    "    </font>\n",
    "</div>\n"
   ]
  },
  {
   "cell_type": "code",
   "execution_count": null,
   "metadata": {},
   "outputs": [],
   "source": [
    "pAB = \n",
    "pB_1 = \n",
    "check_law_total = \n"
   ]
  },
  {
   "cell_type": "code",
   "execution_count": null,
   "metadata": {},
   "outputs": [],
   "source": [
    "bayes = \n",
    "check_bayes= "
   ]
  }
 ],
 "metadata": {
  "kernelspec": {
   "display_name": "Python 3",
   "language": "python",
   "name": "python3"
  },
  "language_info": {
   "codemirror_mode": {
    "name": "ipython",
    "version": 3
   },
   "file_extension": ".py",
   "mimetype": "text/x-python",
   "name": "python",
   "nbconvert_exporter": "python",
   "pygments_lexer": "ipython3",
   "version": "3.8.5"
  }
 },
 "nbformat": 4,
 "nbformat_minor": 4
}
