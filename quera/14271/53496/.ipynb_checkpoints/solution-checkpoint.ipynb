{
 "cells": [
  {
   "cell_type": "markdown",
   "metadata": {},
   "source": [
    "<div id=\"h1\" style=\"direction:rtl;line-height:300%;\">\n",
    "\t<font face=\"XB Zar\" size=5>\n",
    "\t\t<hr/>\n",
    "\t\t<font color=#0f6d02 size=7>\n",
    "\t\t\t<br />\n",
    "\t\t\t<div align=center>\t\n",
    "اصل شمول و عدم شمول\n",
    "            </div>\n",
    "            <br>\n",
    "            <hr>"
   ]
  },
  {
   "cell_type": "markdown",
   "metadata": {},
   "source": [
    "<div id = \"Inclusive-Exclusive\" style=\"direction:rtl;line-height:300%;\">\n",
    "    <font face=\"XB Zar\" size=5>\n",
    "        <p></p>\n",
    "برای محاسبه تعداد اعضای اجتماع دو مجموعه‌ی متناهی، از روش زیر استفاده می‌شود:\n",
    "<br>\n",
    "$$ |A\\cup B|=|A|+|B|-|A\\cap B|$$\n",
    "<br>\n",
    "این فرمول بیان می‌کند که مجموع اندازهٔ دو مجموعه ممکن است بزرگتر از اندازه‌ی اجتماع آن‌ها باشد چون بعضی از اعضا شاید دو بار شمرده شوند. اعضایی که دو بار شمرده شده‌اند همان اعضایی اند که در اشتراک دو مجموعه حضور دارند بنابراین با کم کردن این تعداد، اندازهٔ واقعی مجموعه‌ی اجتماع بدست می‌آید.\n",
    "<br>\n",
    "فرمول مذکور برای مجموعه سه تایی:\n",
    "<br>\n",
    "<img src=\"figs/InEx.png\" style=\"float:center; width:40%\"/>\n",
    "<br>\n",
    "$$\\displaystyle |A\\cup B\\cup C|=|A|+|B|+|C|-|A\\cap B|-|A\\cap C|-|B\\cap C|+|A\\cap B\\cap C|$$\n",
    "<br>\n",
    "در حالت کلی:\n",
    "<br>\n",
    "$${\\displaystyle {\\biggl |}\\bigcup _{i=1}^{n}A_{i}{\\biggr |}=\\sum _{i=1}^{n}\\left|A_{i}\\right|\\;-\\sum _{1\\leq i<j\\leq n}\\left|A_{i}\\cap A_{j}\\right|\\;+\\sum _{1\\leq i<j<k\\leq n}\\left|A_{i}\\cap A_{j}\\cap A_{k}\\right|\\;-\\ \\ldots \\ +\\;\\left(-1\\right)^{n-1}\\left|A_{1}\\cap \\cdots \\cap A_{n}\\right|.} $$\n",
    "<br>\n",
    "این فرمول می‌تواند به این صورت امتحان شود که بشماریم هر ناحیه در نمودار ون چند بار در سمت راست فرمول شمرده شده است. تصویر زیر می‌تواند واضح‌تر توضیح دهد:\n",
    "<br>\n",
    "<img src=\"figs/counting.png\" style=\"float:center; width:80%\"/>\n",
    "<br>\n",
    "در آمار و احتمالات هم این قاعده به صورت مشابهی استفاده می‌شود، چون تعریف احتمال نیز در واقع شامل تعداد اعضای مجموعه‌ی مدنظر تقسیم بر فضای مسئله است.\n",
    "<br>\n",
    "$${\\displaystyle \\mathbb {P} (A_{1}\\cup A_{2})=\\mathbb {P} (A_{1})+\\mathbb {P} (A_{2})-\\mathbb {P} (A_{1}\\cap A_{2}),}$$\n",
    "<br> <br>\n",
    "$${\\displaystyle \\mathbb {P} (A_{1}\\cup A_{2}\\cup A_{3})=\\mathbb {P} (A_{1})+\\mathbb {P} (A_{2})+\\mathbb {P} (A_{3}) {}-\\mathbb {P} (A_{1}\\cap A_{2})-\\mathbb {P} (A_{1}\\cap A_{3})-\\mathbb {P} (A_{2}\\cap A_{3})\\qquad {}+\\mathbb {P} (A_{1}\\cap A_{2}\\cap A_{3})}$$\n",
    "<br>\n",
    "در حالت کلی:\n",
    "<br>\n",
    "$${\\displaystyle \\mathbb {P} {\\biggl (}\\bigcup _{i=1}^{n}A_{i}{\\biggr )}{}=\\sum _{i=1}^{n}\\mathbb {P} (A_{i})-\\sum _{i<j}\\mathbb {P} (A_{i}\\cap A_{j})\\qquad +\\sum _{i<j<k}\\mathbb {P} (A_{i}\\cap A_{j}\\cap A_{k})-\\ \\cdots \\ +(-1)^{n-1}\\,\\mathbb {P} {\\biggl (}\\bigcap _{i=1}^{n}A_{i}{\\biggr )}} $$\n",
    "</font>\n",
    "</div>"
   ]
  },
  {
   "cell_type": "markdown",
   "metadata": {},
   "source": [
    "<div id=\"longfeet\" style=\"direction:rtl;line-height:300%;\">\n",
    "\t<font face=\"XB Zar\" size=5>\n",
    "\t\t<font color=95026b size=6>\n",
    "            مثال:\n",
    "        </font>\n",
    "        <br>\n",
    "در چند جایگشت از حروف کلمه circulation هیچ‌یک از عبارت‌های cir، cul و tion ظاهر نمی‌شوند؟\n",
    "        <br>\n",
    "        <font color=95026b size=5>\n",
    "حل:\n",
    "        </font>\n",
    "        <br>\n",
    "       S را مجموعه‌ی همه‌ی جایگشت‌های حروف کلمه circulation، A را مجموعه‌ی جایگشت‌هایی که عبارت cir در آن‌ها ظاهر می‌شود، B را مجموعه‌ی جایگشت‌هایی که عبارت cul در آن‌ها ظاهر می‌شود و C را مجموعه‌ی جایگشت‌هایی که عبارت tion در آن‌ها ظاهر می‌شود می‌گیریم. در این صورت \n",
    "        $|S|=\\frac{11!}{2!2!}$.\n",
    "         برای محاسبه‌ی |A|، عبارت cir را در یک دسته قرار می‌دهیم و جایگشت این دسته و بقیه‌ی حروف را باهم حساب می‌کنیم.\n",
    "         $$(cir)culation$$\n",
    "         پس \n",
    "         $|A|=9!$.\n",
    "          به طور مشابه معلوم می‌شود \n",
    "          $|B|=\\frac{9!}{2!}$ و$|C|=\\frac{8!}{2!}$. \n",
    "          برای محاسبه \n",
    "          $|A\\cap B|$ نیز \n",
    "          عبارت cir را در یک دسته و عبارت cul را در دسته‌ای دیگر قرار می‌دهیم و تعداد جایگشت‌های این دو دسته و بقیه‌ی حروف را حساب می‌کنیم.\n",
    "          $$(cir)(cul)ation$$\n",
    "          در نتیجه \n",
    "          $|A\\cap B|=7!$. به طور مشابه معلوم می‌شود \n",
    "          $|A\\cap C|=6!$و $|B\\cap C|=6!$. برای محاسبه‌ی $|A\\cap B\\cap C|$ نیز مانند بالا عمل می‌کنیم.\n",
    "          $$(cir)(cul)a(tion)$$\n",
    "          در نتیجه \n",
    "          $|A\\cap B\\cap C|=4!$. پس تعداد جایگشت‌های موردنظر، بنابر اصل شمول و عدم شمول برابر است با:\n",
    "          $$\\frac{11!}{2!2!} -9! -\\frac{9!}{2!} -\\frac{8!}{2!} +7! +6! +6! -4!$$\n",
    "         <br>"
   ]
  },
  {
   "cell_type": "markdown",
   "metadata": {},
   "source": [
    "<div id=\"h1\" style=\"direction:rtl;line-height:300%;\">\n",
    "\t<font face=\"XB Zar\" size=5>\n",
    "\t\t<font color=fb5c17 size=6>\n",
    "تمرین تحویلی:\n",
    "        </font>\n",
    "\t\t<p></p>\n",
    "       پاسخ این تمرین را در قالب تابعی به نام \n",
    "         $InclusionExclusion$\n",
    "                بنویسید.\n",
    "        <br/>\n",
    "        <li>\n",
    "            تابعی داریم که مقادیر m و n و لیست prime را که n عدد اول در آن قرار دارد را می‌گیرد و باید محاسبه کند چه تعدادی از اعداد بین ۱ تا m دست‌کم بر یکی از اعداد اول داده شده بخش‌پذیر است و در خروجی این تعداد را برگرداند. کافی است تابع زیر را تکمیل کنید:\n",
    "            پس از اجرای تابع و اجرای نمونه ها ارسال پاسخ را بزنید.\n",
    "        </li>\n",
    "         <br/>\n",
    "</font>\n",
    "</div>\n",
    "\n"
   ]
  },
  {
   "cell_type": "code",
   "execution_count": 16,
   "metadata": {},
   "outputs": [
    {
     "data": {
      "text/plain": [
       "0"
      ]
     },
     "execution_count": 16,
     "metadata": {},
     "output_type": "execute_result"
    }
   ],
   "source": [
    "10%2"
   ]
  },
  {
   "cell_type": "code",
   "execution_count": 25,
   "metadata": {},
   "outputs": [],
   "source": [
    "\n",
    "def InclusionExclusion(m,n,prime):\n",
    "    Not_div=[]\n",
    "    for i in range(m):\n",
    "        counter = 0\n",
    "        for j in (prime):            \n",
    "            if i%j == 0:\n",
    "                counter+=1\n",
    "                \n",
    "        if counter ==0:\n",
    "            Not_div.append(i)\n",
    "        \n",
    "            \n",
    "    return m -len(Not_div)"
   ]
  },
  {
   "cell_type": "code",
   "execution_count": 26,
   "metadata": {},
   "outputs": [
    {
     "ename": "TypeError",
     "evalue": "unsupported operand type(s) for /: 'int' and 'list'",
     "output_type": "error",
     "traceback": [
      "\u001b[0;31m---------------------------------------------------------------------------\u001b[0m",
      "\u001b[0;31mTypeError\u001b[0m                                 Traceback (most recent call last)",
      "\u001b[0;32m<ipython-input-26-c1724d7c2aa7>\u001b[0m in \u001b[0;36m<module>\u001b[0;34m\u001b[0m\n\u001b[0;32m----> 1\u001b[0;31m \u001b[0;36m5\u001b[0m\u001b[0;34m/\u001b[0m\u001b[0;34m[\u001b[0m\u001b[0;36m5\u001b[0m\u001b[0;34m,\u001b[0m\u001b[0;36m3\u001b[0m\u001b[0;34m]\u001b[0m\u001b[0;34m\u001b[0m\u001b[0;34m\u001b[0m\u001b[0m\n\u001b[0m",
      "\u001b[0;31mTypeError\u001b[0m: unsupported operand type(s) for /: 'int' and 'list'"
     ]
    }
   ],
   "source": []
  },
  {
   "cell_type": "code",
   "execution_count": 27,
   "metadata": {},
   "outputs": [],
   "source": [
    "sample1=InclusionExclusion(100,3,[3,5,13])\n",
    "sample2=InclusionExclusion(1000,11,[2,3,7,11,13,19,23,31,41,67,97])\n",
    "sample3=InclusionExclusion(770,7,[11,13,17,19,23,29,47])\n"
   ]
  },
  {
   "cell_type": "code",
   "execution_count": 31,
   "metadata": {},
   "outputs": [
    {
     "data": {
      "text/plain": [
       "253"
      ]
     },
     "execution_count": 31,
     "metadata": {},
     "output_type": "execute_result"
    }
   ],
   "source": []
  },
  {
   "cell_type": "code",
   "execution_count": null,
   "metadata": {},
   "outputs": [],
   "source": []
  }
 ],
 "metadata": {
  "kernelspec": {
   "display_name": "Python 3",
   "language": "python",
   "name": "python3"
  },
  "language_info": {
   "codemirror_mode": {
    "name": "ipython",
    "version": 3
   },
   "file_extension": ".py",
   "mimetype": "text/x-python",
   "name": "python",
   "nbconvert_exporter": "python",
   "pygments_lexer": "ipython3",
   "version": "3.6.9"
  }
 },
 "nbformat": 4,
 "nbformat_minor": 4
}
