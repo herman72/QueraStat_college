{
 "cells": [
  {
   "cell_type": "markdown",
   "metadata": {},
   "source": [
    "<div style=\"direction:rtl;line-height:300%;\">\n",
    "\t<font face=\"XB Zar\" size=5>\n",
    "\t\t<div align=center>\n",
    "\t\t\t<font face=\"IranNastaliq\" size=30>\n",
    "\t\t\t\t<p></p>\n",
    "\t\t\t\t<p></p>\n",
    "به نام خدا\n",
    "\t\t\t\t<p></p>\n",
    "\t\t\t</font>\n",
    "\t\t</div>\n",
    "\t\t<hr/>\n",
    "\t\t<font color=#43a8a5 size=6>\n",
    "\t\t\t<br />\n",
    "\t\t\t<div align=center>\n",
    "آشنایی با توزیع ها\n",
    "                در\n",
    "                پایتون\n",
    "            </div>\n",
    "\t\t</font>\n",
    "        <br />\n",
    "\t\t<hr />\n",
    "\t\t<style type=\"text/css\" scoped>\n",
    "        p{\n",
    "        border: 1px solid #a2a9b1;background-color: #f8f9fa;display: inline-block;\n",
    "        };\n",
    "        </style>\n",
    "\t\t<div>\n",
    "\t\t\t<h3>فهرست مطالب</h3>\n",
    "\t\t\t<ul style=\"margin-right: 0;\">\n",
    "                <li>\n",
    "\t\t\t\t\t<a href=\"#sec_intro\">\n",
    "                        مقدمه\n",
    "                    </a>\n",
    "\t\t\t\t</li>\n",
    "                <li>\n",
    "\t\t\t\t\t<a href=\"#sec_R\">\n",
    "                        انواع توزیع ها در\n",
    "                        پایتون\n",
    "                    </a>\n",
    "\t\t\t\t</li>\n",
    "                <li><a href = \"#sec_binomial\">  توزیع دو جمله ای </a></li>\n",
    "                <li><a href = \"#sec_poisson\">\n",
    "                    توزیع پوآسون\n",
    "                    </a>\n",
    "                </li>\n",
    "                <li> <a href =\"#sec_uniform\"> \n",
    "                    توزیع یکنواخت  \n",
    "                </a>\n",
    "                </li>\n",
    "                <li> <a href =\"#sec_normal\"> توزیع نرمال</a></li>\n",
    "                <li> <a href =\"#sec_exponential\"> توزیع نمایی</a> </li>\n",
    "                <li><a href =\"#sec_geometric\"> توزیع هندسی </a></li>\n",
    "                <li>\n",
    "\t\t\t\t\t<a href=\"#sec_con\">\n",
    "خلاصه و نتیجه‌گیری \n",
    "                    </a>\n",
    "\t\t\t\t</li>\n",
    "                <li>\n",
    "\t\t\t\t\t<a href=\"#sec_resources\">\n",
    "منابع\n",
    "                    </a>\n",
    "\t\t\t\t</li>\n",
    "\t\t\t</ul>\n",
    "\t\t</div>\n",
    "\t</font>\n",
    "</div>"
   ]
  },
  {
   "cell_type": "markdown",
   "metadata": {},
   "source": [
    "<p></p>\n",
    "<br />\n",
    "<div id=\"sec_intro\" style=\"direction:rtl;line-height:300%;\">\n",
    "\t<font face=\"XB Zar\" size=5>\n",
    "\t\t<font color=#FF7500 size=6>\n",
    "مقدمه\n",
    "        </font>\n",
    "\t\t<p></p>\n",
    "\t\t<hr>\n",
    "        همان طور که قبلاً مشاهده کردید توزیع یک احتمال نشان دهنده  احتمال وقوع مقادیر ممکن برای آن است. همچنین یاد گرفته‌اید که رویداد های متفاوت چه توزیعی دارند. مثلا می‌دانید در پرتاب متوالی یک سکه، متغیر تصادفی تعداد شیر (یا خط) های آمده از توزیع دو جمله‌ای پیروی می‌کند. \n",
    "<br/>\n",
    "        در این قسمت قصد داریم نشان دهیم چگونه می‌توان با استفاده از ابزار های موجود در\n",
    "        Python\n",
    "        برخی توزیع های معروف را که با آن ها بیشتر در مطالعات آماری سر و کار داریم محاسبه کرد.\n",
    "        سعی می‌کنیم برای هر توزیعی که تا کنون آموخته‌ایم، توابع احتمال تجمعی و تابع چگالی(برای توزیع های پیوسته) و تابع احتمال در هر نقطه(برای توزیع های گسسته) را بررسی کنیم و هم چنین یاد خواهیم گرفت که چگونه از یک توزیع، نمونه تولید کنیم.\n",
    "<br/><br/>\n",
    "\t</font>\n",
    "</div>"
   ]
  },
  {
   "cell_type": "markdown",
   "metadata": {},
   "source": [
    "<p></p>\n",
    "<br />\n",
    "<div id=\"sec_R\" style=\"direction:rtl;line-height:300%;\">\n",
    "\t<font face=\"XB Zar\" size=5>\n",
    "\t\t<font color=#FF7500 size=6>\n",
    "آشنایی با توزیع ها در \n",
    "            Python\n",
    "        </font>\n",
    "\t\t<p></p>\n",
    "\t\t<hr> \n",
    "        توزیع هایی که به آن ها خواهیم پرداخت عبارت اند از:\n",
    "        <ul>\n",
    "            <li> توزیع دو جمله ای</li>\n",
    "            <li>توزیع پوآسون </li>\n",
    "            <li>توزیع یکنواخت </li>\n",
    "            <li> توزیع نرمال</li>\n",
    "            <li>توزیع نمایی </li>\n",
    "            <li> توزیع هندسی</li>\n",
    "            <li> توزیع گاما</li>\n",
    "            <li> توزیع بتا</li>\n",
    "        </ul>\n",
    "\t</font>\n",
    "</div>"
   ]
  },
  {
   "cell_type": "markdown",
   "metadata": {},
   "source": [
    "<p></p>\n",
    "<br />\n",
    "<div id=\"sec_binomial\" style=\"direction:rtl;line-height:300%;\">\n",
    "\t<font face=\"XB Zar\" size=5>\n",
    "\t\t<font color=#FF7500 size=6>\n",
    "توزیع دو جمله ای\n",
    "        </font>\n",
    "\t\t<p></p>\n",
    "\t\t<hr>  \n",
    "        فرض کنید در یک آزمون 4 گزینه ای، 10 عدد سوال دارید و میخواهید به طور رندوم به این سوال ها پاسخ دهید. احتمال اینکه تعداد جواب های درست شما کمتر مساوی 6 باشد چقدر است؟\n",
    "        <br><br>\n",
    "        می‌دانید که توزیع تعداد سوال های درست، توزیع دو جمله‌ای با پارامتر\n",
    "        0.25\n",
    "        است. (زیرا تنها یک گزینه از 4 گزینه صحیح میباشد)\n",
    "        احتمال داشتن 6 پاسخ درست در امتحان برابر است با:\n",
    "        <br/>\n",
    "        <div dir = \"ltr\">\n",
    "        $P(x \\, = 6) = \\binom{10}{6} \\times p^6 \\times (1 - p)^4$\n",
    " </div>\n",
    " جواب این عبارت را در\n",
    "         Python\n",
    " به صورت زیر حساب می‌کنیم:\n",
    "    <br/>\n",
    "\t</font>\n",
    "</div>"
   ]
  },
  {
   "cell_type": "code",
   "execution_count": 20,
   "metadata": {},
   "outputs": [
    {
     "data": {
      "text/plain": [
       "0.016222000122070344"
      ]
     },
     "execution_count": 20,
     "metadata": {},
     "output_type": "execute_result"
    }
   ],
   "source": [
    "from scipy.stats import binom\n",
    "binom.pmf(6, 10, 0.25)"
   ]
  },
  {
   "cell_type": "markdown",
   "metadata": {},
   "source": [
    "<div dir = \"rtl\">\n",
    "\t<font face=\"XB Zar\" size=5>\n",
    "\t\t<font color=#FF7500 size=6>\n",
    "        </font>\n",
    "        همچنین برای حساب کردن احتمال داشتن کمتر مساوی 6 پاسخ درست داریم:\n",
    "\t\t <br/>\n",
    "\t</font>\n",
    "</div>"
   ]
  },
  {
   "cell_type": "code",
   "execution_count": 21,
   "metadata": {},
   "outputs": [
    {
     "data": {
      "text/plain": [
       "0.9964942932128915"
      ]
     },
     "execution_count": 21,
     "metadata": {},
     "output_type": "execute_result"
    }
   ],
   "source": [
    "sum([binom.pmf(x, 10, 0.25) for x in range(0, 7)])"
   ]
  },
  {
   "cell_type": "markdown",
   "metadata": {},
   "source": [
    "<div dir = \"rtl\">\n",
    "\t<font face=\"XB Zar\" size=5>\n",
    "\t\t<font color=#FF7500 size=6>\n",
    "        </font>\n",
    "        یا با استفاده از تابع توزیع تجمعی (CDF):\n",
    "\t\t <br/>\n",
    "\t</font>\n",
    "</div>"
   ]
  },
  {
   "cell_type": "code",
   "execution_count": 22,
   "metadata": {},
   "outputs": [
    {
     "data": {
      "text/plain": [
       "0.9964942932128906"
      ]
     },
     "execution_count": 22,
     "metadata": {},
     "output_type": "execute_result"
    }
   ],
   "source": [
    "binom.cdf(6, 10, 0.25)"
   ]
  },
  {
   "cell_type": "markdown",
   "metadata": {},
   "source": [
    "<div dir = \"rtl\" style=\"direction:rtl;line-height:300%;\">\n",
    "\t<font face=\"XB Zar\" size=5>\n",
    "\t\t<font color=#FF7500 size=6>\n",
    "        </font>\n",
    "        امکان دیگری در \n",
    "        Python\n",
    "        وجود دارد که به ما اجازه می‌دهد از توزیع ها نمونه تصادفی بگیریم. برای مثال برای توزیع دو جمله ای می‌توانیم به طور \n",
    "        تصادفی 1000 نمونه گرفته که هر کدام نشان دهنده تعداد پاسخ های درست در یک امتحان 4 گزینه ای 10 سواله هستند\n",
    "        .\n",
    "\t\t <br/>\n",
    "\t</font>\n",
    "</div>"
   ]
  },
  {
   "cell_type": "code",
   "execution_count": 23,
   "metadata": {},
   "outputs": [
    {
     "data": {
      "text/plain": [
       "array([1, 4, 1, 2, 2, 1, 3, 4, 2, 2, 5, 3, 3, 4, 1, 1, 1, 1, 3, 3, 3, 2,\n",
       "       1, 3, 2, 1, 3, 5, 2, 0, 1, 4, 2, 1, 4, 3, 4, 5, 1, 1, 5, 2, 1, 3,\n",
       "       3, 2, 0, 1, 3, 3])"
      ]
     },
     "execution_count": 23,
     "metadata": {},
     "output_type": "execute_result"
    }
   ],
   "source": [
    "import numpy as np\n",
    "data_binomial = np.random.binomial(10, 0.25, 1000)\n",
    "data_binomial[0:50]"
   ]
  },
  {
   "cell_type": "markdown",
   "metadata": {},
   "source": [
    "<div dir = \"rtl\" style=\"direction:rtl;line-height:300%;\">\n",
    "\t<font face=\"XB Zar\" size=5>\n",
    "\t\t<font color=#FF7500 size=6>\n",
    "        </font>\n",
    "       برای درک بیشتر نمودار فراوانی نمونه به دست آمده را می‌کشیم\n",
    "         .\n",
    "         <br/>\n",
    "\t</font>\n",
    "</div>"
   ]
  },
  {
   "cell_type": "code",
   "execution_count": 25,
   "metadata": {},
   "outputs": [
    {
     "data": {
      "image/png": "[encoded data removed]",
      "text/plain": [
       "<matplotlib.figure.Figure at 0x7f85a4ba4e80>"
      ]
     },
     "metadata": {
      "needs_background": "light"
     },
     "output_type": "display_data"
    }
   ],
   "source": [
    "import matplotlib.pyplot as plt\n",
    "\n",
    "plt.hist(data_binomial, bins = max(data_binomial) - min(data_binomial), edgecolor = \"black\")\n",
    "plt.show()"
   ]
  },
  {
   "cell_type": "markdown",
   "metadata": {},
   "source": [
    "<p></p>\n",
    "<br />\n",
    "<div id=\"sec_poisson\" style=\"direction:rtl;line-height:300%;\">\n",
    "\t<font face=\"XB Zar\" size=5>\n",
    "\t\t<font color=#FF7500 size=6>\n",
    "توزیع پوآسون\n",
    "        </font>\n",
    "\t\t<hr>  \n",
    "                $$\n",
    "        \\begin{aligned}\n",
    "        \\end{aligned}\n",
    "        $$\n",
    "         فرض کنید در هر دقیقه به طور متوسط 12 ماشین از روی پلی عبور می‌کنند. احتمال اینکه\n",
    "        17 \n",
    "        ماشین یا بیشتر در یک دقیقه مشخص از روی این پل عبور کنند چقدر است؟\n",
    "    <br/><br>\n",
    "        برای حل این سوال به سراغ توزیع پوآسون می‌رویم. چون در این توزیع امید ریاضی برابر با مولفه \n",
    "        $\\lambda$\n",
    "        می‌باشد در نتیجه \n",
    "        $\\lambda = 12$.\n",
    "<br/>\n",
    "        همچنین می‌دانیم در توزیع پوآسون، احتمال عبور 16 ماشین از روی پل در یک دقیقه مشخص برابر است با:\n",
    "        <div dir = \"ltr\">\n",
    "        $P(x \\, = \\, 16) = \\frac{e^{-\\lambda} \\times \\lambda ^ {16}}{16!}$\n",
    "</div>\n",
    "و احتمال عبور کردن 16 ماشین یا کمتر بر روی پل برابر است با:\n",
    "<div dir = \"ltr\">\n",
    "    $\\sum_{i = 0 }^{16} P(x \\, = \\,i)$\n",
    "</div>\n",
    "در \n",
    "Python\n",
    "می‌توان عبارت‌های نوشته شده را به ترتیب به صورت زیر حساب کرد:\n",
    "\t</font>\n",
    "</div>"
   ]
  },
  {
   "cell_type": "code",
   "execution_count": 26,
   "metadata": {},
   "outputs": [
    {
     "data": {
      "text/plain": [
       "0.0542933401099789"
      ]
     },
     "execution_count": 26,
     "metadata": {},
     "output_type": "execute_result"
    }
   ],
   "source": [
    "from scipy.stats import poisson\n",
    "poisson.pmf(16, 12)"
   ]
  },
  {
   "cell_type": "code",
   "execution_count": 27,
   "metadata": {},
   "outputs": [
    {
     "data": {
      "text/plain": [
       "0.8987089925601621"
      ]
     },
     "execution_count": 27,
     "metadata": {},
     "output_type": "execute_result"
    }
   ],
   "source": [
    "poisson.cdf(16, 12)"
   ]
  },
  {
   "cell_type": "markdown",
   "metadata": {},
   "source": [
    "<div dir = \"rtl\" style=\"direction:rtl;line-height:300%;\">\n",
    "\t<font face=\"XB Zar\" size=5>\n",
    "\t\t<font color=#FF7500 size=6>\n",
    "        </font>\n",
    "      برای به دست آوردن احتمال رد شدن بیش از 16 ماشین بر روی پل داریم:\n",
    "         <br/>\n",
    "\t</font>\n",
    "</div>"
   ]
  },
  {
   "cell_type": "code",
   "execution_count": 28,
   "metadata": {},
   "outputs": [
    {
     "data": {
      "text/plain": [
       "0.10129100743983788"
      ]
     },
     "execution_count": 28,
     "metadata": {},
     "output_type": "execute_result"
    }
   ],
   "source": [
    "1 - poisson.cdf(16, 12)"
   ]
  },
  {
   "cell_type": "markdown",
   "metadata": {},
   "source": [
    "<div dir = \"rtl\" style=\"direction:rtl;line-height:300%;\">\n",
    "\t<font face=\"XB Zar\" size=5>\n",
    "\t\t<font color=#FF7500 size=6>\n",
    "        </font>\n",
    "      برای گرفتن نمونه تصادفی از توزیع پوآسون نیز داریم:\n",
    "      <br/>\n",
    "\t</font>\n",
    "</div>"
   ]
  },
  {
   "cell_type": "code",
   "execution_count": 29,
   "metadata": {},
   "outputs": [
    {
     "data": {
      "text/plain": [
       "array([19, 12,  3,  9, 12, 15,  9,  7, 10,  8, 17,  9, 11, 10, 15, 10, 10,\n",
       "        7, 18,  7, 10, 14, 14, 15, 10, 15,  8, 14, 13, 14, 10, 13, 10, 12,\n",
       "       11,  9, 13, 10, 13, 10, 14, 16, 13, 16, 11,  7, 10, 14, 11, 14])"
      ]
     },
     "execution_count": 29,
     "metadata": {},
     "output_type": "execute_result"
    }
   ],
   "source": [
    "data_poi = np.random.poisson(12, 1000)\n",
    "data_poi[0:50]"
   ]
  },
  {
   "cell_type": "code",
   "execution_count": 30,
   "metadata": {},
   "outputs": [
    {
     "data": {
      "image/png": "[encoded data removed]",
      "text/plain": [
       "<matplotlib.figure.Figure at 0x7f85a4accef0>"
      ]
     },
     "metadata": {
      "needs_background": "light"
     },
     "output_type": "display_data"
    }
   ],
   "source": [
    "plt.hist(data_poi, bins = range(min(data_poi), max(data_poi + 1), 1), edgecolor=\"black\")\n",
    "plt.show()"
   ]
  },
  {
   "cell_type": "markdown",
   "metadata": {},
   "source": [
    "<div dir = \"rtl\" style=\"direction:rtl;line-height:300%;\">\n",
    "\t<font face=\"XB Zar\" size=5>\n",
    "\t\t<font color=#FF7500 size=6>\n",
    "        </font>\n",
    "      دقت کنید که در نمودار کشیده شده این 1000 نمونه تصادفی، تعداد نمونه هایی که 12 شده اند بیشتر از بقیه اعداد است. دلیل این اتفاق چیست؟\n",
    "      <br/>\n",
    "\t</font>\n",
    "</div>"
   ]
  },
  {
   "cell_type": "markdown",
   "metadata": {},
   "source": [
    "<p></p>\n",
    "<br />\n",
    "<div id=\"sec_uniform\" style=\"direction:rtl;line-height:300%;\">\n",
    "\t<font face=\"XB Zar\" size=5>\n",
    "\t\t<font color=#FF7500 size=6>\n",
    "توزیع یکنواخت\n",
    "        </font>\n",
    "\t\t<hr>  \n",
    "        می‌دانید در توزیع یکنواخت احتمال هر کدام از اعداد داخل محدوده با هم یکسان است.\n",
    "        Python\n",
    "    این امکان را به ما می‌دهد تا در بازه های دلخواه اعداد رندوم تولید کنیم.\n",
    "        برای مثال میخواهیم در باز 0 تا 10 \n",
    "\t،\n",
    "        1000 \n",
    "        عدد رندوم تولید کنیم:\n",
    "    </font>\n",
    "</div>"
   ]
  },
  {
   "cell_type": "code",
   "execution_count": 37,
   "metadata": {},
   "outputs": [
    {
     "data": {
      "text/plain": [
       "0.5"
      ]
     },
     "execution_count": 37,
     "metadata": {},
     "output_type": "execute_result"
    }
   ],
   "source": [
    "from scipy.stats import uniform\n",
    "\n",
    "uniform.pdf(1, 0, 2)"
   ]
  },
  {
   "cell_type": "code",
   "execution_count": 38,
   "metadata": {},
   "outputs": [
    {
     "data": {
      "text/plain": [
       "array([0.08742244, 3.38752475, 2.12951739, 5.90167629, 7.95357172,\n",
       "       3.71741641, 8.69295255, 8.42368208, 5.03872583, 5.60280052,\n",
       "       0.55113763, 7.0030142 , 8.08957485, 9.54314927, 4.26596585,\n",
       "       9.83529624, 6.98529708, 6.10272645, 7.56022104, 2.89883711,\n",
       "       5.71915864, 7.87469449, 5.91868262, 5.57683691, 2.70952735,\n",
       "       7.20831519, 8.66660721, 3.66221413, 7.30232401, 2.16081536,\n",
       "       5.21460807, 3.30036285, 5.01522789, 0.43985426, 0.90071784,\n",
       "       5.83253732, 6.19118124, 0.88658745, 8.58992609, 2.80824644,\n",
       "       3.25927528, 5.79647942, 0.14099724, 0.10012681, 5.60802407,\n",
       "       3.78760282, 5.4548499 , 7.67955499, 9.43324396, 2.65296597])"
      ]
     },
     "execution_count": 38,
     "metadata": {},
     "output_type": "execute_result"
    }
   ],
   "source": [
    "data_unif = np.random.uniform(0, 10, 1000)\n",
    "data_unif[0:50]"
   ]
  },
  {
   "cell_type": "code",
   "execution_count": 39,
   "metadata": {},
   "outputs": [
    {
     "data": {
      "image/png": "[encoded data removed]",
      "text/plain": [
       "<matplotlib.figure.Figure at 0x7f85a49f97f0>"
      ]
     },
     "metadata": {
      "needs_background": "light"
     },
     "output_type": "display_data"
    }
   ],
   "source": [
    "plt.hist(data_unif, bins = int(max(data_unif) - min(data_unif)) + 1, edgecolor = \"black\")\n",
    "plt.show()"
   ]
  },
  {
   "cell_type": "markdown",
   "metadata": {},
   "source": [
    "<p></p>\n",
    "<br />\n",
    "<div id=\"sec_normal\" style=\"direction:rtl;line-height:300%;\">\n",
    "\t<font face=\"XB Zar\" size=5>\n",
    "\t\t<font color=#FF7500 size=6>\n",
    "توزیع نرمال\n",
    "        </font>\n",
    "\t\t<hr> \n",
    "        فرض کنید نتایج یک امتحان از توزیع نرمال پیروی می‌کنند. در این امتحان متوسط نمرهٔ دانشجویان 48 و واریانس آن 17 بوده است.\n",
    "       احتمال اینکه دانشجویی در این امتحان نمره 80 به بالا بگیرد چقدر است؟\n",
    "          <br/>\n",
    "        پاسخ:با توجه به توزیع نرمال داریم:\n",
    "        <div dir = \"ltr\">\n",
    "        $f(x) = \\frac{1}{\\sqrt{2 \\, \\pi \\, \\sigma^2}}e^{\\frac{(x - \\mu)^2}{2\\sigma^2}}$\n",
    " </div>\n",
    "    پس احتمال اینکه دانشجویی در این امتحان نمره بالاتر از 80 بگیرد برابر است با:\n",
    "    <div dir = \"ltr\">\n",
    "    $F(80) = P(x >= 80) =  \\int_{80}^{100} f(x) dx$ \n",
    "</div>\n",
    "می‌توان این عبارت را در \n",
    "Python\n",
    "به صورت زیر محاسبه کرد:\n",
    "    </font>\n",
    "</div>"
   ]
  },
  {
   "cell_type": "code",
   "execution_count": 41,
   "metadata": {},
   "outputs": [
    {
     "data": {
      "text/plain": [
       "0.02989405541323209"
      ]
     },
     "execution_count": 41,
     "metadata": {},
     "output_type": "execute_result"
    }
   ],
   "source": [
    "from scipy.stats import norm\n",
    "1 - norm.cdf(80, 48, 17)"
   ]
  },
  {
   "cell_type": "markdown",
   "metadata": {},
   "source": [
    "<div dir = \"rtl\" style=\"direction:rtl;line-height:300%;\">\n",
    "\t<font face=\"XB Zar\" size=5>\n",
    "\t\t<font color=#FF7500 size=6>\n",
    "        </font>\n",
    "    همچنین می‌توان احتمال نقطه‌ای را اینگونه محاسبه کرد :\n",
    "   <br/>\n",
    "\t</font>\n",
    "</div>"
   ]
  },
  {
   "cell_type": "code",
   "execution_count": 42,
   "metadata": {},
   "outputs": [
    {
     "data": {
      "text/plain": [
       "[0.006044821878063721,\n",
       " 0.006103714334973123,\n",
       " 0.006162966233818513,\n",
       " 0.006222576922900339,\n",
       " 0.0062825457065922696,\n",
       " 0.006342871845013564,\n",
       " 0.006403554553705986,\n",
       " 0.006464593003315417,\n",
       " 0.0065259863192782515,\n",
       " 0.0065877335815126845,\n",
       " 0.00664983382411504,\n",
       " 0.006712286035061213,\n",
       " 0.006775089155913342,\n",
       " 0.006838242081531824,\n",
       " 0.006901743659792828,\n",
       " 0.0069655926913113255,\n",
       " 0.007029787929169829,\n",
       " 0.007094328078652921,\n",
       " 0.007159211796987669,\n",
       " 0.00722443769309005,\n",
       " 0.00729000432731749,\n",
       " 0.00735591021122764,\n",
       " 0.0074221538073434516,\n",
       " 0.007488733528924727,\n",
       " 0.007555647739746167,\n",
       " 0.007622894753882124,\n",
       " 0.007690472835498039,\n",
       " 0.007758380198648816,\n",
       " 0.007826615007084065,\n",
       " 0.007895175374060488,\n",
       " 0.007964059362161397,\n",
       " 0.008033264983123482,\n",
       " 0.008102790197670963,\n",
       " 0.008172632915357211,\n",
       " 0.008242790994413907,\n",
       " 0.00831326224160791,\n",
       " 0.008384044412105796,\n",
       " 0.00845513520934634,\n",
       " 0.008526532284920878,\n",
       " 0.008598233238461735,\n",
       " 0.008670235617538775,\n",
       " 0.00874253691756416,\n",
       " 0.00881513458170543,\n",
       " 0.008888026000806985,\n",
       " 0.00896120851332001,\n",
       " 0.009034679405241013,\n",
       " 0.009108435910059012,\n",
       " 0.009182475208711394,\n",
       " 0.009256794429548666,\n",
       " 0.009331390648308057]"
      ]
     },
     "execution_count": 42,
     "metadata": {},
     "output_type": "execute_result"
    }
   ],
   "source": [
    "y = [norm.pdf(x, 48, 17) for x in np.linspace(20, 60, num=400)]\n",
    "y[0:50]"
   ]
  },
  {
   "cell_type": "code",
   "execution_count": 43,
   "metadata": {},
   "outputs": [
    {
     "data": {
      "image/png": "[encoded data removed]",
      "text/plain": [
       "<matplotlib.figure.Figure at 0x7f85a48f29b0>"
      ]
     },
     "metadata": {
      "needs_background": "light"
     },
     "output_type": "display_data"
    }
   ],
   "source": [
    "plt.plot(np.linspace(20, 60, num=400), y, marker=\".\", markersize=1)\n",
    "plt.show()"
   ]
  },
  {
   "cell_type": "markdown",
   "metadata": {},
   "source": [
    "<div dir = \"rtl\" style=\"direction:rtl;line-height:300%;\">\n",
    "\t<font face=\"XB Zar\" size=5>\n",
    "\t\t<font color=#FF7500 size=6>\n",
    "        </font>\n",
    "        همچنین برای توزیع نرمال استاندارد داریم:\n",
    "        <br/>\n",
    "\t</font>\n",
    "</div>"
   ]
  },
  {
   "cell_type": "code",
   "execution_count": 44,
   "metadata": {},
   "outputs": [
    {
     "data": {
      "image/png": "[encoded data removed]",
      "text/plain": [
       "<matplotlib.figure.Figure at 0x7f85a4a4e390>"
      ]
     },
     "metadata": {
      "needs_background": "light"
     },
     "output_type": "display_data"
    }
   ],
   "source": [
    "y_standard_normal = [norm.pdf(x) for x in np.linspace(-3, 3, 50, endpoint=True)]\n",
    "plt.plot(np.linspace(-3,3, 50, endpoint=True), y_standard_normal, marker = \"*\", linestyle=\":\")\n",
    "plt.show()"
   ]
  },
  {
   "cell_type": "markdown",
   "metadata": {},
   "source": [
    "<div dir = \"rtl\" style=\"direction:rtl;line-height:300%;\">\n",
    "\t<font face=\"XB Zar\" size=5>\n",
    "\t\t<font color=#FF7500 size=6>\n",
    "        </font>\n",
    "        مانند قبل میتوانیم نمونه تصادفی از توزیع نرمال بگیریم.\n",
    "      <br/>\n",
    "\t</font>\n",
    "</div>"
   ]
  },
  {
   "cell_type": "code",
   "execution_count": 46,
   "metadata": {},
   "outputs": [
    {
     "data": {
      "text/plain": [
       "array([61.05297726, 19.43799846, 45.21914054, 51.84296738, 51.17721393,\n",
       "       59.88162862, 56.55499576, 44.50674972, 19.98985966, 66.74153753,\n",
       "       47.89225297, 62.13993564, 68.91957635, 51.44297515, 58.35531816,\n",
       "       48.28208041, 59.41964213, 51.80745967, 76.18554282, 47.48522122,\n",
       "       63.39523526, 62.8228104 , 29.98275221, 36.47819398, 63.10355299,\n",
       "       44.65703001, 55.70179257, 68.34373836, 50.74079907, 58.28501873,\n",
       "       57.88811163, 53.75600026, 22.50241059, 42.52901946, 60.04485009,\n",
       "       46.86477101, 56.23755459, 36.98532686, 27.9944467 , 69.04512992,\n",
       "       28.15584993, 29.98001052, 90.28991099, 28.0997294 , 22.34497869,\n",
       "       45.98032992, 40.27399751, 23.73190159, 23.76042176, 18.63787349])"
      ]
     },
     "execution_count": 46,
     "metadata": {},
     "output_type": "execute_result"
    }
   ],
   "source": [
    "data_normal = np.random.normal(48, 17, 1000)\n",
    "data_normal[0:50]"
   ]
  },
  {
   "cell_type": "code",
   "execution_count": 47,
   "metadata": {},
   "outputs": [
    {
     "data": {
      "image/png": "[encoded data removed]",
      "text/plain": [
       "<matplotlib.figure.Figure at 0x7f85a4aea438>"
      ]
     },
     "metadata": {
      "needs_background": "light"
     },
     "output_type": "display_data"
    }
   ],
   "source": [
    "plt.hist(data_normal, bins = 15, edgecolor = \"black\")\n",
    "plt.show()\n"
   ]
  },
  {
   "cell_type": "markdown",
   "metadata": {},
   "source": [
    "<div id=\"sec_exponential\" style=\"direction:rtl;line-height:300%;\">\n",
    "\t<font face=\"XB Zar\" size=5>\n",
    "\t\t<font color=#FF7500 size=6>\n",
    "توزیع نمایی\n",
    "        </font>\n",
    "\t\t<p></p>\n",
    "\t\t<hr> \n",
    "            فرض کنید متوسط انجام سفارش یک مشتری در یک مغازه 3 دقیقه است. احتمال اینکه سفارش مشتری در کمتر از 2 دقیقه \n",
    "        آماده شود چقدر است؟\n",
    "\t<br/><br>\n",
    "        می‌دانید پارامتر توزیع نمایی برابر با معکوس امید ریاضی آن است. پس در اینجا داریم:\n",
    "        <div dir = \"ltr\">\n",
    "            $\\lambda = \\frac{1}{3}$\n",
    "</div>\n",
    "        <div dir = \"ltr\">\n",
    "           $f_{x \\ge 0}(x) = \\lambda e^{-\\lambda x}$\n",
    "</div>\n",
    "        <div dir = \"ltr\">\n",
    "           $f_{x < 0}(x) = 0$\n",
    "</div>\n",
    "        <div dir = \"ltr\">\n",
    "           $F(X) = \\int_{0}^{X} f(x) dx = 1 - e^{-\\lambda X}$\n",
    "</div>\n",
    "در نتیجه جواب مساله برابر است با:\n",
    "        <div dir = \"ltr\">\n",
    "           $F(2) = 1 - e^{-\\frac{1}{3} \\times 2}$\n",
    "</div>\n",
    "و در \n",
    "Python\n",
    "برابر است با:\n",
    "    </font>\n",
    "</div>"
   ]
  },
  {
   "cell_type": "code",
   "execution_count": 49,
   "metadata": {},
   "outputs": [
    {
     "data": {
      "text/plain": [
       "0.486582880967408"
      ]
     },
     "execution_count": 49,
     "metadata": {},
     "output_type": "execute_result"
    }
   ],
   "source": [
    "from scipy.stats import expon\n",
    "expon.cdf(2, 0, 3)"
   ]
  },
  {
   "cell_type": "markdown",
   "metadata": {},
   "source": [
    "<div dir = \"rtl\" style=\"direction:rtl;line-height:300%;\">\n",
    "\t<font face=\"XB Zar\" size=5>\n",
    "\t\t<font color=#FF7500 size=6>\n",
    "        </font>\n",
    "       همچنین می‌توانیم در \n",
    "        Python\n",
    "        به تابع توزیع احتمال \n",
    "        (PMF)\n",
    "        این توزیع دسترسی داشته باشیم:\n",
    "      <br/>\n",
    "\t</font>\n",
    "</div>"
   ]
  },
  {
   "cell_type": "code",
   "execution_count": 51,
   "metadata": {},
   "outputs": [
    {
     "data": {
      "image/png": "[encoded data removed]",
      "text/plain": [
       "<matplotlib.figure.Figure at 0x7f85a4ade160>"
      ]
     },
     "metadata": {
      "needs_background": "light"
     },
     "output_type": "display_data"
    }
   ],
   "source": [
    "exp_x = np.linspace(-1, 5, 60)\n",
    "exp_y = [expon.pdf(x, 0, 3) for x in exp_x]\n",
    "plt.plot(exp_x, exp_y, linestyle = \"--\", marker='*')\n",
    "plt.show()"
   ]
  },
  {
   "cell_type": "markdown",
   "metadata": {},
   "source": [
    "<div dir = \"rtl\" style=\"direction:rtl;line-height:300%;\">\n",
    "\t<font face=\"XB Zar\" size=5>\n",
    "\t\t<font color=#FF7500 size=6>\n",
    "        </font>\n",
    "      همچنین نمونه گیری تصادفی نیز به صورت زیر است:\n",
    "      <br/>\n",
    "\t</font>\n",
    "</div>"
   ]
  },
  {
   "cell_type": "code",
   "execution_count": 52,
   "metadata": {},
   "outputs": [
    {
     "data": {
      "text/plain": [
       "(array([482., 257., 139.,  58.,  31.,  13.,  11.,   4.,   1.,   4.]),\n",
       " array([3.00224999e-03, 2.04495026e+00, 4.08689827e+00, 6.12884628e+00,\n",
       "        8.17079429e+00, 1.02127423e+01, 1.22546903e+01, 1.42966383e+01,\n",
       "        1.63385863e+01, 1.83805343e+01, 2.04224823e+01]),\n",
       " <a list of 10 Patch objects>)"
      ]
     },
     "execution_count": 52,
     "metadata": {},
     "output_type": "execute_result"
    },
    {
     "data": {
      "image/png": "[encoded data removed]",
      "text/plain": [
       "<matplotlib.figure.Figure at 0x7f85a4b9e6d8>"
      ]
     },
     "metadata": {
      "needs_background": "light"
     },
     "output_type": "display_data"
    }
   ],
   "source": [
    "data_exp = np.random.exponential(3, 1000)\n",
    "data_exp[0:50]\n",
    "plt.hist(data_exp, edgecolor = \"black\")"
   ]
  },
  {
   "cell_type": "markdown",
   "metadata": {},
   "source": [
    "<div id=\"sec_geometric\" style=\"direction:rtl;line-height:300%;\">\n",
    "\t<font face=\"XB Zar\" size=5>\n",
    "\t\t<font color=#FF7500 size=6>\n",
    "توزیع هندسی\n",
    "        </font>\n",
    "\t\t<hr>   \n",
    "        احتمال اینکه در پرتاب یک سکه، اولین باری که شیر می‌آید پرتاب هشتم باشد را بیابید.\n",
    "    <br/><br>\n",
    "        می‌دانید این رخداد از توزیع هندسی پیروی می‌کند. در نتیجه احتمال آن برابر است با:\n",
    "        <div dir = \"ltr\"> \n",
    "        $P(x = 7) = (1 - \\frac{1}{2})^6 \\times \\frac{1}{2}^1$\n",
    "</div>\n",
    "در\n",
    "Python\n",
    "این مقدار به صورت زیر محاسبه می‌شود:\n",
    "    </font>\n",
    "</div>"
   ]
  },
  {
   "cell_type": "code",
   "execution_count": 54,
   "metadata": {},
   "outputs": [
    {
     "data": {
      "text/plain": [
       "0.0078125"
      ]
     },
     "execution_count": 54,
     "metadata": {},
     "output_type": "execute_result"
    }
   ],
   "source": [
    "from scipy.stats import geom\n",
    "geom.pmf(7, 0.5)"
   ]
  },
  {
   "cell_type": "markdown",
   "metadata": {},
   "source": [
    "<div dir = \"rtl\" style=\"direction:rtl;line-height:300%;\">\n",
    "\t<font face=\"XB Zar\" size=5>\n",
    "\t\t<font color=#FF7500 size=6>\n",
    "            تمرین\n",
    "        </font>\n",
    "        <hr>  \n",
    "       <ul>\n",
    "           <li>\n",
    "                یک نمونه تصادفی 1000 تایی از توزیع هندسی با پارامتر 0.45 تولید کنید.</li>\n",
    "           <li>\n",
    "               نمودار مستطیلی فراوانی داده به دست آمده را ترسیم کنید.</li>\n",
    "                      <li>\n",
    "                          احتمال اینکه اولین شیر در کمتر از 4 پرتاب مشاهده شود چقدر است؟\n",
    "             </li>\n",
    "           <ul/>\n",
    "\t</font>\n",
    "</div>"
   ]
  },
  {
   "cell_type": "markdown",
   "metadata": {},
   "source": [
    "<div id=\"sec_geometric\" style=\"direction:rtl;line-height:300%;\">\n",
    "\t<font face=\"XB Zar\" size=5>\n",
    "\t\t<font color=#FF7500 size=6>\n",
    "توزیع گاما و بتا\n",
    "        </font>\n",
    "\t\t<hr>   \n",
    "                $$\n",
    "        \\begin{aligned}\n",
    "        \\end{aligned}\n",
    "        $$\n",
    "شخصی مشغول ماهیگیریست و انتظار دارد هر نیم ساعت یک ماهی بگیرد. احتمال این که مجبور باشد بین 2 تا 4 ساعت برای گرفتن 4 ماهی منتظر بماند چقدر است؟\n",
    "        <br \\><br>\n",
    "        مدت زمانی که باید برای گرفتن 4 ماهی صبر کنیم از توزیع گاما با پارامتر $\\Theta = 2$ و $k = 4$ پیروی می‌کند. بنابراین داریم:\n",
    "        <div dir = \"ltr\">\n",
    "           $P(2 \\leq  X \\leq  4) =  F(4) - F(2)$\n",
    "</div>\n",
    "    </font>\n",
    "</div>"
   ]
  },
  {
   "cell_type": "code",
   "execution_count": 55,
   "metadata": {},
   "outputs": [
    {
     "data": {
      "text/plain": [
       "0.12388838262529915"
      ]
     },
     "execution_count": 55,
     "metadata": {},
     "output_type": "execute_result"
    }
   ],
   "source": [
    "from scipy.stats import gamma\n",
    "\n",
    "gamma.cdf(4, 4, 0, 2) - gamma.cdf(2, 4, 0, 2)"
   ]
  },
  {
   "cell_type": "markdown",
   "metadata": {},
   "source": [
    "<div id=\"sec_con\" style=\"direction:rtl;line-height:300%;\">\n",
    "\t<font face=\"XB Zar\" size=5>\n",
    "\t\t<font color=#FF7500 size=6>\n",
    "خلاصه و نتیجه گیری\n",
    "        </font>\n",
    "\t\t<hr>\n",
    "        اکنون با نحوه استفاده از انواع توزیع ها در \n",
    "        Python\n",
    "        آشنا شده اید. این به شما کمک میکند در هنگام مواجه با مسائل جدید بتوانید شهودی از داده ها و توزیع آن داشته باشید ، با دیدی باز تر به سراغ حل مساله بروید و در حل این مسائل از این ابزارها استفاده کنید.\n",
    "        <br/>         \n",
    "  </font>\n",
    "</div>"
   ]
  },
  {
   "cell_type": "markdown",
   "metadata": {},
   "source": [
    "<div dir = \"rtl\" style=\"direction:rtl;line-height:300%;\">\n",
    "\t<font face=\"XB Zar\" size=5>\n",
    "\t\t<font color=#FF7500 size=6>\n",
    "            تمرین\n",
    "        </font>\n",
    "\t\t<hr>\n",
    "    در نمودارهای رسم شده برای توزیع های مختلف در جزوه با تغییر پارامترها و تعداد نمونه گیری تغییرات را مشاهده کرده و با نمودارهای زیر مقایسه کنید.\n",
    "\t</font>\n",
    "</div>"
   ]
  },
  {
   "cell_type": "code",
   "execution_count": 56,
   "metadata": {},
   "outputs": [
    {
     "name": "stderr",
     "output_type": "stream",
     "text": [
      "/home/sayyedata/anaconda3/lib/python3.7/site-packages/IPython/core/display.py:694: UserWarning: Consider using IPython.display.IFrame instead\n",
      "  warnings.warn(\"Consider using IPython.display.IFrame instead\")\n"
     ]
    },
    {
     "data": {
      "text/html": [
       "<iframe src=https://seeing-theory.brown.edu/probability-distributions/index.html#section2 width=\"100%\" \n",
       "                height=1255px scrolling=\"no\" style=\"margin-top:-100px;\" frameborder=\"0\"></iframe>"
      ],
      "text/plain": [
       "<IPython.core.display.HTML object>"
      ]
     },
     "metadata": {},
     "output_type": "display_data"
    }
   ],
   "source": [
    "iframe = '''<iframe src=https://seeing-theory.brown.edu/probability-distributions/index.html#section2 width=\"100%\" \n",
    "                height=1255px scrolling=\"no\" style=\"margin-top:-100px;\" frameborder=\"0\"></iframe>'''\n",
    "from IPython.core.display import display, HTML\n",
    "display(HTML(iframe))\n"
   ]
  }
 ],
 "metadata": {
  "kernelspec": {
   "display_name": "Python 3",
   "language": "python",
   "name": "python3"
  },
  "language_info": {
   "codemirror_mode": {
    "name": "ipython",
    "version": 3
   },
   "file_extension": ".py",
   "mimetype": "text/x-python",
   "name": "python",
   "nbconvert_exporter": "python",
   "pygments_lexer": "ipython3",
   "version": "3.7.3"
  },
  "latex_envs": {
   "LaTeX_envs_menu_present": true,
   "autoclose": false,
   "autocomplete": true,
   "bibliofile": "biblio.bib",
   "cite_by": "apalike",
   "current_citInitial": 1,
   "eqLabelWithNumbers": true,
   "eqNumInitial": 1,
   "hotkeys": {
    "equation": "Ctrl-E",
    "itemize": "Ctrl-I"
   },
   "labels_anchors": false,
   "latex_user_defs": false,
   "report_style_numbering": false,
   "user_envs_cfg": false
  },
  "toc": {
   "base_numbering": 1,
   "nav_menu": {},
   "number_sections": true,
   "sideBar": true,
   "skip_h1_title": false,
   "title_cell": "Table of Contents",
   "title_sidebar": "Contents",
   "toc_cell": false,
   "toc_position": {},
   "toc_section_display": true,
   "toc_window_display": false
  },
  "varInspector": {
   "cols": {
    "lenName": 16,
    "lenType": 16,
    "lenVar": 40
   },
   "kernels_config": {
    "python": {
     "delete_cmd_postfix": "",
     "delete_cmd_prefix": "del ",
     "library": "var_list.py",
     "varRefreshCmd": "print(var_dic_list())"
    },
    "r": {
     "delete_cmd_postfix": ") ",
     "delete_cmd_prefix": "rm(",
     "library": "var_list.r",
     "varRefreshCmd": "cat(var_dic_list()) "
    }
   },
   "types_to_exclude": [
    "module",
    "function",
    "builtin_function_or_method",
    "instance",
    "_Feature"
   ],
   "window_display": false
  }
 },
 "nbformat": 4,
 "nbformat_minor": 2
}
