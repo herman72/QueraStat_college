{
 "cells": [
  {
   "cell_type": "markdown",
   "metadata": {},
   "source": [
    "<div style=\"direction:rtl;line-height:300%;\">\n",
    "\t<font face=\"XB Zar\" size=5>\n",
    "\t\t<div align=center>\n",
    "\t\t\t<font face=\"IranNastaliq\" size=30>\n",
    "\t\t\t\t<p></p>\n",
    "\t\t\t\t<p></p>\n",
    "به نام خدا\n",
    "\t\t\t\t<p></p>\n",
    "\t\t\t</font>\n",
    "\t\t</div>\n",
    "\t\t<hr/>\n",
    "\t\t<font color=#43a8a5 size=6>\n",
    "\t\t\t<br />\n",
    "\t\t\t<div align=center>\n",
    "قضیه حد مرکزی\n",
    "            </div>\n",
    "\t\t</font>\n",
    "\t\t<br />\n",
    "\t\t<hr />\n",
    "\t\t<style type=\"text/css\" scoped>\n",
    "        p{\n",
    "        border: 1px solid #a2a9b1;background-color: #f8f9fa;display: inline-block;\n",
    "        };\n",
    "        </style>\n",
    "\t\t<div>\n",
    "\t\t\t<h3>فهرست مطالب</h3>\n",
    "\t\t\t<ul style=\"margin-right: 0;\">\n",
    "                <li>\n",
    "\t\t\t\t\t<a href=\"#sec_intro_to_intro\">\n",
    "                        مقدمه‌ای بر مقدمه\n",
    "                    </a>\n",
    "\t\t\t\t</li>\n",
    "                <li>\n",
    "\t\t\t\t\t<a href=\"#sec_intro\">\n",
    "                        مقدمه\n",
    "                    </a>\n",
    "\t\t\t\t</li>\n",
    "                <li>\n",
    "\t\t\t\t\t<a href=\"#sec_theorem\">\n",
    "                        صورت قضیه حد مرکزی\n",
    "                    </a>\n",
    "\t\t\t\t</li>\n",
    "                <li>\n",
    "                    <a href=\"#sec_observations\">\n",
    "                        مشاهدات مهم\n",
    "                    </a>\n",
    "                </li>\n",
    "                <li>\n",
    "\t\t\t\t\t<a href=\"#sec_astronomer\">\n",
    "                        مثال، دغدغه‌های یک ستاره شناس\n",
    "                    </a>\n",
    "\t\t\t\t</li>\n",
    "                <li>\n",
    "\t\t\t\t\t<a href=\"#sec_student\">\n",
    "مثال، دغدغه‌های یک دانشجو\n",
    "                    </a>\n",
    "\t\t\t\t</li>\n",
    "                <li>\n",
    "\t\t\t\t\t<a href=\"#sec_plane\">\n",
    "                        مثال، دغدغه های یک خلبان\n",
    "                    </a>\n",
    "\t\t\t\t</li>\n",
    "                <li>\n",
    "\t\t\t\t\t<a href=\"#sec_accidents\">\n",
    "                        مثال، تعداد تصادف‌ها\n",
    "                    </a>\n",
    "\t\t\t\t</li>\n",
    "                <li>\n",
    "\t\t\t\t\t<a href=\"#sec_conc\">\n",
    "خلاصه و نتیجه‌گیری\n",
    "                    </a>\n",
    "\t\t\t\t</li>\n",
    "\t\t\t</ul>\n",
    "\t\t</div>\n",
    "\t</font>\n",
    "</div>"
   ]
  },
  {
   "cell_type": "markdown",
   "metadata": {},
   "source": [
    "<p></p>\n",
    "<br />\n",
    "<div id=\"sec_intro_to_intro\" style=\"direction:rtl;line-height:300%;\">\n",
    "\t<font face=\"XB Zar\" size=5>\n",
    "\t\t<font color=#FF7500 size=6>\n",
    "یک مثال\n",
    "        </font>\n",
    "\t\t<p></p>\n",
    "\t\t<hr>\n",
    "         تا حالا دقت کردید وقتی یک لودر یک توده خاک را به طور تصادفی از یک زمین برمی‌دارد و در نقطه‌ای تخلیه می‌کند خاک های \n",
    "        ریخته شده به چه شکلی در می‌آید؟\n",
    "        می‌دانیم تعداد دانه های خاک بسیار زیاد است و این دانه‌ها از هم مستقل اند!\n",
    "<img src=\"figs/normal_dist_of_sand.jpg\" style=\"float:center; width:40%\"/>\n",
    "        <br /><br />\n",
    "        همانطور که احتمالا حدس زده‌اید به شکل منحنی نرمال در می‌آید\n",
    "        <br />\n",
    "\t</font>\n",
    "</div>"
   ]
  },
  {
   "cell_type": "markdown",
   "metadata": {},
   "source": [
    "<p></p>\n",
    "<br />\n",
    "<div id=\"sec_intro\" style=\"direction:rtl;line-height:300%;\">\n",
    "\t<font face=\"XB Zar\" size=5>\n",
    "\t\t<font color=#FF7500 size=6>\n",
    "مقدمه\n",
    "        </font>\n",
    "\t\t<p></p>\n",
    "\t\t<hr>\n",
    "قضیه حد مرکزی یکی از مهم ترین نتایج نظریه‌ی احتمال است. اگر بخواهیم شهودی ساده از آن ارائه کنیم، قضیه حد مرکزی بیان می‌کند که مجموع تعداد زیادی متغیر تصادفی مستقل توزیعی نزدیک به توزیع نرمال دارند. \n",
    "<br />\n",
    "این قضیه از دو جهت مهم است: اولا این قضیه روش ساده ای برای محاسبه‌ی احتمال‌های تقریبی برای مجموع متغیر‌های تصادفی ارائه میکند. دوما دلیل این را بیان می‌کند که چرا نمونه گیری های تجربی در بسیاری از جمعیت های طبیعی منحنی زنگی شکل دارند.\n",
    "<br>\n",
    "       قضیه‌ی حد مرکزی به صورت ناباورانه‌ای عمومیت دارد. تنها فرض‌های لازم برای این قضیه استقلال متغیر‌ها و فرض خوش تعریف بودن و متناهی بودن میانگین و واریانس آن‌هاست؛ یعنی متغیر‌ها میتوانند گسسته، پیوسته و حتی هر دو این‌ها باشند.\n",
    "        <br>\n",
    "    </font>\n",
    "</div>"
   ]
  },
  {
   "cell_type": "markdown",
   "metadata": {},
   "source": [
    "<p></p>\n",
    "<br />\n",
    "<div id=\"sec_theorem\" style=\"direction:rtl;line-height:300%;\">\n",
    "\t<font face=\"XB Zar\" size=5>\n",
    "\t\t<font color=#FF7500 size=6>\n",
    "صورت قضیه حد مرکزی\n",
    "        </font>\n",
    "\t\t<p></p>\n",
    "\t\t<hr>\n",
    "        فرض کنید $X_1,X_2,...$ دنباله ای از متغیر های تصادفی مستقل با توزیع یکسان باشند که میانگین و واریانس آن‌ها به ترتیب برابر با $\\mu$ و $\\sigma^2$ باشد. آنگاه توزیع \n",
    "        $\\frac{X_1 + ... + X_n - n\\mu}{\\sigma\\sqrt{n}}$ وقتی که $n$ به بی نهایت میل می‌کند، به توزیع نرمال استاندارد میل می‌کند.\n",
    "        <br/> <br/>\n",
    "        به عبارتی دیگر برای $-\\infty < a < \\infty$ داریم:\n",
    "        <br/> <br/>\n",
    "        $$P\\{\\frac{X_1 + \\ldots +X_n - n\\mu}{\\sigma\\sqrt{n}}\\leq a\\}\\rightarrow \\frac{1}{\\sqrt{2\\pi}}\\int_{-\\infty}^{a}e^{-x^2/2}dx\\quad as\\quad n\\rightarrow \\infty$$\n",
    "\t</font>\n",
    "</div>"
   ]
  },
  {
   "cell_type": "markdown",
   "metadata": {},
   "source": [
    "<p></p>\n",
    "<br />\n",
    "<div id=\"sec_observations\" style=\"direction:rtl;line-height:300%;\">\n",
    "\t<font face=\"XB Zar\" size=5>\n",
    "\t\t<font color=#FF7500 size=6>\n",
    "مشاهدات مهم\n",
    "        </font>\n",
    "\t\t<p></p>\n",
    "\t\t<hr>\n",
    "        <ul>\n",
    "            <li>\n",
    "                با توجه به قضیه بالا برای میانگین $n$ نمونه متغیر تصادفی \n",
    "                $$\\bar{X}_n = \\frac{\\sum_{i=1}^{n}X_i}{n}$$\n",
    "                داریم\n",
    "                $$\\bar{X}_n \\sim \\mathcal{N}(\\mu, \\frac{\\sigma^2}{n})$$\n",
    "                البته این نکته که $\\mathbb{E}(\\bar{X}_n) = \\mu$ و $Var(\\bar{X}_n) = \\frac{\\sigma^2}{n}$ بدون قضیه حد مرکزی نیز قابل استنتاج هستند و این قضیه نرمال بودن را به ویژگی‌های توزیع $\\bar{X}_n$ اضافه می‌کند که باعث می‌شود داشتن $\\mu$ و $\\sigma$ برای داشتن توزیع $\\bar{X}_n$ کافی باشد.\n",
    "            </li>\n",
    "            <br>\n",
    "            <li>\n",
    "            به عنوان یک حالت خاص قضیه دقت کنید که اگر $X_i$ها توزیع نرمال داشته باشند آنگاه $\\bar{X}_n$ به ازای تمام $n$ها دقیقا توزیع نرمال خواهد داشت. اثبات این قضیه در حالت کلی نیازمند تابع مولد گشتاور است که از موضوعات این دوره خارج است اماعلی‌رغم قدرت این قضیه اثبات آن نیازمند ریاضیات پیچیده‌ای نیست.\n",
    "            </li>\n",
    "            <br>\n",
    "            <li>\n",
    "                هرچند به لحاظ نظری نیاز داریم $n$ به بی‌نهایت میل کند اما برای اکثر توزیع‌های معمول برای $n$های نه‌چندان بزرگ نیز توزیع نرمال تقریب خوبی برای توزیع میانگین است. کد زیر دو توزیع میانگین نمونه استاندارد شده از دو متغیر تصادفی گاما و هندسی (یکی پیوسته و دیگری گسسته!) را با توزیع نرمال استاندارد مقایسه می‌کند. می‌توانید با تغییر مقادیر $n$ میزان دور شدن یا نزدیک توزیع‌ها به هم را مشاهده کنید.<br>\n",
    "             <b>نکته</b>:\n",
    "             نمودار توزیع چگالی احتمال میانگین متغیرهای تصادفی گاما و هندسی به صورت تجربی (و نه نظری) رسم شده‌است. هرچند به دلیل زیاد بودن تعداد نمونه میانگین‌ها (در کد زیر 60001 نمونه میانگین) توزیع تجربی به توزیع نظری بسیار نزدیک است. \n",
    "            </li>\n",
    "       </ul>\n",
    "</div>"
   ]
  },
  {
   "cell_type": "code",
   "execution_count": 6,
   "metadata": {},
   "outputs": [
    {
     "data": {
      "image/png": "[encoded data removed]",
      "text/plain": [
       "<Figure size 432x288 with 1 Axes>"
      ]
     },
     "metadata": {
      "needs_background": "light"
     },
     "output_type": "display_data"
    }
   ],
   "source": [
    "import matplotlib.pyplot as plt\n",
    "import scipy.stats\n",
    "import numpy as np\n",
    "import pandas as pd\n",
    "\n",
    "n = 30\n",
    "x = np.arange(-3, 3, 0.0001)\n",
    "normal_pdf = lambda x: scipy.stats.norm(0, 1).pdf(x)\n",
    "y = normal_pdf(x)\n",
    "\n",
    "gamma_sample = np.array([ (sum(np.random.gamma(1, size=n))  / n - 1) / ((1 / n)**.5) for _ in range(len(x)) ])\n",
    "geometric_sample = np.array([ (sum(np.random.geometric(.5, size=n)) / n - 2) / ((2 / n)**.5)  for _ in range(len(x)) ])\n",
    "\n",
    "df = pd.DataFrame({\"x\": x, \"normal\": y, \"gamma\": gamma_sample, \"geometric\": geometric_sample})\n",
    "\n",
    "df.plot(\"x\", \"normal\")\n",
    "df[\"gamma\"].plot(kind=\"density\", legend=True)\n",
    "df[\"geometric\"].plot(kind=\"density\", legend=True)\n",
    "plt.show()"
   ]
  },
  {
   "cell_type": "code",
   "execution_count": 2,
   "metadata": {},
   "outputs": [
    {
     "data": {
      "text/plain": [
       "array([0.54659708, 0.13587143, 0.09018331, 0.43142698, 0.23298943,\n",
       "       0.88906499, 3.41012108, 0.34667938, 0.04759781, 4.42190463,\n",
       "       0.33587013, 1.96982125, 0.38597918, 0.64412316, 0.32906657,\n",
       "       0.42075957, 0.32228762, 2.39877897, 1.24872076, 0.31946139,\n",
       "       0.57645767, 0.76590877, 0.06476901, 1.59822978, 0.97588042,\n",
       "       0.6885007 , 0.19875869, 0.52157775, 0.50227484, 3.34163582])"
      ]
     },
     "execution_count": 2,
     "metadata": {},
     "output_type": "execute_result"
    }
   ],
   "source": [
    "np.random.gamma(1, size=n)"
   ]
  },
  {
   "cell_type": "code",
   "execution_count": 3,
   "metadata": {},
   "outputs": [
    {
     "data": {
      "text/plain": [
       "0       -1.238622\n",
       "1       -0.549306\n",
       "2       -1.308595\n",
       "3       -0.227005\n",
       "4        1.367930\n",
       "           ...   \n",
       "59995   -1.086085\n",
       "59996    1.552271\n",
       "59997   -0.013187\n",
       "59998    0.956563\n",
       "59999   -1.221998\n",
       "Name: gamma, Length: 60000, dtype: float64"
      ]
     },
     "execution_count": 3,
     "metadata": {},
     "output_type": "execute_result"
    }
   ],
   "source": [
    "df[\"gamma\"]"
   ]
  },
  {
   "cell_type": "markdown",
   "metadata": {},
   "source": [
    "<p></p>\n",
    "<br />\n",
    "<div id=\"sec_astronomer\" style=\"direction:rtl;line-height:300%;\">\n",
    "\t<font face=\"XB Zar\" size=5>\n",
    "\t\t<font color=#FF7500 size=6>\n",
    "مثال: دغدغه‌های یک ستاره شناس\n",
    "        </font>\n",
    "\t\t<p></p>\n",
    "\t\t<hr>\n",
    "       یک ستاره‌شناس خوش‌ذوق می‌خواهد فاصله‌ی خودش تا یک ستاره را اندازه بگیرد. اگرچه او در اندازه‌گیری فاصله اجرام آسمانی مهارت دارد اما می‌داند به دلیل تغییرات جوی سطح ستاره ها و خطای اندازه‌گیری، هر اندازه گیری نمی‌تواند نتیجه‌ی درست را نشان دهد اما می‌تواند یک تخمین باشد. در نتیجه تصمیم می‌گیرد تعداد نسبتا زیادی اندازه‌گیری انجام دهد و میانگین آن‌ها را به عنوان مقدار واقعی در نظر بگیرد. اگر این مقادیر اندازه گیری شده مستقل از هم و هم توزیع باشند و دارای میانگین $\\mu$ و واریانس 9 سال نوری باشند، این ستاره شناس چند اندازه‌گیری باید انجام دهد تا حدودا مطمئن شود که اندازه تخمین زده شده با دقت 1 سال نوری دقیق است؟\n",
    "        <br/><br/>\n",
    "        <font color=blue size=5>\n",
    "پاسخ:\n",
    "        </font>\n",
    "        <br/><br/>\n",
    "        فرض کنید این ستاره شناس می‌خواهد $n$ مشاهده انجام دهد. اگر متغیر های تصادفی $X_1, \\ldots, X_n$ نمایشگر این اندازه‌ها باشند، از قضیه‌ی حد مرکزی نتیجه می‌شود که\n",
    "        <br/>\n",
    "        $$Z_n = \\frac{\\sum_{i=1}^{n} X_i - n\\mu}{3\\sqrt{n}}$$\n",
    "        <br/>\n",
    "        توزیع تقریبا نرمال استاندارد دارد. در نتیجه،\n",
    "        <br/>\n",
    "        $$P\\{-1\\leq \\frac{\\sum_{i=1}^{n}X_i}{n}-\\mu\\leq 1 \\}= P\\{-\\frac{\\sqrt{n}}{3}\\leq Z_n \\leq \\frac{\\sqrt{n}}{3}\\} \\approx \\Phi(\\frac{\\sqrt{n}}{3})- \\Phi(\\frac{-\\sqrt{n}}{3}) = 2\\Phi(\\frac{\\sqrt{n}}{3})-1$$\n",
    "        حال به طور مثال اگر این ستاره شناس بخواهد 95 درصد مطمئن باشد باید $n$را طوری انتخاب کنیم که،\n",
    "        <br/>\n",
    "        $$2\\Phi(\\frac{\\sqrt{n}}{3})-1 = 0.95 \\Rightarrow \\Phi(\\frac{\\sqrt{n}}{3}) = 0.975$$\n",
    "        در نتیجه،\n",
    "        <br/>\n",
    "        $$\\frac{\\sqrt{n}}{3} = 1.96 \\Rightarrow n = 34.57$$\n",
    "        پس ستاره‌شناس باید حداقل 35 مشاهده انجام دهد.\n",
    "\t</font>\n",
    "</div>\n",
    "\n"
   ]
  },
  {
   "cell_type": "markdown",
   "metadata": {},
   "source": [
    "<p></p>\n",
    "<br />\n",
    "<div id=\"sec_student\" style=\"direction:rtl;line-height:300%;\">\n",
    "\t<font face=\"XB Zar\" size=5>\n",
    "\t\t<font color=#FF7500 size=6>\n",
    "مثال: دغدغه های یک دانشجو\n",
    "        </font>\n",
    "\t\t<p></p>\n",
    "\t\t<hr>\n",
    "      استاد درس آمار و احتمال مهندسی می‌خواهد 50 برگه‌ی امتحانی این درس را تصحیح کند. زمان نمره‌دهی به این برگه‌ها مستقل از هم است و توزیع یکسانی دارد. از آنجایی که استاد دقت زیادی در تصحیح برگه‌ها دارد هر برگه را با میانگین زمان نیم ساعت و واریانس 4 دقیقه تصحیح می‌کند. از طرفی دانشجویان مثل همیشه برای دیدن نمرات خود سر از پا نمی‌شناسند. به آنها کمک کنید احتمال این که استاد در نصف یک روز حداقل نصف برگه ‌ها را تصحیح کرده باشند را پیدا کنند. \n",
    "\t<br/><br/>\n",
    "    <font color=blue size=5>\n",
    "پاسخ:\n",
    "        </font>\n",
    "        <br/><br/>\n",
    "        فرض کنید $X_i$ زمان تصحیح برگه امتحانی $i$ ام باشد، پس زمان تصحیح نصف اول برگه ها به صورت \n",
    "        $$X = \\sum_{i=1}^{25}X_i$$\n",
    "        <br/>\n",
    "        خواهد بود. لذا احتمال اینکه استاد در 12 ساعت (720 دقیقه) این تعداد برگه ها را تصحیح کند برابر $P\\{X\\leq720\\}$ خواهد بود. طبق مستقل بودن متغیر‌ها،\n",
    "        $$E[X] = \\sum_{i=1}^{25}E[X_i] = 25(30) = 750$$\n",
    "        $$Var(X) = \\sum_{i=1}^{25}Var(X_i) = 25(16) = 400$$\n",
    "        <br/>\n",
    "        برای تقریب احتمال $P\\{X\\leq720\\}$ از قضیه حد مرکزی استفاده می‌کنیم. طبق این قضیه،\n",
    "        $$Z = \\frac{X-750}{\\sqrt{400}}$$\n",
    "        <br/>\n",
    "        تقریب توزیع نرمال استاندارد دارد، لذا\n",
    "        $$P\\{X\\leq720\\} = P\\{\\frac{X-750}{\\sqrt{400}}\\leq \\frac{720-750}{\\sqrt{400}}\\} \\approx P\\{Z\\leq -1.5\\} = \\Phi(-1.5)= 0.067$$\n",
    "    </font>\n",
    "</div>"
   ]
  },
  {
   "cell_type": "markdown",
   "metadata": {},
   "source": [
    "<p></p>\n",
    "<br />\n",
    "<div id=\"sec_plane\" style=\"direction:rtl;line-height:300%;\">\n",
    "\t<font face=\"XB Zar\" size=5>\n",
    "\t\t<font color=#FF7500 size=6>\n",
    "مثال: دغدغه‌های یک خلبان\n",
    "        </font>\n",
    "\t\t<p></p>\n",
    "\t\t<hr>\n",
    "     یک شرکت هواپیمایی می‌خواهد در پرواز یک هواپیما 100 بسته بار  در هواپیما قرار دهد. وزن بسته ها مستقل از هم اند و توزیع یکنواخت بین 10 تا 50 کیلو دارند. احتمال اینکه وزن کل بار هواپیما بیشتر از 3300 کیلوگرم شود چقدر است؟  \n",
    "\t<br/>\n",
    "    <font color=blue size=5>\n",
    "پاسخ:\n",
    "        </font>\n",
    "        <br/><br/>\n",
    "        همانطور که می‌دانید محاسبه CDF وزن کل بار کار آسانی نیست  اما به کمک قضیه حد مرکزی میتوان تقریبی از این احتمال به دست آورد. حال اگر فرض کنیم وزن بار $i$ام برابر با $X_i$ است. ورن کل بار با  \n",
    "        $$X = \\sum_{i=1}^{100}X_i$$\n",
    "        <br/>\n",
    "        برابر خواهد بود. لذا احتمال اینکه وزن کل بار هواپیما بیشتر از 3300 کیلوگرم شود برابر $P\\{X\\geq3300\\}$ خواهد بود. طبق یکنواخت بودن توزیع وزن بارها،\n",
    "        $$E[X] = \\frac{10+50}{2} = 30$$\n",
    "        $$Var(X) = \\frac{(50-10)^2}{12} = 133.33$$\n",
    "        <br/>\n",
    "        پس خواهیم داشت:\n",
    "        $$P\\{X\\geq3300\\} = P\\{\\frac{X-30\\times100}{\\sqrt{133.33\\times100}}\\geq \\frac{3300-30\\times100}{\\sqrt{133.33\\times100}}\\} \\approx P\\{Z\\geq 2.59\\} = 1 - \\Phi(2.59)= 0.0048$$\n",
    "        <br/>\n",
    "    </font>\n",
    "</div>"
   ]
  },
  {
   "cell_type": "markdown",
   "metadata": {},
   "source": [
    "<p></p>\n",
    "<br />\n",
    "<div id=\"sec_accidents\" style=\"direction:rtl;line-height:300%;\">\n",
    "\t<font face=\"XB Zar\" size=5>\n",
    "\t\t<font color=#FF7500 size=6>\n",
    "مثال: تعداد تصادف‌ها\n",
    "        </font>\n",
    "\t\t<p></p>\n",
    "\t\t<hr>\n",
    "        در این مثال می‌خواهیم قضیه‌ی حد مرکزی را بر روی داده‌های واقعی بررسی کنیم. داده‌هایی که برای این مسئله انتخاب کردیم تعداد تصادفات در بریتانیا از سال 2005 تا 2015 را نشان می‌دهد.\n",
    "        <br/>\n",
    "        ابتدا داده ها را میخوانیم:\n",
    "        <br/>\n",
    "    </font>\n",
    "</div>"
   ]
  },
  {
   "cell_type": "code",
   "execution_count": 66,
   "metadata": {},
   "outputs": [
    {
     "data": {
      "text/html": [
       "<div>\n",
       "<style scoped>\n",
       "    .dataframe tbody tr th:only-of-type {\n",
       "        vertical-align: middle;\n",
       "    }\n",
       "\n",
       "    .dataframe tbody tr th {\n",
       "        vertical-align: top;\n",
       "    }\n",
       "\n",
       "    .dataframe thead th {\n",
       "        text-align: right;\n",
       "    }\n",
       "</style>\n",
       "<table border=\"1\" class=\"dataframe\">\n",
       "  <thead>\n",
       "    <tr style=\"text-align: right;\">\n",
       "      <th></th>\n",
       "      <th>Index</th>\n",
       "      <th>Date</th>\n",
       "      <th>Accidents</th>\n",
       "    </tr>\n",
       "  </thead>\n",
       "  <tbody>\n",
       "    <tr>\n",
       "      <td>0</td>\n",
       "      <td>1</td>\n",
       "      <td>2005-01-01</td>\n",
       "      <td>308</td>\n",
       "    </tr>\n",
       "    <tr>\n",
       "      <td>1</td>\n",
       "      <td>2</td>\n",
       "      <td>2005-01-02</td>\n",
       "      <td>306</td>\n",
       "    </tr>\n",
       "    <tr>\n",
       "      <td>2</td>\n",
       "      <td>3</td>\n",
       "      <td>2005-01-03</td>\n",
       "      <td>293</td>\n",
       "    </tr>\n",
       "    <tr>\n",
       "      <td>3</td>\n",
       "      <td>4</td>\n",
       "      <td>2005-01-04</td>\n",
       "      <td>473</td>\n",
       "    </tr>\n",
       "    <tr>\n",
       "      <td>4</td>\n",
       "      <td>5</td>\n",
       "      <td>2005-01-05</td>\n",
       "      <td>523</td>\n",
       "    </tr>\n",
       "  </tbody>\n",
       "</table>\n",
       "</div>"
      ],
      "text/plain": [
       "   Index        Date  Accidents\n",
       "0      1  2005-01-01        308\n",
       "1      2  2005-01-02        306\n",
       "2      3  2005-01-03        293\n",
       "3      4  2005-01-04        473\n",
       "4      5  2005-01-05        523"
      ]
     },
     "execution_count": 66,
     "metadata": {},
     "output_type": "execute_result"
    }
   ],
   "source": [
    "import pandas as pd\n",
    "\n",
    "accidents_data = pd.read_csv(\"data/accidents.csv\")\n",
    "accidents_data.head()"
   ]
  },
  {
   "cell_type": "markdown",
   "metadata": {},
   "source": [
    "<div style=\"direction:rtl;line-height:300%;\">\n",
    "\t<font face=\"XB Zar\" size=5>\n",
    "\t\tهمانطور که می‌بینیم، داده ها زمان و تعداد وقوع تصادف را در این 11 سال نشان میدهند.\n",
    "        <br/>\n",
    "        10000 بار از این داده ها نمونه‌های 100 تایی می‌گیریم و هر بار $$\\frac{X_1 + \\ldots +X_{100} - 100\\times\\mu}{\\sigma\\sqrt{100}}$$ را محاسبه می‌کنیم. \n",
    "\t</font>\n",
    "</div>"
   ]
  },
  {
   "cell_type": "code",
   "execution_count": 82,
   "metadata": {},
   "outputs": [
    {
     "data": {
      "text/plain": [
       "array([-0.2802919 , -0.48271893, -0.20336963, ..., -0.25498852,\n",
       "       -0.92603414,  0.77840149])"
      ]
     },
     "execution_count": 82,
     "metadata": {},
     "output_type": "execute_result"
    }
   ],
   "source": [
    "mu = accidents_data[\"Accidents\"].mean()\n",
    "sigma = accidents_data[\"Accidents\"].std()\n",
    "\n",
    "sample_z = lambda n: ( sum(accidents_data[\"Accidents\"].sample(n)) - 100 * mu ) / (sigma * 10)\n",
    "z = np.array([sample_z(100) for _ in range(10000)])"
   ]
  },
  {
   "cell_type": "markdown",
   "metadata": {},
   "source": [
    "<div style=\"direction:rtl;line-height:300%;\">\n",
    "\t<font face=\"XB Zar\" size=5>\n",
    "\t\tتابع توزیع احتمال آن را به همراه تابع توزیع احتمال متغیر نرمال استاندارد رسم می‌کنیم.\n",
    "        </font>\n",
    "</div>"
   ]
  },
  {
   "cell_type": "code",
   "execution_count": 101,
   "metadata": {},
   "outputs": [
    {
     "data": {
      "image/png": "[encoded data removed]",
      "text/plain": [
       "<Figure size 432x288 with 1 Axes>"
      ]
     },
     "metadata": {
      "needs_background": "light"
     },
     "output_type": "display_data"
    }
   ],
   "source": [
    "import matplotlib.pyplot as plt\n",
    "import scipy.stats\n",
    "\n",
    "plt.hist(z, bins=50, color=\"white\", ec='black', density=True)\n",
    "x = np.arange(-4, 4, 0.0001)\n",
    "normal_pdf = lambda x: scipy.stats.norm(0, 1).pdf(x)\n",
    "y = normal_pdf(x)\n",
    "plt.plot(x, y, color=\"red\")\n",
    "plt.show()"
   ]
  },
  {
   "cell_type": "markdown",
   "metadata": {},
   "source": [
    "<div style=\"direction:rtl;line-height:300%;\">\n",
    "\t<font face=\"XB Zar\" size=5>\n",
    "    مشاهده می‌کنیم که توزیع مورد نظر  بسیار نزدیک به توزیع نرمال استاندارد است.\n",
    "    </font>\n",
    "</div>"
   ]
  },
  {
   "cell_type": "markdown",
   "metadata": {},
   "source": [
    "<div style=\"direction:rtl;line-height:300%;\">\n",
    "\t<font face=\"XB Zar\" size=5>\n",
    "\t\t<font color=blue size=6>\n",
    "کنجکاوی:\n",
    "        </font><br/>\n",
    "آیا قضیه حد مرکزی را می‌توان برای متغیرهای تصادفی مستقل غیرهم توزیع هم در نظر گرفت؟\n",
    "        <br/>\n",
    "        اگر جوابتان مثبت است، تعریف قضیه در این حالت چگونه خواهد بود؟\n",
    "</div>\n",
    "\n"
   ]
  },
  {
   "cell_type": "markdown",
   "metadata": {},
   "source": [
    "<div style=\"direction:rtl;line-height:300%;\">\n",
    "\t<font face=\"XB Zar\" size=5>\n",
    "\t\t<font color=darkpink size=6>\n",
    "تمرین:\n",
    "        </font>\n",
    "قضیه حد مرکزی را برای داده‌های دلخواه دیگری آزمایش کنید و توزیع نمونه گیری های خود را رسم کنید. این کار را برای تعداد نمونه گیری های مختلف امتحان کنید.\n",
    "</font>\n",
    "</div>\n",
    "\n"
   ]
  },
  {
   "cell_type": "markdown",
   "metadata": {},
   "source": [
    "<p></p>\n",
    "<br/>\n",
    "<div id=\"sec_conc\" style=\"direction:rtl;line-height:300%;\">\n",
    "\t<font face=\"XB Zar\" size=5>\n",
    "\t\t<font color=#FF7500 size=6>\n",
    "خلاصه و نتیجه‌گیری\n",
    "        </font>\n",
    "\t\t<p></p>\n",
    "\t\t<hr>\n",
    "        در این بخش با موارد زیر آشنا شدیم:\n",
    "        <ul>\n",
    "            <li>\n",
    "            قضیه حد مرکزی:<br>\n",
    "                توزیع مجموع $n$ متغیرتصادفی i.i.d هنگامی که $n$ به بی‌نهایت میل‌کند به توزیع نرمال میل می‌کند.\n",
    "            </li>\n",
    "            <li>\n",
    "            اهمیت این قضیه:<br>\n",
    "                این قضیه نرمال بودن بسیاری از مشاهدات ما در دنیای واقعی را توجیه می‌کند. همچنین عمومیت بسیار بالایی دارد و تنها شرط آن مستقل بودن متغیرهای تصادفی و متناهی بودن امیدریاضی و واریانس آن‌هاست. \n",
    "            </li>\n",
    "            <li>\n",
    "            مشاهده این قضیه در داده‌های واقعی\n",
    "            </li>\n",
    "            <li>\n",
    "            کاربرد آن در بعضی مثال‌های تئوری\n",
    "            </li>\n",
    "        </ul>\n",
    "\t</font>\n",
    "</div>"
   ]
  },
  {
   "cell_type": "markdown",
   "metadata": {},
   "source": [
    "<p></p>\n",
    "<br/>\n",
    "<div id=\"sec_refs\" style=\"direction:rtl;line-height:300%;\">\n",
    "\t<font face=\"XB Zar\" size=5>\n",
    "\t\t<font color=#FF7500 size=6>\n",
    "منابع\n",
    "        </font>\n",
    "\t\t<hr>       \n",
    "        <ul>\n",
    "            <li>\n",
    "            <a href=\"https://ocw.mit.edu/courses/mathematics/18-05-introduction-to-probability-and-statistics-spring-2014/readings/MIT18_05S14_Reading6b.pdf\">Jeremy Orloff and Jonathan Bloom. Introduction to Probability. Spring 2014. Massachusetts Institute of Technology: MIT OpenCouseWare, https://ocw.mit.edu/. License: Creative Commons BY-NC-SA.</a>\n",
    "            </li>\n",
    "            <li>\n",
    "                <a href=\"https://drive.google.com/file/d/1VmkAAGOYCTORq1wxSQqy255qLJjTNvBI/view\">Joseph K. BBlitzstein and Jessica Hwang. Introduction to Probability. Second Edition. Harvard University and Stanford University</a>\n",
    "            </li>\n",
    "            <li>\n",
    "Ross, Sheldon (2009). A first course in probability (8th ed.). Prentice Hall press. ISBN 978-0-13-603313-4.\n",
    "            </li>\n",
    "            <li>\n",
    "https://www.kaggle.com/silicon99/dft-accident-data/version/3\n",
    "            </li>\n",
    "        </ul>\n",
    "\t</font>\n",
    "</div>"
   ]
  }
 ],
 "metadata": {
  "kernelspec": {
   "display_name": "Python 3",
   "language": "python",
   "name": "python3"
  },
  "language_info": {
   "codemirror_mode": {
    "name": "ipython",
    "version": 3
   },
   "file_extension": ".py",
   "mimetype": "text/x-python",
   "name": "python",
   "nbconvert_exporter": "python",
   "pygments_lexer": "ipython3",
   "version": "3.6.9"
  },
  "latex_envs": {
   "LaTeX_envs_menu_present": true,
   "autoclose": false,
   "autocomplete": true,
   "bibliofile": "biblio.bib",
   "cite_by": "apalike",
   "current_citInitial": 1,
   "eqLabelWithNumbers": true,
   "eqNumInitial": 1,
   "hotkeys": {
    "equation": "Ctrl-E",
    "itemize": "Ctrl-I"
   },
   "labels_anchors": false,
   "latex_user_defs": false,
   "report_style_numbering": false,
   "user_envs_cfg": false
  },
  "toc": {
   "base_numbering": 1,
   "nav_menu": {},
   "number_sections": true,
   "sideBar": true,
   "skip_h1_title": false,
   "title_cell": "Table of Contents",
   "title_sidebar": "Contents",
   "toc_cell": false,
   "toc_position": {},
   "toc_section_display": true,
   "toc_window_display": false
  },
  "varInspector": {
   "cols": {
    "lenName": 16,
    "lenType": 16,
    "lenVar": 40
   },
   "kernels_config": {
    "python": {
     "delete_cmd_postfix": "",
     "delete_cmd_prefix": "del ",
     "library": "var_list.py",
     "varRefreshCmd": "print(var_dic_list())"
    },
    "r": {
     "delete_cmd_postfix": ") ",
     "delete_cmd_prefix": "rm(",
     "library": "var_list.r",
     "varRefreshCmd": "cat(var_dic_list()) "
    }
   },
   "types_to_exclude": [
    "module",
    "function",
    "builtin_function_or_method",
    "instance",
    "_Feature"
   ],
   "window_display": false
  }
 },
 "nbformat": 4,
 "nbformat_minor": 4
}
